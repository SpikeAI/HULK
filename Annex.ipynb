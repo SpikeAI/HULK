{
 "cells": [
  {
   "cell_type": "markdown",
   "metadata": {},
   "source": [
    "# Annex to \"An adaptive algorithm for unsupervised learning\"\n",
    "\n",
    "\n"
   ]
  },
  {
   "cell_type": "code",
   "execution_count": 1,
   "metadata": {
    "ExecuteTime": {
     "end_time": "2018-05-17T19:50:16.203382Z",
     "start_time": "2018-05-17T19:50:16.185203Z"
    }
   },
   "outputs": [],
   "source": [
    "%load_ext autoreload\n",
    "%autoreload 2"
   ]
  },
  {
   "cell_type": "code",
   "execution_count": 2,
   "metadata": {
    "ExecuteTime": {
     "end_time": "2018-05-17T19:50:16.322996Z",
     "start_time": "2018-05-17T19:50:16.205558Z"
    }
   },
   "outputs": [],
   "source": [
    "import numpy as np\n",
    "np.set_printoptions(precision=2, suppress=True)\n",
    "seed = 42\n",
    "np.random.seed(seed)"
   ]
  },
  {
   "cell_type": "code",
   "execution_count": 3,
   "metadata": {
    "ExecuteTime": {
     "end_time": "2018-05-17T19:50:16.617172Z",
     "start_time": "2018-05-17T19:50:16.325918Z"
    }
   },
   "outputs": [],
   "source": [
    "# for figures\n",
    "import matplotlib.pyplot as plt\n",
    "\n",
    "fontsize = 12\n",
    "FORMATS = ['.png']\n",
    "FORMATS = ['.pdf', '.eps', '.svg']\n",
    "FORMATS = ['.png', '.pdf']\n",
    "FORMATS = ['.pdf']\n",
    "FORMATS = ['.pdf', '.eps', '.png', '.tiff']\n",
    "FORMATS = ['.pdf', '.png', '.tiff']\n",
    "dpi_export = 600\n",
    "\n",
    "fig_width_pt = 318.670  # Get this from LaTeX using \\showthe\\columnwidth\n",
    "fig_width_pt = 450  # Get this from LaTeX using \\showthe\\columnwidth\n",
    "#fig_width_pt = 1024 #221     # Get this from LaTeX using \\showthe\\columnwidth / x264 asks for a multiple of 2\n",
    "ppi = 72.27 # (constant) definition of the ppi = points per inch\n",
    "inches_per_pt = 1.0/ppi  # Convert pt to inches\n",
    "#inches_per_cm = 1./2.54\n",
    "fig_width = fig_width_pt*inches_per_pt  # width in inches\n",
    "grid_fig_width = 2*fig_width\n",
    "phi = (np.sqrt(5) + 1. ) /2\n",
    "#legend.fontsize = 8\n",
    "#fig_width = 9\n",
    "fig_height = fig_width/phi\n",
    "figsize = (fig_width, fig_height)\n",
    "\n",
    "\n",
    "def adjust_spines(ax, spines):\n",
    "    for loc, spine in ax.spines.items():\n",
    "        if loc in spines:\n",
    "            spine.set_position(('outward', 10))  # outward by 10 points\n",
    "            spine.set_smart_bounds(True)\n",
    "        else:\n",
    "            spine.set_color('none')  # don't draw spine\n",
    "\n",
    "    # turn off ticks where there is no spine\n",
    "    if 'left' in spines:\n",
    "        ax.yaxis.set_ticks_position('left')\n",
    "    else:\n",
    "        # no yaxis ticks\n",
    "        ax.yaxis.set_ticks([])\n",
    "\n",
    "    if 'bottom' in spines:\n",
    "        ax.xaxis.set_ticks_position('bottom')\n",
    "    else:\n",
    "        # no xaxis ticks\n",
    "        ax.xaxis.set_ticks([])\n",
    "\n",
    "import matplotlib\n",
    "pylab_defaults = { \n",
    "    'font.size': 10,\n",
    "    'xtick.labelsize':'medium',\n",
    "    'ytick.labelsize':'medium',\n",
    "    'text.usetex': False,\n",
    "#    'font.family' : 'sans-serif',\n",
    "#    'font.sans-serif' : ['Helvetica'],\n",
    "    }\n",
    "    \n",
    "#matplotlib.rcParams.update({'font.size': 18, 'font.family': 'STIXGeneral', 'mathtext.fontset': 'stix'})\n",
    "matplotlib.rcParams.update(pylab_defaults)\n",
    "#matplotlib.rcParams.update({'text.usetex': True})\n",
    "\n",
    "import matplotlib.cm as cm\n",
    "\n",
    "\n",
    "from IPython.display import Image\n",
    "\n",
    "DEBUG = True\n",
    "DEBUG = False\n",
    "hl, hs = 10*'🐶', 10*' '"
   ]
  },
  {
   "cell_type": "code",
   "execution_count": 4,
   "metadata": {
    "ExecuteTime": {
     "end_time": "2018-05-17T19:50:16.638100Z",
     "start_time": "2018-05-17T19:50:16.619439Z"
    }
   },
   "outputs": [],
   "source": [
    "tag = 'NIPS'"
   ]
  },
  {
   "cell_type": "code",
   "execution_count": 5,
   "metadata": {
    "ExecuteTime": {
     "end_time": "2018-05-17T19:50:16.767834Z",
     "start_time": "2018-05-17T19:50:16.640122Z"
    },
    "scrolled": false
   },
   "outputs": [],
   "source": [
    "from shl_scripts.shl_experiments import SHL\n",
    "shl = SHL(datapath='../../SHL_master/database')\n",
    "data = shl.get_data(matname=tag + '_test')"
   ]
  },
  {
   "cell_type": "code",
   "execution_count": 6,
   "metadata": {
    "ExecuteTime": {
     "end_time": "2018-05-17T19:50:16.919169Z",
     "start_time": "2018-05-17T19:50:16.769688Z"
    },
    "scrolled": false
   },
   "outputs": [
    {
     "name": "stdout",
     "output_type": "stream",
     "text": [
      "number of patches, size of patches =  (65520, 324)\n",
      "average of patches =  -1.3425387896193824e-05  +/-  0.005884598016072352\n",
      "average energy of data =  0.18808326809398868 +/- 0.07074991784868241\n"
     ]
    }
   ],
   "source": [
    "print('number of patches, size of patches = ', data.shape)\n",
    "print('average of patches = ', data.mean(), ' +/- ', data.mean(axis=1).std())\n",
    "SE = np.sqrt(np.mean(data**2, axis=1))\n",
    "print('average energy of data = ', SE.mean(), '+/-', SE.std())"
   ]
  },
  {
   "cell_type": "markdown",
   "metadata": {},
   "source": [
    "## figure 1:  Role of homeostasis in learning sparse representations\n",
    "\n",
    "#### TODO : cross-validate with 10 different learnings"
   ]
  },
  {
   "cell_type": "code",
   "execution_count": 7,
   "metadata": {
    "ExecuteTime": {
     "end_time": "2018-05-17T19:50:16.941109Z",
     "start_time": "2018-05-17T19:50:16.921918Z"
    }
   },
   "outputs": [],
   "source": [
    "fname = 'figure_map'\n",
    "N_cv = 10"
   ]
  },
  {
   "cell_type": "code",
   "execution_count": 8,
   "metadata": {
    "ExecuteTime": {
     "end_time": "2018-05-17T19:50:17.210771Z",
     "start_time": "2018-05-17T19:50:16.943821Z"
    }
   },
   "outputs": [
    {
     "name": "stdout",
     "output_type": "stream",
     "text": [
      "-rw-r--r--  1 lolo  staff       1025 May 17 20:45 data_cache/NIPS.py\r\n",
      "-rw-r--r--  1 lolo  staff    1954242 May 17 21:01 data_cache/NIPS_EMP_0_dico.pkl\r\n",
      "-rw-r--r--  1 lolo  staff    1954242 May 17 21:02 data_cache/NIPS_EMP_1_dico.pkl\r\n",
      "-rw-r--r--  1 lolo  staff    1954242 May 17 21:04 data_cache/NIPS_EMP_2_dico.pkl\r\n",
      "-rw-r--r--  1 lolo  staff    1954242 May 17 21:09 data_cache/NIPS_EMP_3_dico.pkl\r\n",
      "-rw-r--r--  1 lolo  staff    1954242 May 17 21:11 data_cache/NIPS_EMP_4_dico.pkl\r\n",
      "-rw-r--r--  1 lolo  staff    1954242 May 17 21:12 data_cache/NIPS_EMP_5_dico.pkl\r\n",
      "-rw-r--r--  1 lolo  staff    1954242 May 17 21:19 data_cache/NIPS_EMP_6_dico.pkl\r\n",
      "-rw-r--r--  1 lolo  staff    1954242 May 17 21:25 data_cache/NIPS_EMP_7_dico.pkl\r\n",
      "-rw-r--r--  1 lolo  staff    1954242 May 17 21:30 data_cache/NIPS_EMP_8_dico.pkl\r\n",
      "-rw-r--r--  1 lolo  staff    1954242 May 17 21:40 data_cache/NIPS_EMP_9_dico.pkl\r\n",
      "-rw-r--r--  1 lolo  staff    1954519 May 17 15:11 data_cache/NIPS_EMP_dico.pkl\r\n",
      "-rw-r--r--  1 lolo  staff    1954242 May 17 21:00 data_cache/NIPS_HAP_0_dico.pkl\r\n",
      "-rw-r--r--  1 lolo  staff    1954242 May 17 21:01 data_cache/NIPS_HAP_1_dico.pkl\r\n",
      "-rw-r--r--  1 lolo  staff    1954242 May 17 21:03 data_cache/NIPS_HAP_2_dico.pkl\r\n",
      "-rw-r--r--  1 lolo  staff    1954242 May 17 21:08 data_cache/NIPS_HAP_3_dico.pkl\r\n",
      "-rw-r--r--  1 lolo  staff    1954242 May 17 21:09 data_cache/NIPS_HAP_4_dico.pkl\r\n",
      "-rw-r--r--  1 lolo  staff    1954242 May 17 21:11 data_cache/NIPS_HAP_5_dico.pkl\r\n",
      "-rw-r--r--  1 lolo  staff    1954242 May 17 21:18 data_cache/NIPS_HAP_6_dico.pkl\r\n",
      "-rw-r--r--  1 lolo  staff    1954242 May 17 21:24 data_cache/NIPS_HAP_7_dico.pkl\r\n",
      "-rw-r--r--  1 lolo  staff    1954242 May 17 21:30 data_cache/NIPS_HAP_8_dico.pkl\r\n",
      "-rw-r--r--  1 lolo  staff    1954242 May 17 21:38 data_cache/NIPS_HAP_9_dico.pkl\r\n",
      "-rw-r--r--  1 lolo  staff    1954519 May 17 15:13 data_cache/NIPS_HAP_dico.pkl\r\n",
      "-rw-r--r--  1 lolo  staff    1954242 May 17 18:35 data_cache/NIPS_HEH_0_dico.pkl\r\n",
      "-rw-r--r--  1 lolo  staff    1954242 May 17 19:08 data_cache/NIPS_HEH_1_dico.pkl\r\n",
      "-rw-r--r--  1 lolo  staff    1954242 May 17 19:39 data_cache/NIPS_HEH_2_dico.pkl\r\n",
      "-rw-r--r--  1 lolo  staff    1954242 May 17 20:08 data_cache/NIPS_HEH_3_dico.pkl\r\n",
      "-rw-r--r--  1 lolo  staff    1954242 May 17 20:36 data_cache/NIPS_HEH_4_dico.pkl\r\n",
      "-rw-r--r--  1 lolo  staff    1954242 May 17 21:18 data_cache/NIPS_HEH_5_dico.pkl\r\n",
      "-rw-r--r--  1 lolo  staff    1954242 May 17 21:46 data_cache/NIPS_HEH_6_dico.pkl\r\n",
      "-rw-r--r--  1 lolo  staff    1954242 May 17 21:49 data_cache/NIPS_HEH_7_dico.pkl\r\n",
      "-rw-r--r--  1 lolo  staff          0 May 17 21:24 data_cache/NIPS_HEH_8_dico.pkl_lock\r\n",
      "-rw-r--r--  1 lolo  staff          0 May 17 21:24 data_cache/NIPS_HEH_8_dico.pkl_lock_pid-15222_host-ada\r\n",
      "-rw-r--r--  1 lolo  staff          0 May 17 21:30 data_cache/NIPS_HEH_9_dico.pkl_lock\r\n",
      "-rw-r--r--  1 lolo  staff          0 May 17 21:30 data_cache/NIPS_HEH_9_dico.pkl_lock_pid-15389_host-ada\r\n",
      "-rw-r--r--  1 lolo  staff    1954519 May 17 15:08 data_cache/NIPS_HEH_dico.pkl\r\n",
      "-rw-r--r--  1 lolo  staff    1954243 May 17 17:52 data_cache/NIPS_None_0_dico.pkl\r\n",
      "-rw-r--r--  1 lolo  staff    1954243 May 17 18:41 data_cache/NIPS_None_1_dico.pkl\r\n",
      "-rw-r--r--  1 lolo  staff    1954243 May 17 19:12 data_cache/NIPS_None_2_dico.pkl\r\n",
      "-rw-r--r--  1 lolo  staff    1954243 May 17 19:42 data_cache/NIPS_None_3_dico.pkl\r\n",
      "-rw-r--r--  1 lolo  staff    1954243 May 17 20:11 data_cache/NIPS_None_4_dico.pkl\r\n",
      "-rw-r--r--  1 lolo  staff    1954243 May 17 20:40 data_cache/NIPS_None_5_dico.pkl\r\n",
      "-rw-r--r--  1 lolo  staff    1954243 May 17 21:15 data_cache/NIPS_None_6_dico.pkl\r\n",
      "-rw-r--r--  1 lolo  staff    1954243 May 17 21:19 data_cache/NIPS_None_7_dico.pkl\r\n",
      "-rw-r--r--  1 lolo  staff    1954243 May 17 21:25 data_cache/NIPS_None_8_dico.pkl\r\n",
      "-rw-r--r--  1 lolo  staff    1954243 May 17 21:33 data_cache/NIPS_None_9_dico.pkl\r\n",
      "-rw-r--r--  1 lolo  staff    1954520 May 17 14:56 data_cache/NIPS_None_dico.pkl\r\n",
      "-rw-r--r--  1 lolo  staff    1954242 May 17 17:58 data_cache/NIPS_OLS_0_dico.pkl\r\n",
      "-rw-r--r--  1 lolo  staff    1954242 May 17 18:46 data_cache/NIPS_OLS_1_dico.pkl\r\n",
      "-rw-r--r--  1 lolo  staff    1954242 May 17 19:16 data_cache/NIPS_OLS_2_dico.pkl\r\n",
      "-rw-r--r--  1 lolo  staff    1954242 May 17 19:46 data_cache/NIPS_OLS_3_dico.pkl\r\n",
      "-rw-r--r--  1 lolo  staff    1954242 May 17 20:15 data_cache/NIPS_OLS_4_dico.pkl\r\n",
      "-rw-r--r--  1 lolo  staff    1954242 May 17 20:43 data_cache/NIPS_OLS_5_dico.pkl\r\n",
      "-rw-r--r--  1 lolo  staff    1954242 May 17 21:17 data_cache/NIPS_OLS_6_dico.pkl\r\n",
      "-rw-r--r--  1 lolo  staff    1954242 May 17 21:22 data_cache/NIPS_OLS_7_dico.pkl\r\n",
      "-rw-r--r--  1 lolo  staff    1954242 May 17 21:28 data_cache/NIPS_OLS_8_dico.pkl\r\n",
      "-rw-r--r--  1 lolo  staff    1954242 May 17 21:35 data_cache/NIPS_OLS_9_dico.pkl\r\n",
      "-rw-r--r--  1 lolo  staff    1954519 May 17 14:58 data_cache/NIPS_OLS_dico.pkl\r\n",
      "-rw-r--r--  1 lolo  staff  169827968 May 17 14:53 data_cache/NIPS_test_data.npy\r\n"
     ]
    }
   ],
   "source": [
    "!ls -l {shl.data_cache}/{tag}*\n",
    "!rm {shl.data_cache}/{tag}*lock*"
   ]
  },
  {
   "cell_type": "raw",
   "metadata": {},
   "source": [
    "!rm {shl.data_cache}/{tag}*\n",
    "!ls -l {shl.data_cache}/{tag}*"
   ]
  },
  {
   "cell_type": "markdown",
   "metadata": {},
   "source": [
    "### learning\n",
    "\n",
    "The actual learning is done in a second object (here ``dico``) from which we can access another set of properties and functions  (see the [shl_learn.py](https://github.com/bicv/SHL_scripts/blob/master/shl_scripts/shl_learn.py) script):"
   ]
  },
  {
   "cell_type": "code",
   "execution_count": null,
   "metadata": {
    "ExecuteTime": {
     "start_time": "2018-05-17T19:50:16.230Z"
    },
    "scrolled": false
   },
   "outputs": [
    {
     "name": "stdout",
     "output_type": "stream",
     "text": [
      "🐶🐶🐶🐶🐶🐶🐶🐶🐶🐶          None          🐶🐶🐶🐶🐶🐶🐶🐶🐶🐶\n",
      "🐶🐶🐶🐶🐶🐶🐶🐶🐶🐶          OLS          🐶🐶🐶🐶🐶🐶🐶🐶🐶🐶\n",
      "🐶🐶🐶🐶🐶🐶🐶🐶🐶🐶          HEH          🐶🐶🐶🐶🐶🐶🐶🐶🐶🐶\n",
      "🐶🐶🐶🐶🐶🐶🐶🐶🐶🐶          None          🐶🐶🐶🐶🐶🐶🐶🐶🐶🐶\n",
      "🐶🐶🐶🐶🐶🐶🐶🐶🐶🐶          OLS          🐶🐶🐶🐶🐶🐶🐶🐶🐶🐶\n",
      "🐶🐶🐶🐶🐶🐶🐶🐶🐶🐶          HEH          🐶🐶🐶🐶🐶🐶🐶🐶🐶🐶\n",
      "🐶🐶🐶🐶🐶🐶🐶🐶🐶🐶          None          🐶🐶🐶🐶🐶🐶🐶🐶🐶🐶\n",
      "🐶🐶🐶🐶🐶🐶🐶🐶🐶🐶          OLS          🐶🐶🐶🐶🐶🐶🐶🐶🐶🐶\n",
      "🐶🐶🐶🐶🐶🐶🐶🐶🐶🐶          HEH          🐶🐶🐶🐶🐶🐶🐶🐶🐶🐶\n",
      "🐶🐶🐶🐶🐶🐶🐶🐶🐶🐶          None          🐶🐶🐶🐶🐶🐶🐶🐶🐶🐶\n",
      "🐶🐶🐶🐶🐶🐶🐶🐶🐶🐶          OLS          🐶🐶🐶🐶🐶🐶🐶🐶🐶🐶\n",
      "🐶🐶🐶🐶🐶🐶🐶🐶🐶🐶          HEH          🐶🐶🐶🐶🐶🐶🐶🐶🐶🐶\n",
      "🐶🐶🐶🐶🐶🐶🐶🐶🐶🐶          None          🐶🐶🐶🐶🐶🐶🐶🐶🐶🐶\n",
      "🐶🐶🐶🐶🐶🐶🐶🐶🐶🐶          OLS          🐶🐶🐶🐶🐶🐶🐶🐶🐶🐶\n",
      "🐶🐶🐶🐶🐶🐶🐶🐶🐶🐶          HEH          🐶🐶🐶🐶🐶🐶🐶🐶🐶🐶\n",
      "🐶🐶🐶🐶🐶🐶🐶🐶🐶🐶          None          🐶🐶🐶🐶🐶🐶🐶🐶🐶🐶\n",
      "🐶🐶🐶🐶🐶🐶🐶🐶🐶🐶          OLS          🐶🐶🐶🐶🐶🐶🐶🐶🐶🐶\n",
      "🐶🐶🐶🐶🐶🐶🐶🐶🐶🐶          HEH          🐶🐶🐶🐶🐶🐶🐶🐶🐶🐶\n",
      "🐶🐶🐶🐶🐶🐶🐶🐶🐶🐶          None          🐶🐶🐶🐶🐶🐶🐶🐶🐶🐶\n",
      "🐶🐶🐶🐶🐶🐶🐶🐶🐶🐶          OLS          🐶🐶🐶🐶🐶🐶🐶🐶🐶🐶\n",
      "🐶🐶🐶🐶🐶🐶🐶🐶🐶🐶          HEH          🐶🐶🐶🐶🐶🐶🐶🐶🐶🐶\n",
      "🐶🐶🐶🐶🐶🐶🐶🐶🐶🐶          None          🐶🐶🐶🐶🐶🐶🐶🐶🐶🐶\n",
      "🐶🐶🐶🐶🐶🐶🐶🐶🐶🐶          OLS          🐶🐶🐶🐶🐶🐶🐶🐶🐶🐶\n",
      "🐶🐶🐶🐶🐶🐶🐶🐶🐶🐶          HEH          🐶🐶🐶🐶🐶🐶🐶🐶🐶🐶\n",
      "🐶🐶🐶🐶🐶🐶🐶🐶🐶🐶          None          🐶🐶🐶🐶🐶🐶🐶🐶🐶🐶\n",
      "🐶🐶🐶🐶🐶🐶🐶🐶🐶🐶          OLS          🐶🐶🐶🐶🐶🐶🐶🐶🐶🐶\n",
      "🐶🐶🐶🐶🐶🐶🐶🐶🐶🐶          HEH          🐶🐶🐶🐶🐶🐶🐶🐶🐶🐶\n"
     ]
    }
   ],
   "source": [
    "homeo_methods = ['None', 'OLS', 'HEH']\n",
    "\n",
    "list_figures = ['show_dico', 'time_plot_error', 'time_plot_logL', 'time_plot_MC', 'show_Pcum']\n",
    "list_figures = []\n",
    "dico = {}\n",
    "for i_cv in range(N_cv):\n",
    "    dico[i_cv] = {}\n",
    "    for homeo_method in homeo_methods:\n",
    "        print(hl + hs + homeo_method + hs + hl)\n",
    "        shl = SHL(homeo_method=homeo_method, seed=seed+i_cv)\n",
    "        dico[i_cv][homeo_method] = shl.learn_dico(data=data, list_figures=list_figures, matname=tag + '_' + homeo_method + '_' + str(i_cv))\n",
    "\n",
    "list_figures = ['show_dico']\n",
    "dico = {}\n",
    "for i_cv in [one_cv]:\n",
    "    dico[i_cv] = {}\n",
    "    for homeo_method in homeo_methods:\n",
    "        print(hl + hs + homeo_method + hs + hl)\n",
    "        shl = SHL(homeo_method=homeo_method, seed=seed+i_cv)\n",
    "        dico[i_cv][homeo_method] = shl.learn_dico(data=data, list_figures=list_figures, matname=tag + '_' + homeo_method + '_' + str(i_cv))\n",
    "\n",
    "        print('size of dictionary = (number of filters, size of imagelets) = ', dico[i_cv][homeo_method].dictionary.shape)\n",
    "        print('average of filters = ',  dico[i_cv][homeo_method].dictionary.mean(axis=1).mean(), \n",
    "              '+/-',  dico[i_cv][homeo_method].dictionary.mean(axis=1).std())\n",
    "        SE = np.sqrt(np.sum(dico[i_cv][homeo_method].dictionary**2, axis=1))\n",
    "        print('average energy of filters = ', SE.mean(), '+/-', SE.std())\n",
    "\n"
   ]
  },
  {
   "cell_type": "markdown",
   "metadata": {},
   "source": [
    "### panel A: plotting some dictionaries\n",
    "\n"
   ]
  },
  {
   "cell_type": "code",
   "execution_count": null,
   "metadata": {
    "ExecuteTime": {
     "start_time": "2018-05-17T19:50:16.233Z"
    }
   },
   "outputs": [],
   "source": [
    "pname = '/tmp/panel_A' #pname = fname + '_A'"
   ]
  },
  {
   "cell_type": "code",
   "execution_count": null,
   "metadata": {
    "ExecuteTime": {
     "start_time": "2018-05-17T19:50:16.235Z"
    }
   },
   "outputs": [],
   "source": [
    "from shl_scripts import show_dico\n",
    "if DEBUG: show_dico(shl, dico[one_cvi_cv][homeo_method], dim_graph=(2,5))"
   ]
  },
  {
   "cell_type": "code",
   "execution_count": null,
   "metadata": {
    "ExecuteTime": {
     "start_time": "2018-05-17T19:50:16.237Z"
    }
   },
   "outputs": [],
   "source": [
    "dim_graph = (2, 9)\n",
    "colors = ['black', 'orange', 'blue']\n",
    "homeo_methods"
   ]
  },
  {
   "cell_type": "code",
   "execution_count": null,
   "metadata": {
    "ExecuteTime": {
     "start_time": "2018-05-17T19:50:16.240Z"
    }
   },
   "outputs": [],
   "source": [
    "subplotpars = dict( left=0.042, right=1., bottom=0., top=1., wspace=0.05, hspace=0.05,)\n",
    "fig, axs = plt.subplots(3, 1, figsize=(fig_width/2, fig_width/(1+phi)), gridspec_kw=subplotpars)\n",
    "\n",
    "for ax, color, homeo_method in zip(axs.ravel(), colors, homeo_methods): \n",
    "    ax.axis(c=color, lw=2, axisbg='w')\n",
    "    ax.set_facecolor('w')\n",
    "    fig, ax = show_dico(shl, dico[one_cv][homeo_method], dim_graph=dim_graph, fig=fig, ax=ax)\n",
    "    # ax.set_ylabel(homeo_method)\n",
    "    ax.text(-8, 7*dim_graph[0], homeo_method, fontsize=12, color=color, rotation=90)#, backgroundcolor='white'\n",
    "\n",
    "for ext in FORMATS: fig.savefig(pname + ext, dpi=dpi_export)"
   ]
  },
  {
   "cell_type": "code",
   "execution_count": null,
   "metadata": {
    "ExecuteTime": {
     "start_time": "2018-05-17T19:50:16.243Z"
    }
   },
   "outputs": [],
   "source": [
    "if DEBUG: Image(pname +'.png')"
   ]
  },
  {
   "cell_type": "code",
   "execution_count": null,
   "metadata": {
    "ExecuteTime": {
     "start_time": "2018-05-17T19:50:16.245Z"
    },
    "scrolled": true
   },
   "outputs": [],
   "source": [
    "if DEBUG: help(fig.subplots_adjust)"
   ]
  },
  {
   "cell_type": "code",
   "execution_count": null,
   "metadata": {
    "ExecuteTime": {
     "start_time": "2018-05-17T19:50:16.247Z"
    },
    "scrolled": true
   },
   "outputs": [],
   "source": [
    "if DEBUG: help(plt.subplots)"
   ]
  },
  {
   "cell_type": "code",
   "execution_count": null,
   "metadata": {
    "ExecuteTime": {
     "start_time": "2018-05-17T19:50:16.249Z"
    },
    "scrolled": false
   },
   "outputs": [],
   "source": [
    "if DEBUG: help(matplotlib.gridspec.GridSpec)"
   ]
  },
  {
   "cell_type": "markdown",
   "metadata": {},
   "source": [
    "### panel B: quantitative comparison\n",
    "\n"
   ]
  },
  {
   "cell_type": "code",
   "execution_count": null,
   "metadata": {
    "ExecuteTime": {
     "start_time": "2018-05-17T19:50:16.252Z"
    }
   },
   "outputs": [],
   "source": [
    "pname = '/tmp/panel_B' #fname + '_B'"
   ]
  },
  {
   "cell_type": "code",
   "execution_count": null,
   "metadata": {
    "ExecuteTime": {
     "start_time": "2018-05-17T19:50:16.254Z"
    }
   },
   "outputs": [],
   "source": [
    "from shl_scripts import time_plot\n",
    "variable = 'F'\n",
    "subplotpars = dict(left=0.2, right=.95, bottom=0.2, top=.95)#, wspace=0.05, hspace=0.05,)\n",
    "fig, ax = plt.subplots(1, 1, figsize=(fig_width/2, fig_width/(1+phi)), gridspec_kw=subplotpars)\n",
    "for i_cv in range(N_cv):\n",
    "    for color, homeo_method in zip(colors, homeo_methods): \n",
    "        ax.axis(c='b', lw=2, axisbg='w')\n",
    "        ax.set_facecolor('w')\n",
    "        if i_cv==0:\n",
    "            fig, ax = time_plot(shl, dico[i_cv][homeo_method], variable=variable, unit='bits', color=color, label=homeo_method, alpha=.6, fig=fig, ax=ax)\n",
    "        else:\n",
    "            fig, ax = time_plot(shl, dico[i_cv][homeo_method], variable=variable, unit='bits', color=color, alpha=.6, fig=fig, ax=ax)        # ax.set_ylabel(homeo_method)\n",
    "        #ax.text(-8, 7*dim_graph[0], homeo_method, fontsize=12, color='k', rotation=90)#, backgroundcolor='white'\n",
    "ax.legend(loc='best')\n",
    "for ext in FORMATS: fig.savefig(pname + ext, dpi=dpi_export)\n",
    "if DEBUG: Image(pname +'.png')"
   ]
  },
  {
   "cell_type": "markdown",
   "metadata": {},
   "source": [
    "\n",
    "### Montage of the subplots\n"
   ]
  },
  {
   "cell_type": "code",
   "execution_count": null,
   "metadata": {
    "ExecuteTime": {
     "start_time": "2018-05-17T19:50:16.257Z"
    }
   },
   "outputs": [],
   "source": [
    "import tikzmagic"
   ]
  },
  {
   "cell_type": "code",
   "execution_count": null,
   "metadata": {
    "ExecuteTime": {
     "start_time": "2018-05-17T19:50:16.259Z"
    }
   },
   "outputs": [],
   "source": [
    "%load_ext tikzmagic"
   ]
  },
  {
   "cell_type": "code",
   "execution_count": null,
   "metadata": {
    "ExecuteTime": {
     "start_time": "2018-05-17T19:50:16.261Z"
    },
    "scrolled": false
   },
   "outputs": [],
   "source": [
    "#DEBUG = True\n",
    "if DEBUG: help(tikzmagic)"
   ]
  },
  {
   "cell_type": "raw",
   "metadata": {},
   "source": [
    "%tikz \\draw (0,0) rectangle (1,1);"
   ]
  },
  {
   "cell_type": "raw",
   "metadata": {},
   "source": [
    "%%tikz --save {fname}.pdf\n",
    "\\draw[white, fill=white] (0.\\linewidth,0) rectangle (1.\\linewidth, .382\\linewidth) ;"
   ]
  },
  {
   "cell_type": "code",
   "execution_count": null,
   "metadata": {
    "ExecuteTime": {
     "start_time": "2018-05-17T19:50:16.340Z"
    },
    "scrolled": false
   },
   "outputs": [],
   "source": [
    "%%tikz -f pdf --save {fname}.pdf\n",
    "\\draw[white, fill=white] (0.\\linewidth,0) rectangle (1.\\linewidth, .382\\linewidth) ;\n",
    "\\draw [anchor=north west] (.0\\linewidth, .382\\linewidth) node {\\includegraphics[width=.5\\linewidth]{/tmp/panel_A}};\n",
    "\\draw [anchor=north west] (.5\\linewidth, .382\\linewidth) node {\\includegraphics[width=.5\\linewidth]{/tmp/panel_B}};\n",
    "\\begin{scope}[font=\\bf\\sffamily\\large]\n",
    "\\draw [anchor=west,fill=white] (.0\\linewidth, .382\\linewidth) node [above right=-3mm] {$\\mathsf{A}$};\n",
    "\\draw [anchor=west,fill=white] (.53\\linewidth, .382\\linewidth) node [above right=-3mm] {$\\mathsf{B}$};\n",
    "\\end{scope}"
   ]
  },
  {
   "cell_type": "code",
   "execution_count": null,
   "metadata": {
    "ExecuteTime": {
     "start_time": "2018-05-17T19:50:16.343Z"
    }
   },
   "outputs": [],
   "source": [
    "!convert  -density {dpi_export} {fname}.pdf {fname}.jpg\n",
    "!convert  -density {dpi_export} {fname}.pdf {fname}.png\n",
    "!convert  -density {dpi_export} -resize 5400  -units pixelsperinch -flatten  -compress lzw  -depth 8 {fname}.pdf {fname}.tiff\n",
    "Image(fname +'.png')"
   ]
  },
  {
   "cell_type": "code",
   "execution_count": null,
   "metadata": {
    "ExecuteTime": {
     "start_time": "2018-05-17T19:50:16.345Z"
    }
   },
   "outputs": [],
   "source": [
    "!echo \"width=\" ; convert {fname}.tiff -format \"%[fx:w]\" info:\n",
    "!echo \", \\nheight=\" ; convert {fname}.tiff -format \"%[fx:h]\" info:\n",
    "!echo \", \\nunit=\" ; convert {fname}.tiff -format \"%U\" info:"
   ]
  },
  {
   "cell_type": "code",
   "execution_count": null,
   "metadata": {
    "ExecuteTime": {
     "start_time": "2018-05-17T19:50:16.347Z"
    }
   },
   "outputs": [],
   "source": [
    "!identify {fname}.tiff"
   ]
  },
  {
   "cell_type": "markdown",
   "metadata": {},
   "source": [
    "## figure 2: Histogram Equalization Homeostasis\n",
    "\n",
    "\n",
    "\\centering{\n",
    "\\begin{tikzpicture}\n",
    "%\\draw [anchor=north west] (0, .8\\linewidth) node {\\includegraphics[width=\\linewidth]{PDF_nohomeo}};\n",
    "%\\draw [anchor=north west] (0, .4\\linewidth) node {\\includegraphics[width=\\linewidth]{z_score}};\n",
    "%\\draw [anchor=north west] (0, .0) node {\\includegraphics[width=\\linewidth]{PDF_homeo}};\n",
    "\\draw (.7\\linewidth, 0) node [above right=0mm] {$\\mathsf{A}$};\n",
    "\\draw (.3\\linewidth, 0) node [above right=0mm] {$\\mathsf{B}$};\n",
    "\\draw (-.1\\linewidth, 0) node [above right=0mm] {$\\mathsf{C}$};\n",
    "\\draw (.0\\linewidth, .38\\linewidth) node [above right=0mm] {$\\mathsf{box}$};\n",
    "\\draw (.85\\linewidth, .38\\linewidth) node [above right=0mm] {$\\mathsf{box}$};\n",
    "\\end{tikzpicture}}\n",
    "\n"
   ]
  },
  {
   "cell_type": "code",
   "execution_count": null,
   "metadata": {
    "ExecuteTime": {
     "start_time": "2018-05-17T19:50:16.350Z"
    }
   },
   "outputs": [],
   "source": [
    "fname = 'figure_HEH'"
   ]
  },
  {
   "cell_type": "code",
   "execution_count": null,
   "metadata": {
    "ExecuteTime": {
     "start_time": "2018-05-17T19:50:16.352Z"
    }
   },
   "outputs": [],
   "source": [
    "list_figures = ['show_Pcum']\n",
    "\n",
    "dico = {}\n",
    "for homeo_method in homeo_methods:\n",
    "    print(hl + hs + homeo_method + hs + hl)\n",
    "    shl = SHL(homeo_method=homeo_method)\n",
    "    dico[homeo_method] = shl.learn_dico(data=data, list_figures=list_figures, matname=tag + '_' + homeo_method)"
   ]
  },
  {
   "cell_type": "code",
   "execution_count": null,
   "metadata": {
    "ExecuteTime": {
     "start_time": "2018-05-17T19:50:16.355Z"
    }
   },
   "outputs": [],
   "source": [
    "\n",
    "dico[homeo_method].P_cum.shape"
   ]
  },
  {
   "cell_type": "markdown",
   "metadata": {},
   "source": [
    "### panel A: different P_cum\n",
    "\n"
   ]
  },
  {
   "cell_type": "code",
   "execution_count": null,
   "metadata": {
    "ExecuteTime": {
     "start_time": "2018-05-17T19:50:16.357Z"
    }
   },
   "outputs": [],
   "source": [
    "pname = '/tmp/panel_A' #pname = fname + '_A'\n",
    "\n",
    "from shl_scripts import plot_P_cum\n",
    "variable = 'F'\n",
    "subplotpars = dict(left=0.2, right=.95, bottom=0.2, top=.95)#, wspace=0.05, hspace=0.05,)\n",
    "fig, ax = plt.subplots(1, 1, figsize=(fig_width/2, fig_width/(1+phi)), gridspec_kw=subplotpars)\n",
    "for color, homeo_method in zip(colors, homeo_methods): \n",
    "    ax.axis(c='b', lw=2, axisbg='w')\n",
    "    ax.set_facecolor('w')\n",
    "    fig, ax = plot_P_cum(dico[homeo_method].P_cum, ymin=0.95, ymax=1.001, \n",
    "                         title=None, suptitle=None, ylabel='non-linear functions', \n",
    "                         verbose=False, n_yticks=21, alpha=.05, c=color, fig=fig, ax=ax)\n",
    "    ax.plot([0], [0], lw=1, color=color, label=homeo_method, alpha=.6)\n",
    "    # ax.set_ylabel(homeo_method)\n",
    "    #ax.text(-8, 7*dim_graph[0], homeo_method, fontsize=12, color='k', rotation=90)#, backgroundcolor='white'\n",
    "ax.legend(loc='lower right')\n",
    "for ext in FORMATS: fig.savefig(pname + ext, dpi=dpi_export)\n",
    "if DEBUG: Image(pname +'.png')"
   ]
  },
  {
   "cell_type": "code",
   "execution_count": null,
   "metadata": {
    "ExecuteTime": {
     "start_time": "2018-05-17T19:50:16.360Z"
    }
   },
   "outputs": [],
   "source": [
    "if DEBUG: help(fig.legend)"
   ]
  },
  {
   "cell_type": "markdown",
   "metadata": {},
   "source": [
    "### panel B: comparing the effects of parameters\n",
    "\n"
   ]
  },
  {
   "cell_type": "code",
   "execution_count": null,
   "metadata": {
    "ExecuteTime": {
     "start_time": "2018-05-17T19:50:16.363Z"
    }
   },
   "outputs": [],
   "source": [
    "pname = '/tmp/panel_B' #fname + '_B'"
   ]
  },
  {
   "cell_type": "markdown",
   "metadata": {},
   "source": [
    "\n",
    "### Montage of the subplots\n"
   ]
  },
  {
   "cell_type": "code",
   "execution_count": null,
   "metadata": {
    "ExecuteTime": {
     "start_time": "2018-05-17T19:50:16.365Z"
    },
    "scrolled": false
   },
   "outputs": [],
   "source": [
    "%%tikz -f pdf --save {fname}.pdf\n",
    "\\draw[white, fill=white] (0.\\linewidth,0) rectangle (1.\\linewidth, .382\\linewidth) ;\n",
    "\\draw [anchor=north west] (.0\\linewidth, .382\\linewidth) node {\\includegraphics[width=.5\\linewidth]{/tmp/panel_A}};\n",
    "\\draw [anchor=north west] (.5\\linewidth, .382\\linewidth) node {\\includegraphics[width=.5\\linewidth]{/tmp/panel_B}};\n",
    "\\begin{scope}[font=\\bf\\sffamily\\large]\n",
    "\\draw [anchor=west,fill=white] (.0\\linewidth, .382\\linewidth) node [above right=-3mm] {$\\mathsf{A}$};\n",
    "\\draw [anchor=west,fill=white] (.53\\linewidth, .382\\linewidth) node [above right=-3mm] {$\\mathsf{B}$};\n",
    "\\end{scope}"
   ]
  },
  {
   "cell_type": "code",
   "execution_count": null,
   "metadata": {
    "ExecuteTime": {
     "start_time": "2018-05-17T19:50:16.367Z"
    }
   },
   "outputs": [],
   "source": [
    "!convert  -density {dpi_export} {fname}.pdf {fname}.jpg\n",
    "!convert  -density {dpi_export} {fname}.pdf {fname}.png\n",
    "!convert  -density {dpi_export} -resize 5400  -units pixelsperinch -flatten  -compress lzw  -depth 8 {fname}.pdf {fname}.tiff\n",
    "Image(fname +'.png')"
   ]
  },
  {
   "cell_type": "code",
   "execution_count": null,
   "metadata": {
    "ExecuteTime": {
     "start_time": "2018-05-17T19:50:16.369Z"
    }
   },
   "outputs": [],
   "source": [
    "!echo \"width=\" ; convert {fname}.tiff -format \"%[fx:w]\" info:\n",
    "!echo \", \\nheight=\" ; convert {fname}.tiff -format \"%[fx:h]\" info:\n",
    "!echo \", \\nunit=\" ; convert {fname}.tiff -format \"%U\" info:"
   ]
  },
  {
   "cell_type": "code",
   "execution_count": null,
   "metadata": {
    "ExecuteTime": {
     "start_time": "2018-05-17T19:50:16.372Z"
    }
   },
   "outputs": [],
   "source": [
    "!identify {fname}.tiff"
   ]
  },
  {
   "cell_type": "markdown",
   "metadata": {},
   "source": [
    "## figure 3:  \n",
    "\n",
    "\n",
    "\\centering{\n",
    "\\begin{tikzpicture}\n",
    "%\\draw [anchor=north west] (0, .39\\linewidth) node {\\includegraphics[width=.47\\linewidth]{dico_MP}};\n",
    "%\\draw [anchor=north west] (.5\\linewidth, .39\\linewidth) node {\\includegraphics[width=.47\\linewidth]{dico_SN}};\n",
    "%\\draw [anchor=north west] (.25\\linewidth, -.1\\linewidth) node {\\includegraphics[width=.47\\linewidth]{dico_MEUL}};\n",
    "%\\draw [anchor=north west] (.1\\linewidth, -.6\\linewidth) node {\\includegraphics[width=.8\\linewidth]{Comparison_reconstruction}};\n",
    "\\draw (0, .39\\linewidth) node [above right=0mm] {$\\mathsf{A}$};\n",
    "\\draw (.5\\linewidth, .39\\linewidth) node [above right=0mm] {$\\mathsf{B}$};\n",
    "%\\draw (.2\\linewidth, -.16\\linewidth) node [above right=0mm] {$\\mathsf{C}$};\n",
    "%\\draw (.05\\linewidth, -.67\\linewidth) node [above right=0mm] {$\\mathsf{D}$};\n",
    "\\draw (.0\\linewidth, .0\\linewidth) node [above right=0mm] {$\\mathsf{box}$};\n",
    "\\draw (.85\\linewidth, .0\\linewidth) node [above right=0mm] {$\\mathsf{box}$};\n",
    "\\end{tikzpicture}}\n",
    "\n",
    "### learning\n",
    "\n",
    "\n"
   ]
  },
  {
   "cell_type": "code",
   "execution_count": null,
   "metadata": {
    "ExecuteTime": {
     "start_time": "2018-05-17T19:50:16.374Z"
    }
   },
   "outputs": [],
   "source": [
    "fname = 'figure_HAP'"
   ]
  },
  {
   "cell_type": "code",
   "execution_count": null,
   "metadata": {
    "ExecuteTime": {
     "start_time": "2018-05-17T19:50:16.377Z"
    },
    "scrolled": true
   },
   "outputs": [],
   "source": [
    "colors = ['red', 'green', 'blue']\n",
    "homeo_methods = ['EMP', 'HAP', 'HEH']\n",
    "\n",
    "list_figures = ['show_dico', 'time_plot_error', 'time_plot_logL', 'time_plot_MC', 'show_Pcum']\n",
    "list_figures = []\n",
    "dico = {}\n",
    "for i_cv in range(N_cv):\n",
    "    dico[i_cv] = {}\n",
    "    for homeo_method in homeo_methods:\n",
    "        print(hl + hs + homeo_method + hs + hl)\n",
    "        shl = SHL(homeo_method=homeo_method, seed=seed+i_cv)\n",
    "        dico[i_cv][homeo_method] = shl.learn_dico(data=data, list_figures=list_figures, matname=tag + '_' + homeo_method + '_' + str(i_cv))\n",
    "\n",
    "list_figures = ['show_dico']\n",
    "dico = {}\n",
    "for i_cv in [one_cv0]:\n",
    "    dico[i_cv] = {}\n",
    "    for homeo_method in homeo_methods:\n",
    "        print(hl + hs + homeo_method + hs + hl)\n",
    "        shl = SHL(homeo_method=homeo_method, seed=seed+i_cv)\n",
    "        dico[i_cv][homeo_method] = shl.learn_dico(data=data, list_figures=list_figures, matname=tag + '_' + homeo_method + '_' + str(i_cv))\n",
    "\n",
    "        print('size of dictionary = (number of filters, size of imagelets) = ', dico[i_cv][homeo_method].dictionary.shape)\n",
    "        print('average of filters = ',  dico[i_cv][homeo_method].dictionary.mean(axis=1).mean(), \n",
    "              '+/-',  dico[i_cv][homeo_method].dictionary.mean(axis=1).std())\n",
    "        SE = np.sqrt(np.sum(dico[i_cv][homeo_method].dictionary**2, axis=1))\n",
    "        print('average energy of filters = ', SE.mean(), '+/-', SE.std())\n",
    "\n",
    "\n"
   ]
  },
  {
   "cell_type": "markdown",
   "metadata": {},
   "source": [
    "### panel A: plotting some dictionaries\n",
    "\n"
   ]
  },
  {
   "cell_type": "code",
   "execution_count": null,
   "metadata": {
    "ExecuteTime": {
     "start_time": "2018-05-17T19:50:16.379Z"
    }
   },
   "outputs": [],
   "source": [
    "pname = '/tmp/panel_A' #pname = fname + '_A'"
   ]
  },
  {
   "cell_type": "raw",
   "metadata": {},
   "source": [
    "subplotpars = dict( left=0.042, right=1., bottom=0., top=1., wspace=0.05, hspace=0.05,)\n",
    "fig, axs = plt.subplots(3, 1, figsize=(fig_width/2, fig_width/(1+phi)), gridspec_kw=subplotpars)\n",
    "\n",
    "for ax, homeo_method in zip(axs.ravel(), homeo_methods): \n",
    "    ax.axis(c='b', lw=2, axisbg='w')\n",
    "    ax.set_facecolor('w')\n",
    "    from shl_scripts import show_dico\n",
    "    fig, ax = show_dico(shl, dico[one_cv][homeo_method], dim_graph=dim_graph, fig=fig, ax=ax)\n",
    "    # ax.set_ylabel(homeo_method)\n",
    "    ax.text(-8, 7*dim_graph[0], homeo_method, fontsize=12, color='k', rotation=90)#, backgroundcolor='white'\n",
    "\n",
    "for ext in FORMATS: fig.savefig(pname + ext, dpi=dpi_export)"
   ]
  },
  {
   "cell_type": "code",
   "execution_count": null,
   "metadata": {
    "ExecuteTime": {
     "start_time": "2018-05-17T19:50:16.434Z"
    }
   },
   "outputs": [],
   "source": [
    "one_cv = 0\n",
    "\n",
    "subplotpars = dict( left=0.042, right=1., bottom=0., top=1., wspace=0.05, hspace=0.05,)\n",
    "fig, axs = plt.subplots(3, 1, figsize=(fig_width/2, fig_width/(1+phi)), gridspec_kw=subplotpars)\n",
    "\n",
    "for ax, color, homeo_method in zip(axs.ravel(), colors, homeo_methods): \n",
    "    ax.axis(c=color, lw=2, axisbg='w')\n",
    "    ax.set_facecolor('w')\n",
    "    from shl_scripts import show_dico\n",
    "    fig, ax = show_dico(shl, dico[one_cv][homeo_method], dim_graph=dim_graph, fig=fig, ax=ax)\n",
    "    # ax.set_ylabel(homeo_method)\n",
    "    ax.text(-8, 7*dim_graph[0], homeo_method, fontsize=12, color=color, rotation=90)#, backgroundcolor='white'\n",
    "\n",
    "for ext in FORMATS: fig.savefig(pname + ext, dpi=dpi_export)"
   ]
  },
  {
   "cell_type": "markdown",
   "metadata": {},
   "source": [
    "### panel B: quantitative comparison\n",
    "\n"
   ]
  },
  {
   "cell_type": "code",
   "execution_count": null,
   "metadata": {
    "ExecuteTime": {
     "start_time": "2018-05-17T19:50:16.438Z"
    }
   },
   "outputs": [],
   "source": [
    "pname = '/tmp/panel_B' #fname + '_B'"
   ]
  },
  {
   "cell_type": "raw",
   "metadata": {},
   "source": [
    "from shl_scripts import time_plot\n",
    "variable = 'F'\n",
    "subplotpars = dict(left=0.2, right=.95, bottom=0.2, top=.95)#, wspace=0.05, hspace=0.05,)\n",
    "\n",
    "fig, ax = plt.subplots(1, 1, figsize=(fig_width/2, fig_width/(1+phi)), gridspec_kw=subplotpars)\n",
    "for color, homeo_method in zip(colors, homeo_methods): \n",
    "    ax.axis(c='b', lw=2, axisbg='w')\n",
    "    ax.set_facecolor('w')\n",
    "    fig, ax = time_plot(shl, dico[i_cv][homeo_method], variable=variable, unit='bits', color=color, label=homeo_method, alpha=.6, fig=fig, ax=ax)\n",
    "    # ax.set_ylabel(homeo_method)\n",
    "    #ax.text(-8, 7*dim_graph[0], homeo_method, fontsize=12, color='k', rotation=90)#, backgroundcolor='white'\n",
    "ax.legend(loc='best')\n",
    "for ext in FORMATS: fig.savefig(pname + ext, dpi=dpi_export)\n",
    "if DEBUG: Image(pname +'.png')"
   ]
  },
  {
   "cell_type": "code",
   "execution_count": null,
   "metadata": {
    "ExecuteTime": {
     "start_time": "2018-05-17T19:50:16.492Z"
    }
   },
   "outputs": [],
   "source": [
    "from shl_scripts import time_plot\n",
    "variable = 'F'\n",
    "subplotpars = dict(left=0.2, right=.95, bottom=0.2, top=.95)#, wspace=0.05, hspace=0.05,)\n",
    "fig, ax = plt.subplots(1, 1, figsize=(fig_width/2, fig_width/(1+phi)), gridspec_kw=subplotpars)\n",
    "for i_cv in range(N_cv):\n",
    "    for color, homeo_method in zip(colors, homeo_methods): \n",
    "        ax.axis(c='b', lw=2, axisbg='w')\n",
    "        ax.set_facecolor('w')\n",
    "        if i_cv==0:\n",
    "            fig, ax = time_plot(shl, dico[i_cv][homeo_method], variable=variable, unit='bits', color=color, label=homeo_method, alpha=.6, fig=fig, ax=ax)\n",
    "        else:\n",
    "            fig, ax = time_plot(shl, dico[i_cv][homeo_method], variable=variable, unit='bits', color=color, alpha=.6, fig=fig, ax=ax)        # ax.set_ylabel(homeo_method)\n",
    "        #ax.text(-8, 7*dim_graph[0], homeo_method, fontsize=12, color='k', rotation=90)#, backgroundcolor='white'\n",
    "ax.legend(loc='best')\n",
    "for ext in FORMATS: fig.savefig(pname + ext, dpi=dpi_export)\n",
    "if DEBUG: Image(pname +'.png')"
   ]
  },
  {
   "cell_type": "code",
   "execution_count": null,
   "metadata": {
    "ExecuteTime": {
     "start_time": "2018-05-17T19:50:16.495Z"
    }
   },
   "outputs": [],
   "source": [
    "if DEBUG: Image(pname +'.png')"
   ]
  },
  {
   "cell_type": "markdown",
   "metadata": {},
   "source": [
    "\n",
    "### Montage of the subplots\n"
   ]
  },
  {
   "cell_type": "code",
   "execution_count": null,
   "metadata": {
    "ExecuteTime": {
     "start_time": "2018-05-17T19:50:16.498Z"
    },
    "scrolled": false
   },
   "outputs": [],
   "source": [
    "%%tikz -f pdf --save {fname}.pdf\n",
    "\\draw[white, fill=white] (0.\\linewidth,0) rectangle (1.\\linewidth, .382\\linewidth) ;\n",
    "\\draw [anchor=north west] (.0\\linewidth, .382\\linewidth) node {\\includegraphics[width=.5\\linewidth]{/tmp/panel_A}};\n",
    "\\draw [anchor=north west] (.5\\linewidth, .382\\linewidth) node {\\includegraphics[width=.5\\linewidth]{/tmp/panel_B}};\n",
    "\\begin{scope}[font=\\bf\\sffamily\\large]\n",
    "\\draw [anchor=west,fill=white] (.0\\linewidth, .382\\linewidth) node [above right=-3mm] {$\\mathsf{A}$};\n",
    "\\draw [anchor=west,fill=white] (.53\\linewidth, .382\\linewidth) node [above right=-3mm] {$\\mathsf{B}$};\n",
    "\\end{scope}"
   ]
  },
  {
   "cell_type": "code",
   "execution_count": null,
   "metadata": {
    "ExecuteTime": {
     "start_time": "2018-05-17T19:50:16.500Z"
    }
   },
   "outputs": [],
   "source": [
    "!convert  -density {dpi_export} {fname}.pdf {fname}.jpg\n",
    "!convert  -density {dpi_export} {fname}.pdf {fname}.png\n",
    "!convert  -density {dpi_export} -resize 5400  -units pixelsperinch -flatten  -compress lzw  -depth 8 {fname}.pdf {fname}.tiff\n",
    "Image(fname +'.png')"
   ]
  },
  {
   "cell_type": "code",
   "execution_count": null,
   "metadata": {
    "ExecuteTime": {
     "start_time": "2018-05-17T19:50:16.502Z"
    }
   },
   "outputs": [],
   "source": [
    "!echo \"width=\" ; convert {fname}.tiff -format \"%[fx:w]\" info:\n",
    "!echo \", \\nheight=\" ; convert {fname}.tiff -format \"%[fx:h]\" info:\n",
    "!echo \", \\nunit=\" ; convert {fname}.tiff -format \"%U\" info:"
   ]
  },
  {
   "cell_type": "code",
   "execution_count": null,
   "metadata": {
    "ExecuteTime": {
     "start_time": "2018-05-17T19:50:16.504Z"
    }
   },
   "outputs": [],
   "source": [
    "!identify {fname}.tiff"
   ]
  },
  {
   "cell_type": "markdown",
   "metadata": {},
   "source": [
    "## coding\n",
    "\n",
    "The learning itself is done via a gradient descent but is highly dependent on the coding / decoding algorithm. This belongs to a another function (in the [shl_encode.py](https://github.com/bicv/SHL_scripts/blob/master/shl_scripts/shl_encode.py) script)"
   ]
  },
  {
   "cell_type": "markdown",
   "metadata": {},
   "source": [
    "## Version used"
   ]
  },
  {
   "cell_type": "code",
   "execution_count": null,
   "metadata": {
    "ExecuteTime": {
     "start_time": "2018-05-17T19:50:16.507Z"
    }
   },
   "outputs": [],
   "source": [
    "%load_ext version_information\n",
    "%version_information numpy, shl_scripts"
   ]
  },
  {
   "cell_type": "markdown",
   "metadata": {},
   "source": [
    "##  version control"
   ]
  },
  {
   "cell_type": "code",
   "execution_count": null,
   "metadata": {
    "ExecuteTime": {
     "start_time": "2018-05-17T19:50:16.510Z"
    }
   },
   "outputs": [],
   "source": [
    "!git s"
   ]
  },
  {
   "cell_type": "code",
   "execution_count": null,
   "metadata": {
    "ExecuteTime": {
     "start_time": "2018-05-17T19:50:16.512Z"
    }
   },
   "outputs": [],
   "source": [
    "!git pull"
   ]
  },
  {
   "cell_type": "code",
   "execution_count": null,
   "metadata": {
    "ExecuteTime": {
     "start_time": "2018-05-17T19:50:16.514Z"
    }
   },
   "outputs": [],
   "source": [
    "!git commit -am' thursday : cross-validation' "
   ]
  },
  {
   "cell_type": "code",
   "execution_count": null,
   "metadata": {
    "ExecuteTime": {
     "start_time": "2018-05-17T19:50:16.517Z"
    }
   },
   "outputs": [],
   "source": [
    "!git push"
   ]
  },
  {
   "cell_type": "markdown",
   "metadata": {},
   "source": [
    "Done. Thanks for your attention!"
   ]
  }
 ],
 "metadata": {
  "kernelspec": {
   "display_name": "Python 3",
   "language": "python",
   "name": "python3"
  },
  "language_info": {
   "codemirror_mode": {
    "name": "ipython",
    "version": 3
   },
   "file_extension": ".py",
   "mimetype": "text/x-python",
   "name": "python",
   "nbconvert_exporter": "python",
   "pygments_lexer": "ipython3",
   "version": "3.6.5"
  },
  "toc": {
   "base_numbering": 1,
   "nav_menu": {},
   "number_sections": true,
   "sideBar": true,
   "skip_h1_title": false,
   "title_cell": "Table of Contents",
   "title_sidebar": "Contents",
   "toc_cell": false,
   "toc_position": {},
   "toc_section_display": true,
   "toc_window_display": false
  }
 },
 "nbformat": 4,
 "nbformat_minor": 2
}
