{
 "cells": [
  {
   "cell_type": "markdown",
   "metadata": {},
   "source": [
    "This supplementary information presents :\n",
    "\n",
    "- first, the code to generate the figures from the paper,\n",
    "- second, some control experiments that were mentionned in the paper,\n",
    "- finally, some perspectives for future work inspired by the algorithms presented in the paper.\n",
    "\n",
    "# Figures for \"An adaptive algorithm for unsupervised learning\"\n",
    "\n"
   ]
  },
  {
   "cell_type": "code",
   "execution_count": 1,
   "metadata": {
    "ExecuteTime": {
     "end_time": "2018-10-08T14:43:17.924951Z",
     "start_time": "2018-10-08T14:43:17.909979Z"
    }
   },
   "outputs": [],
   "source": [
    "%load_ext autoreload\n",
    "%autoreload 2"
   ]
  },
  {
   "cell_type": "code",
   "execution_count": 2,
   "metadata": {
    "ExecuteTime": {
     "end_time": "2018-10-08T14:43:18.072743Z",
     "start_time": "2018-10-08T14:43:17.927581Z"
    }
   },
   "outputs": [],
   "source": [
    "import numpy as np\n",
    "np.set_printoptions(precision=2, suppress=True)\n",
    "seed = 42\n",
    "np.random.seed(seed)"
   ]
  },
  {
   "cell_type": "code",
   "execution_count": 3,
   "metadata": {
    "ExecuteTime": {
     "end_time": "2018-10-08T14:43:18.376678Z",
     "start_time": "2018-10-08T14:43:18.075883Z"
    }
   },
   "outputs": [],
   "source": [
    "# some overhead for the formatting of figures\n",
    "import matplotlib.pyplot as plt\n",
    "\n",
    "fontsize = 12\n",
    "FORMATS = ['.pdf', '.eps', '.png', '.tiff']\n",
    "FORMATS = ['.pdf', '.png']\n",
    "dpi_export = 600\n",
    "\n",
    "fig_width_pt = 318.670  # Get this from LaTeX using \\showthe\\columnwidth\n",
    "fig_width_pt = 450  # Get this from LaTeX using \\showthe\\columnwidth\n",
    "#fig_width_pt = 1024 #221     # Get this from LaTeX using \\showthe\\columnwidth / x264 asks for a multiple of 2\n",
    "ppi = 72.27 # (constant) definition of the ppi = points per inch\n",
    "inches_per_pt = 1.0/ppi  # Convert pt to inches\n",
    "#inches_per_cm = 1./2.54\n",
    "fig_width = fig_width_pt*inches_per_pt  # width in inches\n",
    "grid_fig_width = 2*fig_width\n",
    "phi = (np.sqrt(5) + 1. ) /2\n",
    "#legend.fontsize = 8\n",
    "#fig_width = 9\n",
    "fig_height = fig_width/phi\n",
    "figsize = (fig_width, fig_height)\n",
    "\n",
    "\n",
    "def adjust_spines(ax, spines):\n",
    "    for loc, spine in ax.spines.items():\n",
    "        if loc in spines:\n",
    "            spine.set_position(('outward', 10))  # outward by 10 points\n",
    "            spine.set_smart_bounds(True)\n",
    "        else:\n",
    "            spine.set_color('none')  # don't draw spine\n",
    "\n",
    "    # turn off ticks where there is no spine\n",
    "    if 'left' in spines:\n",
    "        ax.yaxis.set_ticks_position('left')\n",
    "    else:\n",
    "        # no yaxis ticks\n",
    "        ax.yaxis.set_ticks([])\n",
    "\n",
    "    if 'bottom' in spines:\n",
    "        ax.xaxis.set_ticks_position('bottom')\n",
    "    else:\n",
    "        # no xaxis ticks\n",
    "        ax.xaxis.set_ticks([])\n",
    "\n",
    "import matplotlib\n",
    "pylab_defaults = { \n",
    "    'font.size': 10,\n",
    "    'xtick.labelsize':'medium',\n",
    "    'ytick.labelsize':'medium',\n",
    "    'text.usetex': False,\n",
    "#    'font.family' : 'sans-serif',\n",
    "#    'font.sans-serif' : ['Helvetica'],\n",
    "    }\n",
    "    \n",
    "#matplotlib.rcParams.update({'font.size': 18, 'font.family': 'STIXGeneral', 'mathtext.fontset': 'stix'})\n",
    "matplotlib.rcParams.update(pylab_defaults)\n",
    "#matplotlib.rcParams.update({'text.usetex': True})\n",
    "\n",
    "import matplotlib.cm as cm\n",
    "\n",
    "\n",
    "from IPython.display import Image\n",
    "\n",
    "DEBUG = True\n",
    "DEBUG = False\n",
    "hl, hs = 10*'-', 10*' '"
   ]
  },
  {
   "cell_type": "code",
   "execution_count": 4,
   "metadata": {
    "ExecuteTime": {
     "end_time": "2018-10-08T14:43:18.393152Z",
     "start_time": "2018-10-08T14:43:18.379025Z"
    }
   },
   "outputs": [],
   "source": [
    "tag = 'ICLR'\n",
    "datapath = '../../SparseHebbianLearning/database'\n",
    "# different runs\n",
    "opts = dict(datapath=datapath, verbose=0)\n",
    "#opts = dict(cache_dir='cache_dir_cluster', datapath=datapath, verbose=0)\n",
    "#opts = dict(cache_dir='cache_dir_ICLR', datapath=datapath, verbose=0)"
   ]
  },
  {
   "cell_type": "code",
   "execution_count": null,
   "metadata": {
    "ExecuteTime": {
     "end_time": "2018-10-08T14:43:18.552677Z",
     "start_time": "2018-10-08T14:43:18.395157Z"
    },
    "scrolled": false
   },
   "outputs": [],
   "source": [
    "from shl_scripts.shl_experiments import SHL\n",
    "shl = SHL(**opts)\n",
    "data = shl.get_data(matname=tag)"
   ]
  },
  {
   "cell_type": "code",
   "execution_count": null,
   "metadata": {},
   "outputs": [],
   "source": [
    "shl?"
   ]
  },
  {
   "cell_type": "code",
   "execution_count": null,
   "metadata": {
    "ExecuteTime": {
     "end_time": "2018-10-08T14:43:18.722251Z",
     "start_time": "2018-10-08T14:43:18.554559Z"
    },
    "scrolled": false
   },
   "outputs": [
    {
     "name": "stdout",
     "output_type": "stream",
     "text": [
      "number of patches, size of patches =  (65520, 324)\n",
      "average of patches =  -3.981519488962365e-05  +/-  0.007390208780988323\n",
      "average energy of data =  0.2483654920811686 +/- 0.07671753653544079\n"
     ]
    }
   ],
   "source": [
    "print('number of patches, size of patches = ', data.shape)\n",
    "print('average of patches = ', data.mean(), ' +/- ', data.mean(axis=1).std())\n",
    "SE = np.sqrt(np.mean(data**2, axis=1))\n",
    "print('average energy of data = ', SE.mean(), '+/-', SE.std())"
   ]
  },
  {
   "cell_type": "code",
   "execution_count": null,
   "metadata": {
    "ExecuteTime": {
     "end_time": "2018-10-08T14:43:18.997136Z",
     "start_time": "2018-10-08T14:43:18.724127Z"
    }
   },
   "outputs": [
    {
     "name": "stdout",
     "output_type": "stream",
     "text": [
      "cache_dir/ICLR_EMP_seed=42_dico.pkl_lock\n",
      "cache_dir/ICLR_EMP_seed=42_dico.pkl_lock_pid-479110_host-frioul13\n",
      "cache_dir/ICLR_EMP_seed=43_dico.pkl_lock\n",
      "cache_dir/ICLR_EMP_seed=43_dico.pkl_lock_pid-479109_host-frioul13\n",
      "cache_dir/ICLR_EMP_seed=44_dico.pkl_lock\n",
      "cache_dir/ICLR_EMP_seed=44_dico.pkl_lock_pid-479111_host-frioul13\n",
      "cache_dir/ICLR_EMP_seed=45_dico.pkl_lock\n",
      "cache_dir/ICLR_EMP_seed=45_dico.pkl_lock_pid-479114_host-frioul13\n",
      "cache_dir/ICLR_EMP_seed=46_dico.pkl_lock\n",
      "cache_dir/ICLR_EMP_seed=46_dico.pkl_lock_pid-556837_host-frioul12\n",
      "cache_dir/ICLR_EMP_seed=47_dico.pkl_lock\n",
      "cache_dir/ICLR_EMP_seed=47_dico.pkl_lock_pid-556833_host-frioul12\n"
     ]
    }
   ],
   "source": [
    "#!ls -l {shl.cache_dir}/{tag}*\n",
    "!ls {shl.cache_dir}/{tag}*lock*\n",
    "!rm {shl.cache_dir}/{tag}*lock*\n",
    "#!rm {shl.cache_dir}/{tag}*\n",
    "#!ls -l {shl.cache_dir}/{tag}*"
   ]
  },
  {
   "cell_type": "markdown",
   "metadata": {},
   "source": [
    "## figure 1:  Role of homeostasis in learning sparse representations\n",
    "\n",
    "#### TODO : cross-validate with 10 different learnings"
   ]
  },
  {
   "cell_type": "code",
   "execution_count": null,
   "metadata": {
    "ExecuteTime": {
     "end_time": "2018-10-08T14:43:19.015370Z",
     "start_time": "2018-10-08T14:43:18.999675Z"
    }
   },
   "outputs": [],
   "source": [
    "fname = 'figure_map'\n",
    "N_cv = 10\n",
    "one_cv = 0 # picking one to display intermediate results"
   ]
  },
  {
   "cell_type": "markdown",
   "metadata": {},
   "source": [
    "### learning\n",
    "\n",
    "The actual learning is done in a second object (here ``dico``) from which we can access another set of properties and functions  (see the [shl_learn.py](https://github.com/bicv/SHL_scripts/blob/master/shl_scripts/shl_learn.py) script):"
   ]
  },
  {
   "cell_type": "code",
   "execution_count": null,
   "metadata": {
    "ExecuteTime": {
     "end_time": "2018-10-08T14:43:20.910153Z",
     "start_time": "2018-10-08T14:43:19.017572Z"
    },
    "scrolled": false
   },
   "outputs": [],
   "source": [
    "homeo_methods = ['None', 'OLS', 'HEH']\n",
    "\n",
    "list_figures = ['show_dico', 'time_plot_error', 'time_plot_logL', 'time_plot_MC', 'show_Pcum']\n",
    "list_figures = []\n",
    "dico = {}\n",
    "for i_cv in range(N_cv):\n",
    "    dico[i_cv] = {}\n",
    "    for homeo_method in homeo_methods:\n",
    "        shl = SHL(homeo_method=homeo_method, seed=seed+i_cv, **opts)\n",
    "        dico[i_cv][homeo_method] = shl.learn_dico(data=data, list_figures=list_figures, matname=tag + '_' + homeo_method + '_seed=' + str(seed+i_cv))\n",
    "\n",
    "list_figures = ['show_dico']\n",
    "for i_cv in [one_cv]:\n",
    "    for homeo_method in homeo_methods:\n",
    "        print(hl + hs + homeo_method[:3] + hs + hl)\n",
    "        shl = SHL(homeo_method=homeo_method, seed=seed+i_cv, **opts)\n",
    "        shl.learn_dico(data=data, list_figures=list_figures, matname=tag + '_' + homeo_method + '_seed=' + str(seed+i_cv))\n",
    "\n",
    "        print('size of dictionary = (number of filters, size of imagelets) = ', dico[i_cv][homeo_method].dictionary.shape)\n",
    "        print('average of filters = ',  dico[i_cv][homeo_method].dictionary.mean(axis=1).mean(), \n",
    "              '+/-',  dico[i_cv][homeo_method].dictionary.mean(axis=1).std())\n",
    "        SE = np.sqrt(np.sum(dico[i_cv][homeo_method].dictionary**2, axis=1))\n",
    "        print('average energy of filters = ', SE.mean(), '+/-', SE.std())\n",
    "        plt.show()\n"
   ]
  },
  {
   "cell_type": "markdown",
   "metadata": {},
   "source": [
    "### panel A: plotting some dictionaries\n",
    "\n"
   ]
  },
  {
   "cell_type": "code",
   "execution_count": null,
   "metadata": {
    "ExecuteTime": {
     "end_time": "2018-10-08T14:43:20.929026Z",
     "start_time": "2018-10-08T14:43:20.914127Z"
    }
   },
   "outputs": [],
   "source": [
    "pname = '/tmp/panel_A' #pname = fname + '_A'"
   ]
  },
  {
   "cell_type": "code",
   "execution_count": null,
   "metadata": {
    "ExecuteTime": {
     "end_time": "2018-10-08T14:43:20.948494Z",
     "start_time": "2018-10-08T14:43:20.933313Z"
    }
   },
   "outputs": [],
   "source": [
    "from shl_scripts import show_dico\n",
    "if DEBUG: show_dico(shl, dico[one_cvi_cv][homeo_method], data=data, dim_graph=(2,5))"
   ]
  },
  {
   "cell_type": "code",
   "execution_count": null,
   "metadata": {
    "ExecuteTime": {
     "end_time": "2018-10-08T14:43:20.967129Z",
     "start_time": "2018-10-08T14:43:20.950666Z"
    }
   },
   "outputs": [],
   "source": [
    "dim_graph = (2, 9)\n",
    "colors = ['black', 'orange', 'blue']\n",
    "homeo_methods"
   ]
  },
  {
   "cell_type": "code",
   "execution_count": null,
   "metadata": {
    "ExecuteTime": {
     "end_time": "2018-10-08T14:43:21.995760Z",
     "start_time": "2018-10-08T14:43:20.969100Z"
    }
   },
   "outputs": [],
   "source": [
    "subplotpars = dict( left=0.042, right=1., bottom=0., top=1., wspace=0.05, hspace=0.05,)\n",
    "fig, axs = plt.subplots(3, 1, figsize=(fig_width/2, fig_width/(1+phi)), gridspec_kw=subplotpars)\n",
    "\n",
    "for ax, color, homeo_method in zip(axs.ravel(), colors, homeo_methods): \n",
    "    ax.axis(c=color, lw=2, axisbg='w')\n",
    "    ax.set_facecolor('w')\n",
    "    fig, ax = show_dico(shl, dico[one_cv][homeo_method], data=data, dim_graph=dim_graph, fig=fig, ax=ax)\n",
    "    # ax.set_ylabel(homeo_method)\n",
    "    ax.text(-8, 7*dim_graph[0], homeo_method, fontsize=12, color=color, rotation=90)#, backgroundcolor='white'\n",
    "\n",
    "for ext in FORMATS: fig.savefig(pname + ext, dpi=dpi_export)"
   ]
  },
  {
   "cell_type": "code",
   "execution_count": null,
   "metadata": {},
   "outputs": [],
   "source": [
    "### TODO put the p_min an p_max value in the filter map"
   ]
  },
  {
   "cell_type": "code",
   "execution_count": null,
   "metadata": {
    "ExecuteTime": {
     "end_time": "2018-10-08T14:43:22.014278Z",
     "start_time": "2018-10-08T14:43:21.997755Z"
    }
   },
   "outputs": [],
   "source": [
    "if DEBUG: Image(pname +'.png')"
   ]
  },
  {
   "cell_type": "code",
   "execution_count": null,
   "metadata": {
    "ExecuteTime": {
     "end_time": "2018-10-08T14:43:22.033050Z",
     "start_time": "2018-10-08T14:43:22.016373Z"
    },
    "scrolled": true
   },
   "outputs": [],
   "source": [
    "if DEBUG: help(fig.subplots_adjust)"
   ]
  },
  {
   "cell_type": "code",
   "execution_count": null,
   "metadata": {
    "ExecuteTime": {
     "end_time": "2018-10-08T14:43:22.051388Z",
     "start_time": "2018-10-08T14:43:22.035152Z"
    },
    "scrolled": true
   },
   "outputs": [],
   "source": [
    "if DEBUG: help(plt.subplots)"
   ]
  },
  {
   "cell_type": "code",
   "execution_count": null,
   "metadata": {
    "ExecuteTime": {
     "end_time": "2018-10-08T14:43:22.068723Z",
     "start_time": "2018-10-08T14:43:22.053759Z"
    },
    "scrolled": false
   },
   "outputs": [],
   "source": [
    "if DEBUG: help(matplotlib.gridspec.GridSpec)"
   ]
  },
  {
   "cell_type": "markdown",
   "metadata": {},
   "source": [
    "### panel B: quantitative comparison\n",
    "\n"
   ]
  },
  {
   "cell_type": "code",
   "execution_count": null,
   "metadata": {
    "ExecuteTime": {
     "end_time": "2018-10-08T14:43:22.086031Z",
     "start_time": "2018-10-08T14:43:22.070964Z"
    }
   },
   "outputs": [],
   "source": [
    "pname = '/tmp/panel_B' #fname + '_B'"
   ]
  },
  {
   "cell_type": "code",
   "execution_count": null,
   "metadata": {
    "ExecuteTime": {
     "end_time": "2018-10-08T14:43:22.898233Z",
     "start_time": "2018-10-08T14:43:22.088251Z"
    }
   },
   "outputs": [],
   "source": [
    "from shl_scripts import time_plot\n",
    "variable = 'F'\n",
    "alpha_0, alpha = .3, .15\n",
    "subplotpars = dict(left=0.2, right=.95, bottom=0.2, top=.95)#, wspace=0.05, hspace=0.05,)\n",
    "fig, ax = plt.subplots(1, 1, figsize=(fig_width/2, fig_width/(1+phi)), gridspec_kw=subplotpars)\n",
    "for i_cv in range(N_cv):\n",
    "    for color, homeo_method in zip(colors, homeo_methods): \n",
    "        ax.axis(c='b', lw=2, axisbg='w')\n",
    "        ax.set_facecolor('w')\n",
    "        if i_cv==0:\n",
    "            fig, ax = time_plot(shl, dico[i_cv][homeo_method], variable=variable, unit='bits', color=color, label=homeo_method, alpha=alpha_0, fig=fig, ax=ax)\n",
    "        else:\n",
    "            fig, ax = time_plot(shl, dico[i_cv][homeo_method], variable=variable, unit='bits', color=color, alpha=alpha, fig=fig, ax=ax)        \n",
    "        # ax.set_ylabel(homeo_method)\n",
    "        #ax.text(-8, 7*dim_graph[0], homeo_method, fontsize=12, color='k', rotation=90)#, backgroundcolor='white'\n",
    "ax.legend(loc='best')\n",
    "for ext in FORMATS: fig.savefig(pname + ext, dpi=dpi_export)\n",
    "if DEBUG: Image(pname +'.png')"
   ]
  },
  {
   "cell_type": "markdown",
   "metadata": {},
   "source": [
    "\n",
    "### Montage of the subplots\n"
   ]
  },
  {
   "cell_type": "code",
   "execution_count": null,
   "metadata": {
    "ExecuteTime": {
     "end_time": "2018-10-08T14:43:23.248986Z",
     "start_time": "2018-10-08T14:43:22.900226Z"
    }
   },
   "outputs": [],
   "source": [
    "import tikzmagic"
   ]
  },
  {
   "cell_type": "code",
   "execution_count": null,
   "metadata": {
    "ExecuteTime": {
     "end_time": "2018-10-08T14:43:23.266580Z",
     "start_time": "2018-10-08T14:43:23.251008Z"
    }
   },
   "outputs": [],
   "source": [
    "%load_ext tikzmagic"
   ]
  },
  {
   "cell_type": "code",
   "execution_count": null,
   "metadata": {
    "ExecuteTime": {
     "end_time": "2018-10-08T14:43:23.284001Z",
     "start_time": "2018-10-08T14:43:23.268755Z"
    },
    "scrolled": false
   },
   "outputs": [],
   "source": [
    "#DEBUG = True\n",
    "if DEBUG: help(tikzmagic)"
   ]
  },
  {
   "cell_type": "raw",
   "metadata": {},
   "source": [
    "%tikz \\draw (0,0) rectangle (1,1);"
   ]
  },
  {
   "cell_type": "raw",
   "metadata": {},
   "source": [
    "%%tikz --save {fname}.pdf\n",
    "\\draw[white, fill=white] (0.\\linewidth,0) rectangle (1.\\linewidth, .382\\linewidth) ;"
   ]
  },
  {
   "cell_type": "code",
   "execution_count": null,
   "metadata": {
    "ExecuteTime": {
     "end_time": "2018-10-08T14:43:24.719734Z",
     "start_time": "2018-10-08T14:43:23.285861Z"
    }
   },
   "outputs": [],
   "source": [
    "%%tikz -f pdf --save {fname}.pdf\n",
    "\\draw[white, fill=white] (0.\\linewidth,0) rectangle (1.\\linewidth, .382\\linewidth) ;\n",
    "\\draw [anchor=north west] (.0\\linewidth, .382\\linewidth) node {\\includegraphics[width=.5\\linewidth]{/tmp/panel_A}};\n",
    "\\draw [anchor=north west] (.5\\linewidth, .382\\linewidth) node {\\includegraphics[width=.5\\linewidth]{/tmp/panel_B}};\n",
    "\\begin{scope}[font=\\bf\\sffamily\\large]\n",
    "\\draw [anchor=west,fill=white] (.0\\linewidth, .382\\linewidth) node [above right=-3mm] {$\\mathsf{A}$};\n",
    "\\draw [anchor=west,fill=white] (.53\\linewidth, .382\\linewidth) node [above right=-3mm] {$\\mathsf{B}$};\n",
    "\\end{scope}"
   ]
  },
  {
   "cell_type": "code",
   "execution_count": null,
   "metadata": {
    "ExecuteTime": {
     "end_time": "2018-10-08T14:43:27.591507Z",
     "start_time": "2018-10-08T14:43:24.722160Z"
    }
   },
   "outputs": [],
   "source": [
    "!convert  -density {dpi_export} {fname}.pdf {fname}.jpg\n",
    "!convert  -density {dpi_export} {fname}.pdf {fname}.png\n",
    "#!convert  -density {dpi_export} -resize 5400  -units pixelsperinch -flatten  -compress lzw  -depth 8 {fname}.pdf {fname}.tiff\n",
    "Image(fname +'.png')"
   ]
  },
  {
   "cell_type": "raw",
   "metadata": {},
   "source": [
    "!echo \"width=\" ; convert {fname}.tiff -format \"%[fx:w]\" info:\n",
    "!echo \", \\nheight=\" ; convert {fname}.tiff -format \"%[fx:h]\" info:\n",
    "!echo \", \\nunit=\" ; convert {fname}.tiff -format \"%U\" info:"
   ]
  },
  {
   "cell_type": "raw",
   "metadata": {},
   "source": [
    "!identify {fname}.tiff"
   ]
  },
  {
   "cell_type": "markdown",
   "metadata": {},
   "source": [
    "## figure 2: Histogram Equalization Homeostasis\n",
    "\n"
   ]
  },
  {
   "cell_type": "code",
   "execution_count": null,
   "metadata": {
    "ExecuteTime": {
     "end_time": "2018-10-08T14:43:27.612994Z",
     "start_time": "2018-10-08T14:43:27.593849Z"
    }
   },
   "outputs": [],
   "source": [
    "fname = 'figure_HEH'"
   ]
  },
  {
   "cell_type": "markdown",
   "metadata": {},
   "source": [
    "First collecting data:"
   ]
  },
  {
   "cell_type": "code",
   "execution_count": null,
   "metadata": {
    "ExecuteTime": {
     "end_time": "2018-10-08T14:43:30.007220Z",
     "start_time": "2018-10-08T14:43:27.615203Z"
    }
   },
   "outputs": [],
   "source": [
    "list_figures = ['show_Pcum']\n",
    "\n",
    "dico = {}\n",
    "for homeo_method in homeo_methods:\n",
    "    print(hl + hs + homeo_method + hs + hl)\n",
    "    shl = SHL(homeo_method=homeo_method, **opts)\n",
    "    #dico[homeo_method] = shl.learn_dico(data=data, list_figures=list_figures, matname=tag + '_' + homeo_method + '_' + str(one_cv))\n",
    "    dico[homeo_method] = shl.learn_dico(data=data, list_figures=list_figures, matname=tag + '_' + homeo_method + '_seed=' + str(seed+one_cv))\n",
    "    plt.show()"
   ]
  },
  {
   "cell_type": "code",
   "execution_count": null,
   "metadata": {
    "ExecuteTime": {
     "end_time": "2018-10-08T14:43:30.025129Z",
     "start_time": "2018-10-08T14:43:30.009030Z"
    }
   },
   "outputs": [],
   "source": [
    "dico[homeo_method].P_cum.shape"
   ]
  },
  {
   "cell_type": "markdown",
   "metadata": {},
   "source": [
    "### panel A: different P_cum\n",
    "\n"
   ]
  },
  {
   "cell_type": "code",
   "execution_count": null,
   "metadata": {
    "ExecuteTime": {
     "end_time": "2018-10-08T14:43:33.104823Z",
     "start_time": "2018-10-08T14:43:30.026829Z"
    }
   },
   "outputs": [],
   "source": [
    "pname = '/tmp/panel_A' #pname = fname + '_A'\n",
    "\n",
    "from shl_scripts import plot_P_cum\n",
    "variable = 'F'\n",
    "subplotpars = dict(left=0.2, right=.95, bottom=0.2, top=.95)#, wspace=0.05, hspace=0.05,)\n",
    "fig, ax = plt.subplots(1, 1, figsize=(fig_width/2, fig_width/(1+phi)), gridspec_kw=subplotpars)\n",
    "for color, homeo_method in zip(colors, homeo_methods): \n",
    "    ax.axis(c='b', lw=2, axisbg='w')\n",
    "    ax.set_facecolor('w')\n",
    "    fig, ax = plot_P_cum(dico[homeo_method].P_cum, ymin=0.95, ymax=1.001, \n",
    "                         title=None, suptitle=None, ylabel='non-linear functions', \n",
    "                         verbose=False, n_yticks=21, alpha=.02, c=color, fig=fig, ax=ax)\n",
    "    ax.plot([0], [0], lw=1, color=color, label=homeo_method, alpha=.6)\n",
    "    # ax.set_ylabel(homeo_method)\n",
    "    #ax.text(-8, 7*dim_graph[0], homeo_method, fontsize=12, color='k', rotation=90)#, backgroundcolor='white'\n",
    "ax.legend(loc='lower right')\n",
    "for ext in FORMATS: fig.savefig(pname + ext, dpi=dpi_export)\n",
    "if DEBUG: Image(pname +'.png')"
   ]
  },
  {
   "cell_type": "code",
   "execution_count": null,
   "metadata": {
    "ExecuteTime": {
     "end_time": "2018-10-08T14:43:33.121619Z",
     "start_time": "2018-10-08T14:43:33.106552Z"
    }
   },
   "outputs": [],
   "source": [
    "if DEBUG: help(fig.legend)"
   ]
  },
  {
   "cell_type": "markdown",
   "metadata": {},
   "source": [
    "### panel B: comparing the effects of parameters\n",
    "\n"
   ]
  },
  {
   "cell_type": "code",
   "execution_count": null,
   "metadata": {
    "ExecuteTime": {
     "end_time": "2018-10-08T14:43:35.692482Z",
     "start_time": "2018-10-08T14:43:33.123270Z"
    },
    "scrolled": false
   },
   "outputs": [],
   "source": [
    "pname = '/tmp/panel_B' #fname + '_B'\n",
    "\n",
    "\n",
    "from shl_scripts.shl_experiments import SHL_set\n",
    "\n",
    "homeo_methods = ['None', 'EMP', 'HAP', 'HEH', 'OLS']\n",
    "\n",
    "homeo_methods = ['None', 'OLS', 'HEH']\n",
    "\n",
    "variables = ['eta', 'alpha_homeo', 'eta_homeo', 'l0_sparseness', 'n_dictionary']\n",
    "variables = ['eta', 'alpha_homeo', 'eta_homeo', 'l0_sparseness']\n",
    "variables = ['alpha_homeo', 'eta_homeo']\n",
    "variables = ['eta', 'alpha_homeo', 'eta_homeo']\n",
    "variables = ['eta', 'eta_homeo']\n",
    "\n",
    "list_figures = []\n",
    "\n",
    "bases = [10, 10, 2, 2]\n",
    "\n",
    "for homeo_method, base in zip(homeo_methods, bases):\n",
    "    opts_ = opts.copy()\n",
    "    opts_.update(homeo_method=homeo_method)\n",
    "    experiments = SHL_set(opts_, tag=tag + '_' + homeo_method, base=base)\n",
    "    experiments.run(variables=variables, n_jobs=1, verbose=0)\n",
    "    \n",
    "\n",
    "import matplotlib.pyplot as plt\n",
    "subplotpars = dict(left=0.2, right=.95, bottom=0.2, top=.95, wspace=0.5, hspace=0.35,)\n",
    "\n",
    "x, y = .05, -.3\n",
    "\n",
    "if len(variables)==4:\n",
    "    fig, axs = plt.subplots(2, 2, figsize=(fig_width/2, fig_width/(1+phi)), gridspec_kw=subplotpars, sharey=True)\n",
    "    for i_ax, variable in enumerate(variables):\n",
    "        for color, homeo_method in zip(colors, homeo_methods): \n",
    "            opts_ = opts.copy()\n",
    "            opts_.update(homeo_method=homeo_method)\n",
    "            experiments = SHL_set(opts_, tag=tag + '_' + homeo_method)\n",
    "            ax = axs[i_ax%2][i_ax//2]\n",
    "            fig, ax = experiments.scan(variable=variable, list_figures=[], display='final', fig=fig, ax=ax, color=color, display_variable='F', verbose=0) #, label=homeo_metho\n",
    "            ax.set_xlabel('') #variable\n",
    "            ax.text(x, y,  variable, transform=axs[i_ax].transAxes) \n",
    "            #axs[i_ax].get_xaxis().set_major_formatter(matplotlib.ticker.ScalarFormatter())\n",
    "\n",
    "else:    \n",
    "    fig, axs = plt.subplots(len(variables), 1, figsize=(fig_width/2, fig_width/(1+phi)), gridspec_kw=subplotpars, sharey=True)\n",
    "\n",
    "    for i_ax, variable in enumerate(variables):\n",
    "        for color, homeo_method in zip(colors, homeo_methods): \n",
    "            opts_ = opts.copy()\n",
    "            opts_.update(homeo_method=homeo_method)\n",
    "            experiments = SHL_set(opts_, tag=tag + '_' + homeo_method)\n",
    "            fig, axs[i_ax] = experiments.scan(variable=variable, list_figures=[], display='final', fig=fig, ax=axs[i_ax], color=color, display_variable='F', verbose=0) #, label=homeo_metho\n",
    "            axs[i_ax].set_xlabel('') #variable\n",
    "            axs[i_ax].text(x, y,  variable, transform=axs[i_ax].transAxes) \n",
    "            #axs[i_ax].get_xaxis().set_major_formatter(matplotlib.ticker.ScalarFormatter())\n",
    "\n",
    "#fig.legend(loc='lower right')\n",
    "for ext in FORMATS: fig.savefig(pname + ext, dpi=dpi_export)\n",
    "if DEBUG: Image(pname +'.png')"
   ]
  },
  {
   "cell_type": "markdown",
   "metadata": {},
   "source": [
    "\n",
    "### Montage of the subplots\n"
   ]
  },
  {
   "cell_type": "code",
   "execution_count": null,
   "metadata": {
    "ExecuteTime": {
     "end_time": "2018-10-08T14:43:37.466855Z",
     "start_time": "2018-10-08T14:43:35.694457Z"
    }
   },
   "outputs": [],
   "source": [
    "%%tikz -f pdf --save {fname}.pdf\n",
    "\\draw[white, fill=white] (0.\\linewidth,0) rectangle (1.\\linewidth, .382\\linewidth) ;\n",
    "\\draw [anchor=north west] (.0\\linewidth, .382\\linewidth) node {\\includegraphics[width=.5\\linewidth]{/tmp/panel_A.pdf}};\n",
    "\\draw [anchor=north west] (.5\\linewidth, .382\\linewidth) node {\\includegraphics[width=.5\\linewidth]{/tmp/panel_B.pdf}};\n",
    "\\begin{scope}[font=\\bf\\sffamily\\large]\n",
    "\\draw [anchor=west,fill=white] (.0\\linewidth, .382\\linewidth) node [above right=-3mm] {$\\mathsf{A}$};\n",
    "\\draw [anchor=west,fill=white] (.53\\linewidth, .382\\linewidth) node [above right=-3mm] {$\\mathsf{B}$};\n",
    "\\end{scope}"
   ]
  },
  {
   "cell_type": "code",
   "execution_count": null,
   "metadata": {
    "ExecuteTime": {
     "end_time": "2018-10-08T14:43:43.250945Z",
     "start_time": "2018-10-08T14:43:37.469057Z"
    }
   },
   "outputs": [],
   "source": [
    "!convert  -density {dpi_export} {fname}.pdf {fname}.jpg\n",
    "!convert  -density {dpi_export} {fname}.pdf {fname}.png\n",
    "#!convert  -density {dpi_export} -resize 5400  -units pixelsperinch -flatten  -compress lzw  -depth 8 {fname}.pdf {fname}.tiff\n",
    "Image(fname +'.png')"
   ]
  },
  {
   "cell_type": "raw",
   "metadata": {},
   "source": [
    "!echo \"width=\" ; convert {fname}.tiff -format \"%[fx:w]\" info:\n",
    "!echo \", \\nheight=\" ; convert {fname}.tiff -format \"%[fx:h]\" info:\n",
    "!echo \", \\nunit=\" ; convert {fname}.tiff -format \"%U\" info:"
   ]
  },
  {
   "cell_type": "raw",
   "metadata": {},
   "source": [
    "!identify {fname}.tiff"
   ]
  },
  {
   "cell_type": "markdown",
   "metadata": {},
   "source": [
    "## figure 3:  \n",
    "\n",
    "\n",
    "### learning\n",
    "\n",
    "\n"
   ]
  },
  {
   "cell_type": "code",
   "execution_count": null,
   "metadata": {
    "ExecuteTime": {
     "end_time": "2018-10-08T14:43:43.268662Z",
     "start_time": "2018-10-08T14:43:43.252987Z"
    }
   },
   "outputs": [],
   "source": [
    "fname = 'figure_HAP'"
   ]
  },
  {
   "cell_type": "code",
   "execution_count": null,
   "metadata": {
    "ExecuteTime": {
     "end_time": "2018-10-08T14:43:43.476032Z",
     "start_time": "2018-10-08T14:43:43.270522Z"
    },
    "scrolled": true
   },
   "outputs": [],
   "source": [
    "colors = ['orange', 'red', 'green', 'blue']\n",
    "homeo_methods = ['OLS', 'HEH', 'EMP', 'HAP']\n",
    "list_figures = []\n",
    "dico = {}\n",
    "for i_cv in range(N_cv):\n",
    "    dico[i_cv] = {}\n",
    "    for homeo_method in homeo_methods:\n",
    "        shl = SHL(homeo_method=homeo_method, seed=seed+i_cv, **opts)\n",
    "        dico[i_cv][homeo_method] = shl.learn_dico(data=data, list_figures=list_figures, matname=tag + '_' + homeo_method + '_seed=' + str(seed+i_cv))\n",
    "\n",
    "list_figures = ['show_dico'] if DEBUG else []\n",
    "for i_cv in [one_cv]:\n",
    "    for homeo_method in homeo_methods:\n",
    "        print(hl + hs + homeo_method + hs + hl)\n",
    "        shl = SHL(homeo_method=homeo_method, seed=seed+i_cv, **opts)\n",
    "        shl.learn_dico(data=data, list_figures=list_figures, matname=tag + '_' + homeo_method + '_seed=' + str(seed+i_cv))\n",
    "        plt.show()\n",
    "        print('size of dictionary = (number of filters, size of imagelets) = ', dico[i_cv][homeo_method].dictionary.shape)\n",
    "        print('average of filters = ',  dico[i_cv][homeo_method].dictionary.mean(axis=1).mean(), \n",
    "              '+/-',  dico[i_cv][homeo_method].dictionary.mean(axis=1).std())\n",
    "        SE = np.sqrt(np.sum(dico[i_cv][homeo_method].dictionary**2, axis=1))\n",
    "        print('average energy of filters = ', SE.mean(), '+/-', SE.std())"
   ]
  },
  {
   "cell_type": "markdown",
   "metadata": {},
   "source": [
    "### panel A: plotting some dictionaries\n",
    "\n"
   ]
  },
  {
   "cell_type": "code",
   "execution_count": null,
   "metadata": {
    "ExecuteTime": {
     "end_time": "2018-10-08T14:43:43.491121Z",
     "start_time": "2018-10-08T14:43:43.477750Z"
    }
   },
   "outputs": [],
   "source": [
    "pname = '/tmp/panel_A' #pname = fname + '_A'"
   ]
  },
  {
   "cell_type": "code",
   "execution_count": null,
   "metadata": {
    "ExecuteTime": {
     "end_time": "2018-10-08T14:43:44.452951Z",
     "start_time": "2018-10-08T14:43:43.492934Z"
    }
   },
   "outputs": [],
   "source": [
    "\n",
    "subplotpars = dict( left=0.042, right=1., bottom=0., top=1., wspace=0.05, hspace=0.05,)\n",
    "fig, axs = plt.subplots(3, 1, figsize=(fig_width/2, fig_width/(1+phi)), gridspec_kw=subplotpars)\n",
    "\n",
    "for ax, color, homeo_method in zip(axs.ravel(), colors[1:], homeo_methods[1:]): \n",
    "    ax.axis(c=color, lw=2, axisbg='w')\n",
    "    ax.set_facecolor('w')\n",
    "    from shl_scripts import show_dico\n",
    "    fig, ax = show_dico(shl, dico[one_cv][homeo_method], data=data, dim_graph=dim_graph, fig=fig, ax=ax)\n",
    "    # ax.set_ylabel(homeo_method)\n",
    "    ax.text(-8, 7*dim_graph[0], homeo_method, fontsize=12, color=color, rotation=90)#, backgroundcolor='white'\n",
    "\n",
    "for ext in FORMATS: fig.savefig(pname + ext, dpi=dpi_export)"
   ]
  },
  {
   "cell_type": "markdown",
   "metadata": {},
   "source": [
    "### panel B: quantitative comparison\n",
    "\n"
   ]
  },
  {
   "cell_type": "code",
   "execution_count": null,
   "metadata": {
    "ExecuteTime": {
     "end_time": "2018-10-08T14:43:44.476136Z",
     "start_time": "2018-10-08T14:43:44.457226Z"
    }
   },
   "outputs": [],
   "source": [
    "pname = '/tmp/panel_B' #fname + '_B'"
   ]
  },
  {
   "cell_type": "code",
   "execution_count": null,
   "metadata": {
    "ExecuteTime": {
     "end_time": "2018-10-08T14:43:45.322538Z",
     "start_time": "2018-10-08T14:43:44.478872Z"
    }
   },
   "outputs": [],
   "source": [
    "from shl_scripts import time_plot\n",
    "variable = 'F'\n",
    "alpha = .3\n",
    "subplotpars = dict(left=0.2, right=.95, bottom=0.2, top=.95)#, wspace=0.05, hspace=0.05,)\n",
    "fig, ax = plt.subplots(1, 1, figsize=(fig_width/2, fig_width/(1+phi)), gridspec_kw=subplotpars)\n",
    "for i_cv in range(N_cv):\n",
    "    for color, homeo_method in zip(colors, homeo_methods): \n",
    "        ax.axis(c='b', lw=2, axisbg='w')\n",
    "        ax.set_facecolor('w')\n",
    "        if i_cv==0:\n",
    "            fig, ax = time_plot(shl, dico[i_cv][homeo_method], variable=variable, unit='bits', color=color, label=homeo_method, alpha=alpha_0, fig=fig, ax=ax)\n",
    "        else:\n",
    "            fig, ax = time_plot(shl, dico[i_cv][homeo_method], variable=variable, unit='bits', color=color, alpha=alpha, fig=fig, ax=ax)        \n",
    "ax.legend(loc='best')\n",
    "for ext in FORMATS: fig.savefig(pname + ext, dpi=dpi_export)\n",
    "if DEBUG: Image(pname +'.png')    "
   ]
  },
  {
   "cell_type": "code",
   "execution_count": null,
   "metadata": {
    "ExecuteTime": {
     "end_time": "2018-10-08T14:43:45.340267Z",
     "start_time": "2018-10-08T14:43:45.324500Z"
    }
   },
   "outputs": [],
   "source": [
    "if DEBUG: Image(pname +'.png')"
   ]
  },
  {
   "cell_type": "markdown",
   "metadata": {},
   "source": [
    "\n",
    "### Montage of the subplots\n"
   ]
  },
  {
   "cell_type": "code",
   "execution_count": null,
   "metadata": {
    "ExecuteTime": {
     "end_time": "2018-10-08T14:43:46.484738Z",
     "start_time": "2018-10-08T14:43:45.342139Z"
    }
   },
   "outputs": [],
   "source": [
    "%%tikz -f pdf --save {fname}.pdf\n",
    "\\draw[white, fill=white] (0.\\linewidth,0) rectangle (1.\\linewidth, .382\\linewidth) ;\n",
    "\\draw [anchor=north west] (.0\\linewidth, .382\\linewidth) node {\\includegraphics[width=.5\\linewidth]{/tmp/panel_A}};\n",
    "\\draw [anchor=north west] (.5\\linewidth, .382\\linewidth) node {\\includegraphics[width=.5\\linewidth]{/tmp/panel_B}};\n",
    "\\begin{scope}[font=\\bf\\sffamily\\large]\n",
    "\\draw [anchor=west,fill=white] (.0\\linewidth, .382\\linewidth) node [above right=-3mm] {$\\mathsf{A}$};\n",
    "\\draw [anchor=west,fill=white] (.53\\linewidth, .382\\linewidth) node [above right=-3mm] {$\\mathsf{B}$};\n",
    "\\end{scope}"
   ]
  },
  {
   "cell_type": "code",
   "execution_count": null,
   "metadata": {
    "ExecuteTime": {
     "end_time": "2018-10-08T14:43:49.295523Z",
     "start_time": "2018-10-08T14:43:46.486895Z"
    }
   },
   "outputs": [],
   "source": [
    "!convert  -density {dpi_export} {fname}.pdf {fname}.jpg\n",
    "!convert  -density {dpi_export} {fname}.pdf {fname}.png\n",
    "#!convert  -density {dpi_export} -resize 5400  -units pixelsperinch -flatten  -compress lzw  -depth 8 {fname}.pdf {fname}.tiff\n",
    "Image(fname +'.png')"
   ]
  },
  {
   "cell_type": "raw",
   "metadata": {},
   "source": [
    "!echo \"width=\" ; convert {fname}.tiff -format \"%[fx:w]\" info:\n",
    "!echo \", \\nheight=\" ; convert {fname}.tiff -format \"%[fx:h]\" info:\n",
    "!echo \", \\nunit=\" ; convert {fname}.tiff -format \"%U\" info:"
   ]
  },
  {
   "cell_type": "raw",
   "metadata": {},
   "source": [
    "!identify {fname}.tiff"
   ]
  },
  {
   "cell_type": "markdown",
   "metadata": {},
   "source": [
    "## figure 4: Convolutional Neural Network  \n",
    "\n",
    "\n"
   ]
  },
  {
   "cell_type": "code",
   "execution_count": null,
   "metadata": {
    "ExecuteTime": {
     "end_time": "2018-10-08T14:43:49.313812Z",
     "start_time": "2018-10-08T14:43:49.297667Z"
    }
   },
   "outputs": [],
   "source": [
    "fname = 'figure_CNN'"
   ]
  },
  {
   "cell_type": "code",
   "execution_count": null,
   "metadata": {
    "ExecuteTime": {
     "end_time": "2018-10-08T14:43:54.194074Z",
     "start_time": "2018-10-08T14:43:49.315704Z"
    }
   },
   "outputs": [],
   "source": [
    "from CHAMP.DataLoader import LoadData\n",
    "from CHAMP.DataTools import LocalContrastNormalization, FilterInputData, GenerateMask\n",
    "from CHAMP.Monitor import DisplayDico, DisplayConvergenceCHAMP, DisplayWhere\n",
    "\n",
    "import os\n",
    "datapath = os.path.join(\"/tmp\", \"database\")\n",
    "path = os.path.join(datapath, \"Raw_DataBase\")\n",
    "TrSet, TeSet = LoadData('Face', path, decorrelate=False, resize=(65, 65))\n",
    "\n",
    "# MP Parameters\n",
    "nb_dico = 20\n",
    "width = 9\n",
    "dico_size = (width, width)\n",
    "l0 = 20\n",
    "seed = 42\n",
    "# Learning Parameters\n",
    "eta = .05\n",
    "nb_epoch = 500\n",
    "\n",
    "TrSet, TeSet = LoadData('Face', path, decorrelate=False, resize=(65, 65))\n",
    "N_TrSet, _, _, _ = LocalContrastNormalization(TrSet)\n",
    "Filtered_L_TrSet = FilterInputData(\n",
    "    N_TrSet, sigma=0.25, style='Custom', start_R=15)\n",
    "\n",
    "mask = GenerateMask(full_size=(nb_dico, 1, width, width), sigma=0.8, style='Gaussian')\n",
    "\n",
    "from CHAMP.CHAMP_Layer import CHAMP_Layer\n",
    "\n",
    "from CHAMP.DataTools import SaveNetwork, LoadNetwork\n",
    "homeo_methods = ['None', 'HAP']\n",
    "\n",
    "for homeo_method, eta_homeo  in zip(homeo_methods, [0., 0.0025]):\n",
    "    ffname = 'cache_dir_CNN/CHAMP_low_' + homeo_method + '.pkl'\n",
    "    try:\n",
    "        L1_mask = LoadNetwork(loading_path=ffname)\n",
    "    except:\n",
    "        L1_mask = CHAMP_Layer(l0_sparseness=l0, nb_dico=nb_dico,\n",
    "                          dico_size=dico_size, mask=mask, verbose=1)\n",
    "        dico_mask = L1_mask.TrainLayer(\n",
    "            Filtered_L_TrSet, eta=eta, eta_homeo=eta_homeo, nb_epoch=nb_epoch, seed=seed)\n",
    "        SaveNetwork(Network=L1_mask, saving_path=ffname)\n"
   ]
  },
  {
   "cell_type": "markdown",
   "metadata": {},
   "source": [
    "### panel A: plotting some dictionaries\n",
    "\n"
   ]
  },
  {
   "cell_type": "code",
   "execution_count": null,
   "metadata": {
    "ExecuteTime": {
     "end_time": "2018-10-08T14:43:54.251418Z",
     "start_time": "2018-10-08T14:43:54.202271Z"
    }
   },
   "outputs": [],
   "source": [
    "pname = '/tmp/panel_A' #pname = fname + '_A'"
   ]
  },
  {
   "cell_type": "raw",
   "metadata": {},
   "source": [
    "subplotpars = dict( left=0.042, right=1., bottom=0., top=1., wspace=0.05, hspace=0.05,)\n",
    "fig, axs = plt.subplots(2, 1, figsize=(fig_width/2, fig_width/(1+phi)), gridspec_kw=subplotpars)\n",
    "\n",
    "for ax, color, homeo_method in zip(axs.ravel(), ['black', 'green'], homeo_methods): \n",
    "    ax.axis(c=color, lw=2, axisbg='w')\n",
    "    ax.set_facecolor('w')\n",
    "    ffname = 'cache_dir/CHAMP_low_' + homeo_method + '.pkl'\n",
    "    L1_mask = LoadNetwork(loading_path=ffname)\n",
    "    fig, ax = DisplayDico(L1_mask.dictionary, fig=fig, ax=ax)\n",
    "    # ax.set_ylabel(homeo_method)\n",
    "    ax.text(-8, 7*dim_graph[0], homeo_method, fontsize=12, color=color, rotation=90)#, backgroundcolor='white'\n",
    "    \n",
    "for ext in FORMATS: fig.savefig(pname + ext, dpi=dpi_export)"
   ]
  },
  {
   "cell_type": "code",
   "execution_count": null,
   "metadata": {
    "ExecuteTime": {
     "end_time": "2018-10-08T14:43:56.798646Z",
     "start_time": "2018-10-08T14:43:54.253677Z"
    }
   },
   "outputs": [],
   "source": [
    "subplotpars = dict(left=0.042, right=1., bottom=0., top=1., wspace=0.05, hspace=0.05,)\n",
    "\n",
    "for color, homeo_method in zip(['black', 'green'], homeo_methods): \n",
    "    #fig, axs = plt.subplots(1, 1, figsize=(fig_width/2, fig_width/(1+phi)), gridspec_kw=subplotpars)\n",
    "    ffname = 'cache_dir_CNN/CHAMP_low_' + homeo_method + '.pkl'\n",
    "    L1_mask = LoadNetwork(loading_path=ffname)\n",
    "    fig, ax = DisplayDico(L1_mask.dictionary)\n",
    "    # ax.set_ylabel(homeo_method)\n",
    "    #for ax in list(axs):\n",
    "    #    ax.axis(c=color, lw=2, axisbg='w')\n",
    "    #    ax.set_facecolor('w')\n",
    "    ax[0].text(-4, 3, homeo_method, fontsize=8, color=color, rotation=90)#, backgroundcolor='white'\n",
    "    plt.tight_layout( pad=0., w_pad=0., h_pad=.0)\n",
    "\n",
    "\n",
    "    for ext in FORMATS: fig.savefig(pname + '_' + homeo_method + ext, dpi=dpi_export)\n"
   ]
  },
  {
   "cell_type": "markdown",
   "metadata": {},
   "source": [
    "### panel B: quantitative comparison\n",
    "\n"
   ]
  },
  {
   "cell_type": "code",
   "execution_count": null,
   "metadata": {
    "ExecuteTime": {
     "end_time": "2018-10-08T14:43:56.821058Z",
     "start_time": "2018-10-08T14:43:56.800524Z"
    }
   },
   "outputs": [],
   "source": [
    "pname = '/tmp/panel_B' #fname + '_B'"
   ]
  },
  {
   "cell_type": "raw",
   "metadata": {},
   "source": [
    "from shl_scripts import time_plot\n",
    "variable = 'F'\n",
    "alpha = .3\n",
    "subplotpars = dict(left=0.2, right=.95, bottom=0.2, top=.95)#, wspace=0.05, hspace=0.05,)\n",
    "fig, axs = plt.subplots(2, 1, figsize=(fig_width/2, fig_width/(1+phi)), gridspec_kw=subplotpars)\n",
    "\n",
    "for ax, color, homeo_method in zip(axs, ['black', 'green'], homeo_methods): \n",
    "    print(ax, axs)\n",
    "    ffname = 'cache_dir_CNN/CHAMP_low_' + homeo_method + '.pkl'\n",
    "    L1_mask = LoadNetwork(loading_path=ffname)\n",
    "    fig, ax = DisplayConvergenceCHAMP(L1_mask, to_display=['histo'], fig=fig, ax=ax)\n",
    "    ax.axis(c=color, lw=2, axisbg='w')\n",
    "    ax.set_facecolor('w')\n",
    "    # ax.set_ylabel(homeo_method)\n",
    "    #ax.text(-8, 7*dim_graph[0], homeo_method, fontsize=12, color=color, rotation=90)#, backgroundcolor='white'\n",
    "\n",
    "for ext in FORMATS: fig.savefig(pname + ext, dpi=dpi_export)\n",
    "if DEBUG: Image(pname +'.png')    "
   ]
  },
  {
   "cell_type": "code",
   "execution_count": null,
   "metadata": {
    "ExecuteTime": {
     "end_time": "2018-10-08T14:43:58.311162Z",
     "start_time": "2018-10-08T14:43:56.823045Z"
    }
   },
   "outputs": [],
   "source": [
    "from shl_scripts import time_plot\n",
    "variable = 'F'\n",
    "alpha = .3\n",
    "subplotpars = dict(left=0.2, right=.95, bottom=0.2, top=.95)#, wspace=0.05, hspace=0.05,)\n",
    "\n",
    "for color, homeo_method in zip(['black', 'green'], homeo_methods): \n",
    "    #fig, axs = plt.subplots(1, 1, figsize=(fig_width/2, fig_width/(1+phi)), gridspec_kw=subplotpars)\n",
    "    ffname = 'cache_dir_CNN/CHAMP_low_' + homeo_method + '.pkl'\n",
    "    L1_mask = LoadNetwork(loading_path=ffname)\n",
    "    fig, ax = DisplayConvergenceCHAMP(L1_mask, to_display=['histo'], color=color)\n",
    "    ax.axis(c=color, lw=2, axisbg='w')\n",
    "    ax.set_facecolor('w')\n",
    "    ax.set_ylabel('counts')\n",
    "    ax.set_xlabel('feature #')\n",
    "    ax.set_ylim(0, 560)\n",
    "    #ax.text(-8, 7*dim_graph[0], homeo_method, fontsize=12, color=color, rotation=90)#, backgroundcolor='white'\n",
    "    #ax[0].text(-8, 3, homeo_method, fontsize=12, color=color, rotation=90)#, backgroundcolor='white'\n",
    "    \n",
    "    for ext in FORMATS: fig.savefig(pname + '_' + homeo_method + ext, dpi=dpi_export)\n",
    "    if DEBUG: Image(pname +'.png')    "
   ]
  },
  {
   "cell_type": "markdown",
   "metadata": {},
   "source": [
    "\n",
    "### Montage of the subplots\n"
   ]
  },
  {
   "cell_type": "code",
   "execution_count": null,
   "metadata": {
    "ExecuteTime": {
     "end_time": "2018-10-08T14:43:58.459619Z",
     "start_time": "2018-10-08T14:43:58.313005Z"
    }
   },
   "outputs": [],
   "source": [
    "%ls -ltr /tmp/panel_*"
   ]
  },
  {
   "cell_type": "code",
   "execution_count": null,
   "metadata": {
    "ExecuteTime": {
     "end_time": "2018-10-08T14:43:58.484882Z",
     "start_time": "2018-10-08T14:43:58.462329Z"
    }
   },
   "outputs": [],
   "source": [
    "fname"
   ]
  },
  {
   "cell_type": "code",
   "execution_count": null,
   "metadata": {
    "ExecuteTime": {
     "end_time": "2018-10-08T14:43:58.505731Z",
     "start_time": "2018-10-08T14:43:58.486443Z"
    }
   },
   "outputs": [],
   "source": [
    "382+191"
   ]
  },
  {
   "cell_type": "code",
   "execution_count": null,
   "metadata": {
    "ExecuteTime": {
     "end_time": "2018-10-08T14:43:59.537368Z",
     "start_time": "2018-10-08T14:43:58.507425Z"
    }
   },
   "outputs": [],
   "source": [
    "%%tikz -f pdf --save {fname}.pdf\n",
    "\\draw[white, fill=white] (0.\\linewidth,0) rectangle (1.\\linewidth, .382\\linewidth) ;\n",
    "\\draw [anchor=north west] (.0\\linewidth, .375\\linewidth) node {\\includegraphics[width=.95\\linewidth]{/tmp/panel_A_None}};\n",
    "\\draw [anchor=north west] (.0\\linewidth, .300\\linewidth) node {\\includegraphics[width=.95\\linewidth]{/tmp/panel_A_HAP}};\n",
    "\\draw [anchor=north west] (.0\\linewidth, .191\\linewidth) node {\\includegraphics[width=.45\\linewidth]{/tmp/panel_B_None}};\n",
    "\\draw [anchor=north west] (.5\\linewidth, .191\\linewidth) node {\\includegraphics[width=.45\\linewidth]{/tmp/panel_B_HAP}};\n",
    "\\begin{scope}[font=\\bf\\sffamily\\large]\n",
    "%\\draw [anchor=west,fill=white] (.0\\linewidth, .382\\linewidth) node [above right=-3mm] {$\\mathsf{A}$};\n",
    "\\draw [anchor=west,fill=white] (.0\\linewidth, .191\\linewidth) node [above right=-3mm] {$\\mathsf{A}$};\n",
    "\\draw [anchor=west,fill=white] (.53\\linewidth, .191\\linewidth) node [above right=-3mm] {$\\mathsf{B}$};\n",
    "\\end{scope}"
   ]
  },
  {
   "cell_type": "code",
   "execution_count": null,
   "metadata": {
    "ExecuteTime": {
     "end_time": "2018-10-08T14:44:01.933166Z",
     "start_time": "2018-10-08T14:43:59.539356Z"
    }
   },
   "outputs": [],
   "source": [
    "!convert  -density {dpi_export} {fname}.pdf {fname}.jpg\n",
    "!convert  -density {dpi_export} {fname}.pdf {fname}.png\n",
    "#!convert  -density {dpi_export} -resize 5400  -units pixelsperinch -flatten  -compress lzw  -depth 8 {fname}.pdf {fname}.tiff\n",
    "Image(fname +'.png')"
   ]
  },
  {
   "cell_type": "raw",
   "metadata": {},
   "source": [
    "!echo \"width=\" ; convert {fname}.tiff -format \"%[fx:w]\" info:\n",
    "!echo \", \\nheight=\" ; convert {fname}.tiff -format \"%[fx:h]\" info:\n",
    "!echo \", \\nunit=\" ; convert {fname}.tiff -format \"%U\" info:"
   ]
  },
  {
   "cell_type": "raw",
   "metadata": {},
   "source": [
    "!identify {fname}.tiff"
   ]
  },
  {
   "cell_type": "markdown",
   "metadata": {},
   "source": [
    "## coding\n",
    "\n",
    "The learning itself is done via a gradient descent but is highly dependent on the coding / decoding algorithm. This belongs to a another function (in the [shl_encode.py](https://github.com/bicv/SHL_scripts/blob/master/shl_scripts/shl_encode.py) script)"
   ]
  },
  {
   "cell_type": "markdown",
   "metadata": {},
   "source": [
    "# Supplementary controls\n",
    "\n"
   ]
  },
  {
   "cell_type": "markdown",
   "metadata": {},
   "source": [
    "\n",
    "## starting a learning"
   ]
  },
  {
   "cell_type": "code",
   "execution_count": null,
   "metadata": {
    "ExecuteTime": {
     "end_time": "2018-10-08T14:53:29.926968Z",
     "start_time": "2018-10-08T14:44:01.935505Z"
    }
   },
   "outputs": [],
   "source": [
    "shl = SHL(**opts)\n",
    "list_figures = ['show_dico', 'show_Pcum', 'time_plot_F']\n",
    "dico = shl.learn_dico(data=data, list_figures=list_figures, matname=tag + '_vanilla')"
   ]
  },
  {
   "cell_type": "code",
   "execution_count": null,
   "metadata": {
    "ExecuteTime": {
     "end_time": "2018-10-08T14:53:29.976376Z",
     "start_time": "2018-10-08T14:53:29.928409Z"
    }
   },
   "outputs": [],
   "source": [
    "print('size of dictionary = (number of filters, size of imagelets) = ', dico.dictionary.shape)\n",
    "print('average of filters = ',  dico.dictionary.mean(axis=1).mean(), \n",
    "      '+/-',  dico.dictionary.mean(axis=1).std())\n",
    "SE = np.sqrt(np.sum(dico.dictionary**2, axis=1))\n",
    "print('average energy of filters = ', SE.mean(), '+/-', SE.std())"
   ]
  },
  {
   "cell_type": "markdown",
   "metadata": {},
   "source": [
    "\n",
    "## getting help"
   ]
  },
  {
   "cell_type": "code",
   "execution_count": null,
   "metadata": {
    "ExecuteTime": {
     "end_time": "2018-10-08T14:53:29.998006Z",
     "start_time": "2018-10-08T14:53:29.977745Z"
    }
   },
   "outputs": [],
   "source": [
    "help(shl)"
   ]
  },
  {
   "cell_type": "code",
   "execution_count": null,
   "metadata": {
    "ExecuteTime": {
     "end_time": "2018-10-08T14:53:30.018007Z",
     "start_time": "2018-10-08T14:53:29.999301Z"
    },
    "scrolled": false
   },
   "outputs": [],
   "source": [
    "help(dico)"
   ]
  },
  {
   "cell_type": "markdown",
   "metadata": {},
   "source": [
    "\n",
    "## loading a database\n",
    "\n",
    "Loading patches, with or without mask:"
   ]
  },
  {
   "cell_type": "code",
   "execution_count": null,
   "metadata": {
    "ExecuteTime": {
     "end_time": "2018-10-08T14:53:30.170526Z",
     "start_time": "2018-10-08T14:53:30.019373Z"
    }
   },
   "outputs": [],
   "source": [
    "N_patches = 12\n",
    "from shl_scripts.shl_tools import show_data\n",
    "opts_ = opts.copy()\n",
    "opts_.update(verbose=0)\n",
    "for i, (do_mask, label) in enumerate(zip([False, True], ['Without mask', 'With mask'])):\n",
    "    data_ = SHL(DEBUG_DOWNSCALE=1, N_patches=N_patches, n_image=1, do_mask=do_mask, seed=seed, **opts_).get_data()\n",
    "    fig, axs = show_data(data_)\n",
    "    axs[0].set_ylabel(label);\n",
    "    plt.show()"
   ]
  },
  {
   "cell_type": "markdown",
   "metadata": {},
   "source": [
    "## Testing different algorithms\n",
    "\n"
   ]
  },
  {
   "cell_type": "code",
   "execution_count": null,
   "metadata": {
    "ExecuteTime": {
     "end_time": "2018-10-08T14:53:30.173003Z",
     "start_time": "2018-10-08T14:43:18.334Z"
    }
   },
   "outputs": [],
   "source": [
    "fig, ax = None, None\n",
    "\n",
    "for homeo_method in ['None', 'HAP']:\n",
    "    for algorithm in ['lasso_lars', 'lars', 'elastic', 'omp', 'mp']: # 'threshold', 'lasso_cd', \n",
    "        opts_ = opts.copy()\n",
    "        opts_.update(homeo_method=homeo_method, learning_algorithm=algorithm, verbose=0)\n",
    "        shl = SHL(**opts_)\n",
    "        dico= shl.learn_dico(data=data, list_figures=[],\n",
    "                       matname=tag + ' - algorithm={}'.format(algorithm) + ' - homeo_method={}'.format(homeo_method))\n",
    "        fig, ax = shl.time_plot(dico, variable='F', fig=fig, ax=ax, label=algorithm +'_' + homeo_method)\n",
    "\n",
    "    ax.legend()"
   ]
  },
  {
   "cell_type": "markdown",
   "metadata": {},
   "source": [
    "## Testing two different dictionary initalization strategies\n",
    "\n",
    "White Noise Initialization + Learning"
   ]
  },
  {
   "cell_type": "code",
   "execution_count": null,
   "metadata": {
    "ExecuteTime": {
     "end_time": "2018-10-08T14:53:30.174270Z",
     "start_time": "2018-10-08T14:43:18.339Z"
    }
   },
   "outputs": [],
   "source": [
    "shl = SHL(one_over_F=False, **opts)\n",
    "dico_w = shl.learn_dico(data=data, matname=tag + '_WHITE', list_figures=[])\n",
    "shl = SHL(one_over_F=True, **opts)\n",
    "dico_1oF = shl.learn_dico(data=data, matname=tag + '_OVF', list_figures=[])\n",
    "fig_error, ax_error = None, None\n",
    "fig_error, ax_error = shl.time_plot(dico_w, variable='F', fig=fig_error, ax=ax_error, color='blue', label='white noise')\n",
    "fig_error, ax_error = shl.time_plot(dico_1oF, variable='F', fig=fig_error, ax=ax_error, color='red', label='one over f')\n",
    "#ax_error.set_ylim((0, .65))\n",
    "ax_error.legend(loc='best')"
   ]
  },
  {
   "cell_type": "markdown",
   "metadata": {},
   "source": [
    "## Testing  two different learning rates strategies\n",
    "\n",
    "We use by defaut the strategy of ADAM, see https://arxiv.org/pdf/1412.6980.pdf"
   ]
  },
  {
   "cell_type": "code",
   "execution_count": null,
   "metadata": {
    "ExecuteTime": {
     "end_time": "2018-10-08T14:53:30.175342Z",
     "start_time": "2018-10-08T14:43:18.342Z"
    }
   },
   "outputs": [],
   "source": [
    "shl = SHL(beta1=0., **opts)\n",
    "dico_fixed = shl.learn_dico(data=data, matname=tag + '_fixed', list_figures=[])\n",
    "shl = SHL(**opts)\n",
    "dico_default = shl.learn_dico(data=data, matname=tag + '_default', list_figures=[])\n",
    "fig_error, ax_error = None, None\n",
    "fig_error, ax_error = shl.time_plot(dico_fixed, variable='F', fig=fig_error, ax=ax_error, color='blue', label='fixed')\n",
    "fig_error, ax_error = shl.time_plot(dico_default, variable='F', fig=fig_error, ax=ax_error, color='red', label='ADAM')\n",
    "#ax_error.set_ylim((0, .65))\n",
    "ax_error.legend(loc='best')"
   ]
  },
  {
   "cell_type": "markdown",
   "metadata": {},
   "source": [
    "## Testing different number of neurons and sparsity\n",
    "\n",
    "As suggested by AnonReviewer3, we have tested how the convergence was modified by changing the number of neurons. By comparing different numbers of neurons we could re-draw the same figures for the convergence of the algorithm as in our original figures. In addition, we have also checked that this result will hold on a range of sparsity levels. In particular, we found that in general, increasing the ``l0_sparseness`` parameter, the convergence took progressively longer.  Importantly, we could see that in both cases, this did not depend on the kind of homeostasis heuristic chosen, proving the generality of our results.\n",
    "\n",
    "This is shown in the supplementary material that we have added to our revision (\"Testing different number of neurons and sparsity\") . This useful extension proves the originality of our work as highlighted in point 4, and the generality of these results compared to the parameters of the network.\n"
   ]
  },
  {
   "cell_type": "code",
   "execution_count": null,
   "metadata": {},
   "outputs": [],
   "source": [
    "\n",
    "from shl_scripts.shl_experiments import SHL_set\n",
    "homeo_methods = ['None', 'OLS', 'HEH']\n",
    "homeo_methods = ['None', 'EMP', 'HAP', 'HEH', 'OLS']\n",
    "\n",
    "variables = ['l0_sparseness', 'n_dictionary']\n",
    "list_figures = []\n",
    "\n",
    "#n_dictionary=21**2\n",
    "\n",
    "for homeo_method in homeo_methods:\n",
    "    opts_ = opts.copy()\n",
    "    opts_.update(homeo_method=homeo_method, datapath=datapath)\n",
    "    experiments = SHL_set(opts_, tag=tag + '_' + homeo_method)\n",
    "    experiments.run(variables=variables, n_jobs=1, verbose=0)\n",
    "\n",
    "fig, axs = plt.subplots(len(variables), 1, figsize=(fig_width/2, fig_width/(1+phi)), gridspec_kw=subplotpars, sharey=True)\n",
    "\n",
    "for i_ax, variable in enumerate(variables):\n",
    "    for color, homeo_method in zip(colors, homeo_methods): \n",
    "        opts_ = opts.copy()\n",
    "        opts_.update(homeo_method=homeo_method, datapath=datapath)\n",
    "        experiments = SHL_set(opts_, tag=tag + '_' + homeo_method)\n",
    "        fig, axs[i_ax] = experiments.scan(variable=variable, list_figures=[], display='final', fig=fig, ax=axs[i_ax], color=color, display_variable='F', verbose=0) #, label=homeo_metho\n",
    "        axs[i_ax].set_xlabel('') #variable\n",
    "        axs[i_ax].text(.1, .8,  variable, transform=axs[i_ax].transAxes) \n",
    "        #axs[i_ax].get_xaxis().set_major_formatter(matplotlib.ticker.ScalarFormatter())\n"
   ]
  },
  {
   "cell_type": "markdown",
   "metadata": {},
   "source": [
    "# Perspectives\n",
    "\n"
   ]
  },
  {
   "cell_type": "markdown",
   "metadata": {},
   "source": [
    "## Convolutional neural networks\n",
    "\n"
   ]
  },
  {
   "cell_type": "code",
   "execution_count": null,
   "metadata": {
    "ExecuteTime": {
     "end_time": "2018-10-08T14:53:30.176395Z",
     "start_time": "2018-10-08T14:43:18.348Z"
    }
   },
   "outputs": [],
   "source": [
    "from CHAMP.DataLoader import LoadData\n",
    "from CHAMP.DataTools import LocalContrastNormalization, FilterInputData, GenerateMask\n",
    "from CHAMP.Monitor import DisplayDico, DisplayConvergenceCHAMP, DisplayWhere\n",
    "\n",
    "import os\n",
    "home = os.getenv('HOME')\n",
    "datapath = os.path.join(\"/tmp\", \"database\")\n",
    "path = os.path.join(datapath, \"Face_DataBase\")\n",
    "TrSet, TeSet = LoadData('Face', path, decorrelate=False, resize=(65, 65))\n",
    "to_display = TrSet[0][0, 0:10, :, :, :]\n",
    "print('Size=', TrSet[0].shape)\n",
    "DisplayDico(to_display)"
   ]
  },
  {
   "cell_type": "markdown",
   "metadata": {},
   "source": [
    "### Training on a face database\n"
   ]
  },
  {
   "cell_type": "code",
   "execution_count": null,
   "metadata": {
    "ExecuteTime": {
     "end_time": "2018-10-08T14:53:30.177441Z",
     "start_time": "2018-10-08T14:43:18.352Z"
    }
   },
   "outputs": [],
   "source": [
    "# MP Parameters\n",
    "nb_dico = 20\n",
    "width = 9\n",
    "dico_size = (width, width)\n",
    "l0 = 20\n",
    "seed = 42\n",
    "# Learning Parameters\n",
    "eta = .05\n",
    "nb_epoch = 500\n",
    "\n",
    "TrSet, TeSet = LoadData('Face', path, decorrelate=False, resize=(65, 65))\n",
    "N_TrSet, _, _, _ = LocalContrastNormalization(TrSet)\n",
    "Filtered_L_TrSet = FilterInputData(\n",
    "    N_TrSet, sigma=0.25, style='Custom', start_R=15)\n",
    "to_display = Filtered_L_TrSet[0][0, 0:10, :, :, :]\n",
    "DisplayDico(to_display)\n",
    "\n",
    "mask = GenerateMask(full_size=(nb_dico, 1, width, width), sigma=0.8, style='Gaussian')\n",
    "DisplayDico(mask)"
   ]
  },
  {
   "cell_type": "markdown",
   "metadata": {},
   "source": [
    "### Training the ConvMP Layer with homeostasis\n"
   ]
  },
  {
   "cell_type": "code",
   "execution_count": null,
   "metadata": {
    "ExecuteTime": {
     "end_time": "2018-10-08T14:53:30.178402Z",
     "start_time": "2018-10-08T14:43:18.356Z"
    }
   },
   "outputs": [],
   "source": [
    "from CHAMP.CHAMP_Layer import CHAMP_Layer\n",
    "\n",
    "from CHAMP.DataTools import SaveNetwork, LoadNetwork\n",
    "fname = 'cache_dir_CNN/CHAMP_low_None.pkl'\n",
    "try:\n",
    "    L1_mask = LoadNetwork(loading_path=fname)\n",
    "except:\n",
    "    L1_mask = CHAMP_Layer(l0_sparseness=l0, nb_dico=nb_dico,\n",
    "                      dico_size=dico_size, mask=mask, verbose=2)\n",
    "    dico_mask = L1_mask.TrainLayer(\n",
    "        Filtered_L_TrSet, eta=eta, nb_epoch=nb_epoch, seed=seed)\n",
    "    SaveNetwork(Network=L1_mask, saving_path=fname)\n",
    "\n",
    "DisplayDico(L1_mask.dictionary)\n",
    "DisplayConvergenceCHAMP(L1_mask, to_display=['error', 'histo'])\n",
    "DisplayWhere(L1_mask.where)\n"
   ]
  },
  {
   "cell_type": "markdown",
   "metadata": {},
   "source": [
    "### Training the ConvMP Layer with homeostasis\n"
   ]
  },
  {
   "cell_type": "code",
   "execution_count": null,
   "metadata": {
    "ExecuteTime": {
     "end_time": "2018-10-08T14:53:30.179303Z",
     "start_time": "2018-10-08T14:43:18.359Z"
    },
    "scrolled": false
   },
   "outputs": [],
   "source": [
    "fname = 'cache_dir_CNN/CHAMP_low_HAP.pkl'\n",
    "try:\n",
    "    L1_mask = LoadNetwork(loading_path=fname)\n",
    "except:\n",
    "\n",
    "    # Learning Parameters\n",
    "    eta_homeo = 0.0025\n",
    "    L1_mask = CHAMP_Layer(l0_sparseness=l0, nb_dico=nb_dico,\n",
    "                          dico_size=dico_size, mask=mask, verbose=1)\n",
    "    dico_mask = L1_mask.TrainLayer(\n",
    "        Filtered_L_TrSet, eta=eta, eta_homeo=eta_homeo, nb_epoch=nb_epoch, seed=seed)\n",
    "    SaveNetwork(Network=L1_mask, saving_path=fname)\n",
    "\n",
    "DisplayDico(L1_mask.dictionary)\n",
    "DisplayConvergenceCHAMP(L1_mask, to_display=['error', 'histo'])\n",
    "DisplayWhere(L1_mask.where)"
   ]
  },
  {
   "cell_type": "markdown",
   "metadata": {},
   "source": [
    "### Reconstructing the input image"
   ]
  },
  {
   "cell_type": "code",
   "execution_count": null,
   "metadata": {
    "ExecuteTime": {
     "end_time": "2018-10-08T14:53:30.180163Z",
     "start_time": "2018-10-08T14:43:18.363Z"
    }
   },
   "outputs": [],
   "source": [
    "from CHAMP.DataTools import Rebuilt\n",
    "import torch\n",
    "rebuilt_image = Rebuilt(torch.FloatTensor(L1_mask.code), L1_mask.dictionary)\n",
    "DisplayDico(rebuilt_image[0:10, :, :, :])"
   ]
  },
  {
   "cell_type": "markdown",
   "metadata": {},
   "source": [
    "### Training the ConvMP Layer with higher-level filters\n",
    "\n",
    "We train higher-level feature vectors by forcing the network to :\n",
    "\n",
    "- learn bigger filters,\n",
    "- represent the information using a bigger dictionary (higher sparseness)\n",
    "- represent the information with less features (higher sparseness)\n",
    "\n"
   ]
  },
  {
   "cell_type": "code",
   "execution_count": null,
   "metadata": {
    "ExecuteTime": {
     "end_time": "2018-10-08T14:53:30.181176Z",
     "start_time": "2018-10-08T14:43:18.367Z"
    }
   },
   "outputs": [],
   "source": [
    "fname = 'cache_dir_CNN/CHAMP_high_None.pkl'\n",
    "try:\n",
    "    L1_mask = LoadNetwork(loading_path=fname)\n",
    "except:\n",
    "\n",
    "    nb_dico = 60\n",
    "    width = 19\n",
    "    dico_size = (width, width)\n",
    "    l0 = 5\n",
    "    mask = GenerateMask(full_size=(nb_dico, 1, width, width), sigma=0.8, style='Gaussian')\n",
    "    # Learning Parameters\n",
    "    eta_homeo = 0.0\n",
    "    eta = .05\n",
    "    nb_epoch = 500\n",
    "    # learn\n",
    "    L1_mask = CHAMP_Layer(l0_sparseness=l0, nb_dico=nb_dico,\n",
    "                          dico_size=dico_size, mask=mask, verbose=0)\n",
    "    dico_mask = L1_mask.TrainLayer(\n",
    "        Filtered_L_TrSet, eta=eta, eta_homeo=eta_homeo, nb_epoch=nb_epoch, seed=seed)\n",
    "    SaveNetwork(Network=L1_mask, saving_path=fname)\n",
    "\n",
    "\n",
    "DisplayDico(L1_mask.dictionary)\n",
    "DisplayConvergenceCHAMP(L1_mask, to_display=['error'])#, 'histo'])\n",
    "DisplayWhere(L1_mask.where)"
   ]
  },
  {
   "cell_type": "code",
   "execution_count": null,
   "metadata": {
    "ExecuteTime": {
     "end_time": "2018-10-08T14:53:30.182123Z",
     "start_time": "2018-10-08T14:43:18.371Z"
    },
    "scrolled": false
   },
   "outputs": [],
   "source": [
    "fname = 'cache_dir_CNN/CHAMP_high_HAP.pkl'\n",
    "try:\n",
    "    L1_mask = LoadNetwork(loading_path=fname)\n",
    "except:\n",
    "\n",
    "    nb_dico = 60\n",
    "    width = 19\n",
    "    dico_size = (width, width)\n",
    "    l0 = 5\n",
    "    mask = GenerateMask(full_size=(nb_dico, 1, width, width), sigma=0.8, style='Gaussian')\n",
    "    # Learning Parameters\n",
    "    eta_homeo = 0.0025\n",
    "    eta = .05\n",
    "    nb_epoch = 500\n",
    "    # learn\n",
    "    L1_mask = CHAMP_Layer(l0_sparseness=l0, nb_dico=nb_dico,\n",
    "                          dico_size=dico_size, mask=mask, verbose=0)\n",
    "    dico_mask = L1_mask.TrainLayer(\n",
    "        Filtered_L_TrSet, eta=eta, eta_homeo=eta_homeo, nb_epoch=nb_epoch, seed=seed)\n",
    "    SaveNetwork(Network=L1_mask, saving_path=fname)\n",
    "\n",
    "DisplayDico(L1_mask.dictionary)\n",
    "DisplayConvergenceCHAMP(L1_mask, to_display=['error'])#, 'histo'])\n",
    "DisplayWhere(L1_mask.where)"
   ]
  },
  {
   "cell_type": "markdown",
   "metadata": {},
   "source": [
    "### Training on MNIST database\n"
   ]
  },
  {
   "cell_type": "raw",
   "metadata": {},
   "source": [
    "fname = 'cache_dir_CNN/CHAMP_MNIST_HAP.pkl'\n",
    "try:\n",
    "    L1_mask = LoadNetwork(loading_path=fname)\n",
    "except:\n",
    "\n",
    "    path = os.path.join(datapath, \"MNISTtorch\")\n",
    "    \n",
    "    TrSet, TeSet = LoadData('MNIST', data_path=path)\n",
    "    N_TrSet, _, _, _ = LocalContrastNormalization(TrSet)\n",
    "    Filtered_L_TrSet = FilterInputData(\n",
    "        N_TrSet, sigma=0.25, style='Custom', start_R=15)\n",
    "\n",
    "\n",
    "    nb_dico = 60\n",
    "    width = 7\n",
    "    dico_size = (width, width)\n",
    "    l0 = 15\n",
    "    # Learning Parameters\n",
    "    eta_homeo = 0.0025\n",
    "    eta = .05\n",
    "    nb_epoch = 500\n",
    "    # learn\n",
    "    L1_mask = CHAMP_Layer(l0_sparseness=l0, nb_dico=nb_dico,\n",
    "                          dico_size=dico_size, mask=mask, verbose=2)\n",
    "    dico_mask = L1_mask.TrainLayer(\n",
    "        Filtered_L_TrSet, eta=eta, eta_homeo=eta_homeo, nb_epoch=nb_epoch, seed=seed)\n",
    "    SaveNetwork(Network=L1_mask, saving_path=fname)\n",
    "\n",
    "DisplayDico(L1_mask.dictionary)\n",
    "DisplayConvergenceCHAMP(L1_mask, to_display=['error', 'histo'])\n",
    "DisplayWhere(L1_mask.where)"
   ]
  },
  {
   "cell_type": "markdown",
   "metadata": {},
   "source": [
    "# Computational details\n",
    "\n"
   ]
  },
  {
   "cell_type": "markdown",
   "metadata": {},
   "source": [
    "## caching simulation data\n",
    "\n",
    "A convenience script to run and cache most learning items in this notebooks:"
   ]
  },
  {
   "cell_type": "code",
   "execution_count": null,
   "metadata": {
    "ExecuteTime": {
     "end_time": "2018-10-08T14:53:30.182974Z",
     "start_time": "2018-10-08T14:43:18.406Z"
    }
   },
   "outputs": [],
   "source": [
    "!ls -l {shl.cache_dir}/{tag}*\n",
    "#!rm {shl.cache_dir}/{tag}*lock*\n",
    "#!rm {shl.cache_dir}/{tag}*\n",
    "#!ls -l {shl.cache_dir}/{tag}*"
   ]
  },
  {
   "cell_type": "code",
   "execution_count": null,
   "metadata": {
    "ExecuteTime": {
     "end_time": "2018-10-08T14:53:30.184060Z",
     "start_time": "2018-10-08T14:43:18.409Z"
    }
   },
   "outputs": [],
   "source": [
    "%%writefile model.py\n",
    "#!/usr/bin/env python3\n",
    "# -*- coding: utf-8 -*\n",
    "tag = 'ICLR'\n",
    "from shl_scripts.shl_experiments import SHL, prun\n",
    "# pre-loading data\n",
    "datapath = '../../SparseHebbianLearning/database'\n",
    "# different runs\n",
    "#opts = dict(cache_dir='cache_dir_ICLR', datapath=datapath, verbose=0)\n",
    "#opts = dict(cache_dir='cache_dir_cluster', datapath=datapath, verbose=0)\n",
    "opts = dict(datapath=datapath, verbose=0)\n",
    "\n",
    "shl = SHL(**opts)\n",
    "data = shl.get_data(matname=tag)\n",
    "\n",
    "# running main simulations\n",
    "# Figure 1 & 3\n",
    "N_cv = 10\n",
    "homeo_methods = ['None', 'OLS', 'HEH', 'HAP', 'EMP']\n",
    "seed = 42\n",
    "\n",
    "# running in parallel on a multi-core machine\n",
    "import sys\n",
    "try:\n",
    "    n_jobs = int(sys.argv[1])\n",
    "    print('n_jobs=', n_jobs)\n",
    "except:\n",
    "    n_jobs = 4\n",
    "    n_jobs = 9\n",
    "    n_jobs = 10\n",
    "    n_jobs = 1\n",
    "    n_jobs = 35\n",
    "\n",
    "    \n",
    "if n_jobs>0:\n",
    "\n",
    "    list_figures = []\n",
    "\n",
    "    from shl_scripts.shl_experiments import SHL_set\n",
    "    for homeo_method in homeo_methods:\n",
    "        opts_ = opts.copy()\n",
    "        opts_.update(homeo_method=homeo_method)\n",
    "        experiments = SHL_set(opts_, tag=tag + '_' + homeo_method, N_scan=N_cv)\n",
    "        experiments.run(variables=['seed'], n_jobs=n_jobs, verbose=0)\n",
    "\n",
    "    # Figure 2-B\n",
    "    variables = ['eta', 'alpha_homeo', 'eta_homeo']\n",
    "    variables = ['eta', 'eta_homeo', 'l0_sparseness', 'n_dictionary']\n",
    "    bases = [10, 10, 2, 2]\n",
    "\n",
    "    for homeo_method, base in zip(homeo_methods, bases):\n",
    "        opts_ = opts.copy()\n",
    "        opts_.update(homeo_method=homeo_method)\n",
    "        experiments = SHL_set(opts_, tag=tag + '_' + homeo_method, base=base)\n",
    "        experiments.run(variables=variables, n_jobs=n_jobs, verbose=0)\n",
    "\n",
    "    # Annex X.X\n",
    "\n",
    "    shl = SHL(**opts)\n",
    "    dico = shl.learn_dico(data=data, list_figures=list_figures, matname=tag + '_vanilla')\n",
    "    \n",
    "    for algorithm in ['lasso_lars', 'lasso_cd', 'lars', 'elastic', 'omp', 'mp']: # 'threshold',\n",
    "        opts_ = opts.copy()\n",
    "        opts_.update(homeo_method='None', learning_algorithm=algorithm, verbose=0)\n",
    "        shl = SHL(**opts_)\n",
    "        dico= shl.learn_dico(data=data, list_figures=[],\n",
    "                       matname=tag + ' - algorithm={}'.format(algorithm))\n",
    "\n",
    "    for homeo_method in ['None', 'HAP']:\n",
    "        for algorithm in ['lasso_lars', 'lars', 'elastic', 'omp', 'mp']: # 'threshold', 'lasso_cd', \n",
    "            opts_ = opts.copy()\n",
    "            opts_.update(homeo_method=homeo_method, learning_algorithm=algorithm, verbose=0)\n",
    "            shl = SHL(**opts_)\n",
    "            dico= shl.learn_dico(data=data, list_figures=[],\n",
    "                           matname=tag + ' - algorithm={}'.format(algorithm) + ' - homeo_method={}'.format(homeo_method))\n",
    "    \n",
    "    shl = SHL(one_over_F=False, **opts)\n",
    "    dico_w = shl.learn_dico(data=data, matname=tag + '_WHITE', list_figures=[])\n",
    "    shl = SHL(one_over_F=True, **opts)\n",
    "    dico_1oF = shl.learn_dico(data=data, matname=tag + '_OVF', list_figures=[])\n",
    "\n",
    "    shl = SHL(beta1=0., **opts)\n",
    "    dico_fixed = shl.learn_dico(data=data, matname=tag + '_fixed', list_figures=[])\n",
    "    shl = SHL(**opts)\n",
    "    dico_default = shl.learn_dico(data=data, matname=tag + '_default', list_figures=[])\n"
   ]
  },
  {
   "cell_type": "code",
   "execution_count": null,
   "metadata": {
    "ExecuteTime": {
     "end_time": "2018-10-08T14:53:30.185114Z",
     "start_time": "2018-10-08T14:43:18.412Z"
    },
    "scrolled": false
   },
   "outputs": [],
   "source": [
    "%run model.py 0"
   ]
  },
  {
   "cell_type": "markdown",
   "metadata": {},
   "source": [
    "## Version used"
   ]
  },
  {
   "cell_type": "code",
   "execution_count": null,
   "metadata": {
    "ExecuteTime": {
     "end_time": "2018-10-08T14:53:30.186131Z",
     "start_time": "2018-10-08T14:43:18.414Z"
    }
   },
   "outputs": [],
   "source": [
    "%load_ext version_information\n",
    "%version_information numpy, shl_scripts"
   ]
  },
  {
   "cell_type": "markdown",
   "metadata": {},
   "source": [
    "##  version control"
   ]
  },
  {
   "cell_type": "code",
   "execution_count": null,
   "metadata": {
    "ExecuteTime": {
     "end_time": "2018-10-08T14:53:30.187246Z",
     "start_time": "2018-10-08T14:43:18.418Z"
    }
   },
   "outputs": [],
   "source": [
    "!git status"
   ]
  },
  {
   "cell_type": "code",
   "execution_count": null,
   "metadata": {
    "ExecuteTime": {
     "end_time": "2018-10-08T14:53:30.188253Z",
     "start_time": "2018-10-08T14:43:18.420Z"
    }
   },
   "outputs": [],
   "source": [
    "!git pull"
   ]
  },
  {
   "cell_type": "code",
   "execution_count": null,
   "metadata": {
    "ExecuteTime": {
     "end_time": "2018-10-08T14:53:30.189194Z",
     "start_time": "2018-10-08T14:43:18.422Z"
    }
   },
   "outputs": [],
   "source": [
    "!git commit -am' {tag} : re-running notebooks' "
   ]
  },
  {
   "cell_type": "code",
   "execution_count": null,
   "metadata": {
    "ExecuteTime": {
     "end_time": "2018-10-08T14:53:30.190275Z",
     "start_time": "2018-10-08T14:43:18.425Z"
    }
   },
   "outputs": [],
   "source": [
    "!git push"
   ]
  },
  {
   "cell_type": "markdown",
   "metadata": {},
   "source": [
    "##  exporting the notebook"
   ]
  },
  {
   "cell_type": "code",
   "execution_count": null,
   "metadata": {
    "ExecuteTime": {
     "end_time": "2018-10-08T14:53:30.191242Z",
     "start_time": "2018-10-08T14:43:18.428Z"
    }
   },
   "outputs": [],
   "source": [
    "!jupyter nbconvert Annex.ipynb"
   ]
  },
  {
   "cell_type": "code",
   "execution_count": null,
   "metadata": {
    "ExecuteTime": {
     "end_time": "2018-10-08T14:53:30.192431Z",
     "start_time": "2018-10-08T14:43:18.430Z"
    }
   },
   "outputs": [],
   "source": [
    "#!jupyter-nbconvert --template report --to pdf Annex.ipynb"
   ]
  },
  {
   "cell_type": "code",
   "execution_count": null,
   "metadata": {
    "ExecuteTime": {
     "end_time": "2018-10-08T14:53:30.193516Z",
     "start_time": "2018-10-08T14:43:18.432Z"
    }
   },
   "outputs": [],
   "source": [
    "!pandoc Annex.html -o Annex.pdf"
   ]
  },
  {
   "cell_type": "code",
   "execution_count": null,
   "metadata": {
    "ExecuteTime": {
     "end_time": "2018-10-08T14:53:30.194716Z",
     "start_time": "2018-10-08T14:43:18.436Z"
    }
   },
   "outputs": [],
   "source": [
    "!zip Annex.zip Annex.html"
   ]
  },
  {
   "cell_type": "markdown",
   "metadata": {},
   "source": [
    "Done. Thanks for your attention!"
   ]
  }
 ],
 "metadata": {
  "kernelspec": {
   "display_name": "Python 3",
   "language": "python",
   "name": "python3"
  },
  "language_info": {
   "codemirror_mode": {
    "name": "ipython",
    "version": 3
   },
   "file_extension": ".py",
   "mimetype": "text/x-python",
   "name": "python",
   "nbconvert_exporter": "python",
   "pygments_lexer": "ipython3",
   "version": "3.7.1"
  },
  "nteract": {
   "version": "0.10.0"
  },
  "toc": {
   "base_numbering": 1,
   "nav_menu": {},
   "number_sections": true,
   "sideBar": true,
   "skip_h1_title": false,
   "title_cell": "Table of Contents",
   "title_sidebar": "Contents",
   "toc_cell": false,
   "toc_position": {},
   "toc_section_display": true,
   "toc_window_display": false
  }
 },
 "nbformat": 4,
 "nbformat_minor": 2
}
