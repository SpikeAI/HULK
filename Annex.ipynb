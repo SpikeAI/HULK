{
 "cells": [
  {
   "cell_type": "markdown",
   "metadata": {},
   "source": [
    "This supplementary information presents :\n",
    "\n",
    "- first, the code to generate the figures from the paper,\n",
    "- second, some control experiments that were mentionned in the paper,\n",
    "- finally, some perspectives for future work inspired by the algorithms presented in the paper.\n",
    "\n",
    "# Figures for \"An adaptive algorithm for unsupervised learning\"\n",
    "\n"
   ]
  },
  {
   "cell_type": "code",
   "execution_count": 1,
   "metadata": {
    "ExecuteTime": {
     "end_time": "2018-05-18T15:11:19.039602Z",
     "start_time": "2018-05-18T15:11:19.027565Z"
    }
   },
   "outputs": [],
   "source": [
    "%load_ext autoreload\n",
    "%autoreload 2"
   ]
  },
  {
   "cell_type": "code",
   "execution_count": 2,
   "metadata": {
    "ExecuteTime": {
     "end_time": "2018-05-18T15:11:19.137643Z",
     "start_time": "2018-05-18T15:11:19.041420Z"
    }
   },
   "outputs": [],
   "source": [
    "import numpy as np\n",
    "np.set_printoptions(precision=2, suppress=True)\n",
    "seed = 42\n",
    "np.random.seed(seed)"
   ]
  },
  {
   "cell_type": "code",
   "execution_count": 3,
   "metadata": {
    "ExecuteTime": {
     "end_time": "2018-05-18T15:11:19.358293Z",
     "start_time": "2018-05-18T15:11:19.139894Z"
    }
   },
   "outputs": [],
   "source": [
    "# for figures\n",
    "import matplotlib.pyplot as plt\n",
    "\n",
    "fontsize = 12\n",
    "FORMATS = ['.pdf', '.eps', '.png', '.tiff']\n",
    "FORMATS = ['.pdf', '.png']\n",
    "dpi_export = 600\n",
    "\n",
    "fig_width_pt = 318.670  # Get this from LaTeX using \\showthe\\columnwidth\n",
    "fig_width_pt = 450  # Get this from LaTeX using \\showthe\\columnwidth\n",
    "#fig_width_pt = 1024 #221     # Get this from LaTeX using \\showthe\\columnwidth / x264 asks for a multiple of 2\n",
    "ppi = 72.27 # (constant) definition of the ppi = points per inch\n",
    "inches_per_pt = 1.0/ppi  # Convert pt to inches\n",
    "#inches_per_cm = 1./2.54\n",
    "fig_width = fig_width_pt*inches_per_pt  # width in inches\n",
    "grid_fig_width = 2*fig_width\n",
    "phi = (np.sqrt(5) + 1. ) /2\n",
    "#legend.fontsize = 8\n",
    "#fig_width = 9\n",
    "fig_height = fig_width/phi\n",
    "figsize = (fig_width, fig_height)\n",
    "\n",
    "\n",
    "def adjust_spines(ax, spines):\n",
    "    for loc, spine in ax.spines.items():\n",
    "        if loc in spines:\n",
    "            spine.set_position(('outward', 10))  # outward by 10 points\n",
    "            spine.set_smart_bounds(True)\n",
    "        else:\n",
    "            spine.set_color('none')  # don't draw spine\n",
    "\n",
    "    # turn off ticks where there is no spine\n",
    "    if 'left' in spines:\n",
    "        ax.yaxis.set_ticks_position('left')\n",
    "    else:\n",
    "        # no yaxis ticks\n",
    "        ax.yaxis.set_ticks([])\n",
    "\n",
    "    if 'bottom' in spines:\n",
    "        ax.xaxis.set_ticks_position('bottom')\n",
    "    else:\n",
    "        # no xaxis ticks\n",
    "        ax.xaxis.set_ticks([])\n",
    "\n",
    "import matplotlib\n",
    "pylab_defaults = { \n",
    "    'font.size': 10,\n",
    "    'xtick.labelsize':'medium',\n",
    "    'ytick.labelsize':'medium',\n",
    "    'text.usetex': False,\n",
    "#    'font.family' : 'sans-serif',\n",
    "#    'font.sans-serif' : ['Helvetica'],\n",
    "    }\n",
    "    \n",
    "#matplotlib.rcParams.update({'font.size': 18, 'font.family': 'STIXGeneral', 'mathtext.fontset': 'stix'})\n",
    "matplotlib.rcParams.update(pylab_defaults)\n",
    "#matplotlib.rcParams.update({'text.usetex': True})\n",
    "\n",
    "import matplotlib.cm as cm\n",
    "\n",
    "\n",
    "from IPython.display import Image\n",
    "\n",
    "DEBUG = True\n",
    "DEBUG = False\n",
    "hl, hs = 10*'-', 10*' '"
   ]
  },
  {
   "cell_type": "code",
   "execution_count": 4,
   "metadata": {
    "ExecuteTime": {
     "end_time": "2018-05-18T15:11:19.371423Z",
     "start_time": "2018-05-18T15:11:19.359980Z"
    }
   },
   "outputs": [],
   "source": [
    "tag = 'NIPS'"
   ]
  },
  {
   "cell_type": "code",
   "execution_count": 5,
   "metadata": {
    "ExecuteTime": {
     "end_time": "2018-05-18T15:11:29.068456Z",
     "start_time": "2018-05-18T15:11:19.373195Z"
    },
    "scrolled": false
   },
   "outputs": [],
   "source": [
    "from shl_scripts.shl_experiments import SHL\n",
    "datapath = '../../SHL_master/database'\n",
    "shl = SHL(datapath=datapath)\n",
    "data = shl.get_data(matname=tag)"
   ]
  },
  {
   "cell_type": "code",
   "execution_count": 6,
   "metadata": {
    "ExecuteTime": {
     "end_time": "2018-05-18T15:11:29.242429Z",
     "start_time": "2018-05-18T15:11:29.070108Z"
    },
    "scrolled": false
   },
   "outputs": [
    {
     "name": "stdout",
     "output_type": "stream",
     "text": [
      "number of patches, size of patches =  (65520, 324)\n",
      "average of patches =  -1.3425387896193824e-05  +/-  0.005884598016072352\n",
      "average energy of data =  0.18808326809398868 +/- 0.07074991784868241\n"
     ]
    }
   ],
   "source": [
    "print('number of patches, size of patches = ', data.shape)\n",
    "print('average of patches = ', data.mean(), ' +/- ', data.mean(axis=1).std())\n",
    "SE = np.sqrt(np.mean(data**2, axis=1))\n",
    "print('average energy of data = ', SE.mean(), '+/-', SE.std())"
   ]
  },
  {
   "cell_type": "markdown",
   "metadata": {},
   "source": [
    "## figure 1:  Role of homeostasis in learning sparse representations\n",
    "\n",
    "#### TODO : cross-validate with 10 different learnings"
   ]
  },
  {
   "cell_type": "code",
   "execution_count": 7,
   "metadata": {
    "ExecuteTime": {
     "end_time": "2018-05-18T15:11:29.256758Z",
     "start_time": "2018-05-18T15:11:29.244212Z"
    }
   },
   "outputs": [],
   "source": [
    "fname = 'figure_map'\n",
    "N_cv = 10\n",
    "one_cv = 0 # picking one to display intermediate results"
   ]
  },
  {
   "cell_type": "markdown",
   "metadata": {},
   "source": [
    "### learning\n",
    "\n",
    "The actual learning is done in a second object (here ``dico``) from which we can access another set of properties and functions  (see the [shl_learn.py](https://github.com/bicv/SHL_scripts/blob/master/shl_scripts/shl_learn.py) script):"
   ]
  },
  {
   "cell_type": "code",
   "execution_count": null,
   "metadata": {
    "ExecuteTime": {
     "start_time": "2018-05-18T15:11:19.024Z"
    },
    "scrolled": false
   },
   "outputs": [],
   "source": [
    "homeo_methods = ['None', 'OLS', 'HEH']\n",
    "\n",
    "list_figures = ['show_dico', 'time_plot_error', 'time_plot_logL', 'time_plot_MC', 'show_Pcum']\n",
    "list_figures = []\n",
    "dico = {}\n",
    "for i_cv in range(N_cv):\n",
    "    dico[i_cv] = {}\n",
    "    for homeo_method in homeo_methods:\n",
    "        shl = SHL(homeo_method=homeo_method, seed=seed+i_cv)\n",
    "        dico[i_cv][homeo_method] = shl.learn_dico(data=data, list_figures=list_figures, matname=tag + '_' + homeo_method + '_' + str(i_cv))\n",
    "\n",
    "list_figures = ['show_dico']\n",
    "for i_cv in [one_cv]:\n",
    "    for homeo_method in homeo_methods:\n",
    "        print(hl + hs + homeo_method[:3] + hs + hl)\n",
    "        shl = SHL(homeo_method=homeo_method, seed=seed+i_cv)\n",
    "        shl.learn_dico(data=data, list_figures=list_figures, matname=tag + '_' + homeo_method + '_' + str(i_cv))\n",
    "\n",
    "        print('size of dictionary = (number of filters, size of imagelets) = ', dico[i_cv][homeo_method].dictionary.shape)\n",
    "        print('average of filters = ',  dico[i_cv][homeo_method].dictionary.mean(axis=1).mean(), \n",
    "              '+/-',  dico[i_cv][homeo_method].dictionary.mean(axis=1).std())\n",
    "        SE = np.sqrt(np.sum(dico[i_cv][homeo_method].dictionary**2, axis=1))\n",
    "        print('average energy of filters = ', SE.mean(), '+/-', SE.std())\n",
    "        plt.show()\n"
   ]
  },
  {
   "cell_type": "markdown",
   "metadata": {},
   "source": [
    "### panel A: plotting some dictionaries\n",
    "\n"
   ]
  },
  {
   "cell_type": "code",
   "execution_count": null,
   "metadata": {
    "ExecuteTime": {
     "start_time": "2018-05-18T15:11:19.026Z"
    }
   },
   "outputs": [],
   "source": [
    "pname = '/tmp/panel_A' #pname = fname + '_A'"
   ]
  },
  {
   "cell_type": "code",
   "execution_count": null,
   "metadata": {
    "ExecuteTime": {
     "start_time": "2018-05-18T15:11:19.028Z"
    }
   },
   "outputs": [],
   "source": [
    "from shl_scripts import show_dico\n",
    "if DEBUG: show_dico(shl, dico[one_cvi_cv][homeo_method], dim_graph=(2,5))"
   ]
  },
  {
   "cell_type": "code",
   "execution_count": null,
   "metadata": {
    "ExecuteTime": {
     "start_time": "2018-05-18T15:11:19.030Z"
    }
   },
   "outputs": [],
   "source": [
    "dim_graph = (2, 9)\n",
    "colors = ['black', 'orange', 'blue']\n",
    "homeo_methods"
   ]
  },
  {
   "cell_type": "code",
   "execution_count": null,
   "metadata": {
    "ExecuteTime": {
     "start_time": "2018-05-18T15:11:19.032Z"
    }
   },
   "outputs": [],
   "source": [
    "subplotpars = dict( left=0.042, right=1., bottom=0., top=1., wspace=0.05, hspace=0.05,)\n",
    "fig, axs = plt.subplots(3, 1, figsize=(fig_width/2, fig_width/(1+phi)), gridspec_kw=subplotpars)\n",
    "\n",
    "for ax, color, homeo_method in zip(axs.ravel(), colors, homeo_methods): \n",
    "    ax.axis(c=color, lw=2, axisbg='w')\n",
    "    ax.set_facecolor('w')\n",
    "    fig, ax = show_dico(shl, dico[one_cv][homeo_method], dim_graph=dim_graph, fig=fig, ax=ax)\n",
    "    # ax.set_ylabel(homeo_method)\n",
    "    ax.text(-8, 7*dim_graph[0], homeo_method, fontsize=12, color=color, rotation=90)#, backgroundcolor='white'\n",
    "\n",
    "for ext in FORMATS: fig.savefig(pname + ext, dpi=dpi_export)"
   ]
  },
  {
   "cell_type": "code",
   "execution_count": null,
   "metadata": {
    "ExecuteTime": {
     "start_time": "2018-05-18T15:11:19.033Z"
    }
   },
   "outputs": [],
   "source": [
    "if DEBUG: Image(pname +'.png')"
   ]
  },
  {
   "cell_type": "code",
   "execution_count": null,
   "metadata": {
    "ExecuteTime": {
     "start_time": "2018-05-18T15:11:19.035Z"
    },
    "scrolled": true
   },
   "outputs": [],
   "source": [
    "if DEBUG: help(fig.subplots_adjust)"
   ]
  },
  {
   "cell_type": "code",
   "execution_count": null,
   "metadata": {
    "ExecuteTime": {
     "start_time": "2018-05-18T15:11:19.037Z"
    },
    "scrolled": true
   },
   "outputs": [],
   "source": [
    "if DEBUG: help(plt.subplots)"
   ]
  },
  {
   "cell_type": "code",
   "execution_count": null,
   "metadata": {
    "ExecuteTime": {
     "start_time": "2018-05-18T15:11:19.039Z"
    },
    "scrolled": false
   },
   "outputs": [],
   "source": [
    "if DEBUG: help(matplotlib.gridspec.GridSpec)"
   ]
  },
  {
   "cell_type": "markdown",
   "metadata": {},
   "source": [
    "### panel B: quantitative comparison\n",
    "\n"
   ]
  },
  {
   "cell_type": "code",
   "execution_count": null,
   "metadata": {
    "ExecuteTime": {
     "start_time": "2018-05-18T15:11:19.041Z"
    }
   },
   "outputs": [],
   "source": [
    "pname = '/tmp/panel_B' #fname + '_B'"
   ]
  },
  {
   "cell_type": "code",
   "execution_count": null,
   "metadata": {
    "ExecuteTime": {
     "start_time": "2018-05-18T15:11:19.043Z"
    }
   },
   "outputs": [],
   "source": [
    "from shl_scripts import time_plot\n",
    "variable = 'F'\n",
    "alpha = .3\n",
    "subplotpars = dict(left=0.2, right=.95, bottom=0.2, top=.95)#, wspace=0.05, hspace=0.05,)\n",
    "fig, ax = plt.subplots(1, 1, figsize=(fig_width/2, fig_width/(1+phi)), gridspec_kw=subplotpars)\n",
    "for i_cv in range(N_cv):\n",
    "    for color, homeo_method in zip(colors, homeo_methods): \n",
    "        ax.axis(c='b', lw=2, axisbg='w')\n",
    "        ax.set_facecolor('w')\n",
    "        if i_cv==0:\n",
    "            fig, ax = time_plot(shl, dico[i_cv][homeo_method], variable=variable, unit='bits', color=color, label=homeo_method, alpha=.6, fig=fig, ax=ax)\n",
    "        else:\n",
    "            fig, ax = time_plot(shl, dico[i_cv][homeo_method], variable=variable, unit='bits', color=color, alpha=alpha, fig=fig, ax=ax)        \n",
    "        # ax.set_ylabel(homeo_method)\n",
    "        #ax.text(-8, 7*dim_graph[0], homeo_method, fontsize=12, color='k', rotation=90)#, backgroundcolor='white'\n",
    "ax.legend(loc='best')\n",
    "for ext in FORMATS: fig.savefig(pname + ext, dpi=dpi_export)\n",
    "if DEBUG: Image(pname +'.png')"
   ]
  },
  {
   "cell_type": "markdown",
   "metadata": {},
   "source": [
    "\n",
    "### Montage of the subplots\n"
   ]
  },
  {
   "cell_type": "code",
   "execution_count": null,
   "metadata": {
    "ExecuteTime": {
     "start_time": "2018-05-18T15:11:19.045Z"
    }
   },
   "outputs": [],
   "source": [
    "import tikzmagic"
   ]
  },
  {
   "cell_type": "code",
   "execution_count": null,
   "metadata": {
    "ExecuteTime": {
     "start_time": "2018-05-18T15:11:19.047Z"
    }
   },
   "outputs": [],
   "source": [
    "%load_ext tikzmagic"
   ]
  },
  {
   "cell_type": "code",
   "execution_count": null,
   "metadata": {
    "ExecuteTime": {
     "start_time": "2018-05-18T15:11:19.048Z"
    },
    "scrolled": false
   },
   "outputs": [],
   "source": [
    "#DEBUG = True\n",
    "if DEBUG: help(tikzmagic)"
   ]
  },
  {
   "cell_type": "raw",
   "metadata": {},
   "source": [
    "%tikz \\draw (0,0) rectangle (1,1);"
   ]
  },
  {
   "cell_type": "raw",
   "metadata": {},
   "source": [
    "%%tikz --save {fname}.pdf\n",
    "\\draw[white, fill=white] (0.\\linewidth,0) rectangle (1.\\linewidth, .382\\linewidth) ;"
   ]
  },
  {
   "cell_type": "code",
   "execution_count": null,
   "metadata": {
    "ExecuteTime": {
     "start_time": "2018-05-18T15:11:19.126Z"
    }
   },
   "outputs": [],
   "source": [
    "%%tikz -f pdf --save {fname}.pdf\n",
    "\\draw[white, fill=white] (0.\\linewidth,0) rectangle (1.\\linewidth, .382\\linewidth) ;\n",
    "\\draw [anchor=north west] (.0\\linewidth, .382\\linewidth) node {\\includegraphics[width=.5\\linewidth]{/tmp/panel_A}};\n",
    "\\draw [anchor=north west] (.5\\linewidth, .382\\linewidth) node {\\includegraphics[width=.5\\linewidth]{/tmp/panel_B}};\n",
    "\\begin{scope}[font=\\bf\\sffamily\\large]\n",
    "\\draw [anchor=west,fill=white] (.0\\linewidth, .382\\linewidth) node [above right=-3mm] {$\\mathsf{A}$};\n",
    "\\draw [anchor=west,fill=white] (.53\\linewidth, .382\\linewidth) node [above right=-3mm] {$\\mathsf{B}$};\n",
    "\\end{scope}"
   ]
  },
  {
   "cell_type": "code",
   "execution_count": null,
   "metadata": {
    "ExecuteTime": {
     "start_time": "2018-05-18T15:11:19.128Z"
    }
   },
   "outputs": [],
   "source": [
    "!convert  -density {dpi_export} {fname}.pdf {fname}.jpg\n",
    "!convert  -density {dpi_export} {fname}.pdf {fname}.png\n",
    "#!convert  -density {dpi_export} -resize 5400  -units pixelsperinch -flatten  -compress lzw  -depth 8 {fname}.pdf {fname}.tiff\n",
    "Image(fname +'.png')"
   ]
  },
  {
   "cell_type": "raw",
   "metadata": {},
   "source": [
    "!echo \"width=\" ; convert {fname}.tiff -format \"%[fx:w]\" info:\n",
    "!echo \", \\nheight=\" ; convert {fname}.tiff -format \"%[fx:h]\" info:\n",
    "!echo \", \\nunit=\" ; convert {fname}.tiff -format \"%U\" info:"
   ]
  },
  {
   "cell_type": "raw",
   "metadata": {},
   "source": [
    "!identify {fname}.tiff"
   ]
  },
  {
   "cell_type": "markdown",
   "metadata": {},
   "source": [
    "## figure 2: Histogram Equalization Homeostasis\n",
    "\n"
   ]
  },
  {
   "cell_type": "code",
   "execution_count": null,
   "metadata": {
    "ExecuteTime": {
     "start_time": "2018-05-18T15:11:19.208Z"
    }
   },
   "outputs": [],
   "source": [
    "fname = 'figure_HEH'"
   ]
  },
  {
   "cell_type": "code",
   "execution_count": null,
   "metadata": {
    "ExecuteTime": {
     "start_time": "2018-05-18T15:11:19.210Z"
    }
   },
   "outputs": [],
   "source": [
    "list_figures = ['show_Pcum']\n",
    "\n",
    "dico = {}\n",
    "for homeo_method in homeo_methods:\n",
    "    print(hl + hs + homeo_method + hs + hl)\n",
    "    shl = SHL(homeo_method=homeo_method)\n",
    "    dico[homeo_method] = shl.learn_dico(data=data, list_figures=list_figures, matname=tag + '_' + homeo_method)\n",
    "    plt.show()"
   ]
  },
  {
   "cell_type": "code",
   "execution_count": null,
   "metadata": {
    "ExecuteTime": {
     "start_time": "2018-05-18T15:11:19.216Z"
    }
   },
   "outputs": [],
   "source": [
    "dico[homeo_method].P_cum.shape"
   ]
  },
  {
   "cell_type": "markdown",
   "metadata": {},
   "source": [
    "### panel A: different P_cum\n",
    "\n"
   ]
  },
  {
   "cell_type": "code",
   "execution_count": null,
   "metadata": {
    "ExecuteTime": {
     "start_time": "2018-05-18T15:11:19.242Z"
    }
   },
   "outputs": [],
   "source": [
    "pname = '/tmp/panel_A' #pname = fname + '_A'\n",
    "\n",
    "from shl_scripts import plot_P_cum\n",
    "variable = 'F'\n",
    "subplotpars = dict(left=0.2, right=.95, bottom=0.2, top=.95)#, wspace=0.05, hspace=0.05,)\n",
    "fig, ax = plt.subplots(1, 1, figsize=(fig_width/2, fig_width/(1+phi)), gridspec_kw=subplotpars)\n",
    "for color, homeo_method in zip(colors, homeo_methods): \n",
    "    ax.axis(c='b', lw=2, axisbg='w')\n",
    "    ax.set_facecolor('w')\n",
    "    fig, ax = plot_P_cum(dico[homeo_method].P_cum, ymin=0.95, ymax=1.001, \n",
    "                         title=None, suptitle=None, ylabel='non-linear functions', \n",
    "                         verbose=False, n_yticks=21, alpha=.05, c=color, fig=fig, ax=ax)\n",
    "    ax.plot([0], [0], lw=1, color=color, label=homeo_method, alpha=.6)\n",
    "    # ax.set_ylabel(homeo_method)\n",
    "    #ax.text(-8, 7*dim_graph[0], homeo_method, fontsize=12, color='k', rotation=90)#, backgroundcolor='white'\n",
    "ax.legend(loc='lower right')\n",
    "for ext in FORMATS: fig.savefig(pname + ext, dpi=dpi_export)\n",
    "if DEBUG: Image(pname +'.png')"
   ]
  },
  {
   "cell_type": "code",
   "execution_count": null,
   "metadata": {
    "ExecuteTime": {
     "start_time": "2018-05-18T15:11:19.245Z"
    }
   },
   "outputs": [],
   "source": [
    "if DEBUG: help(fig.legend)"
   ]
  },
  {
   "cell_type": "markdown",
   "metadata": {},
   "source": [
    "### panel B: comparing the effects of parameters\n",
    "\n"
   ]
  },
  {
   "cell_type": "code",
   "execution_count": null,
   "metadata": {
    "ExecuteTime": {
     "start_time": "2018-05-18T15:11:19.248Z"
    },
    "scrolled": false
   },
   "outputs": [],
   "source": [
    "pname = '/tmp/panel_B' #fname + '_B'\n",
    "\n",
    "\n",
    "from shl_scripts.shl_experiments import SHL_set\n",
    "\n",
    "homeo_methods = ['None', 'EMP', 'HAP', 'HEH', 'OLS']\n",
    "\n",
    "homeo_methods = ['None', 'OLS', 'HEH']\n",
    "\n",
    "variables = ['eta', 'alpha_homeo', 'eta_homeo', 'l0_sparseness', 'n_dictionary']\n",
    "variables = ['eta', 'alpha_homeo', 'eta_homeo', 'l0_sparseness']\n",
    "variables = ['eta', 'alpha_homeo', 'eta_homeo']\n",
    "variables = ['alpha_homeo', 'eta_homeo']\n",
    "variables = ['eta', 'eta_homeo']\n",
    "\n",
    "\n",
    "list_figures = []\n",
    "\n",
    "for homeo_method in homeo_methods:\n",
    "    experiments = SHL_set(dict(homeo_method=homeo_method, datapath=datapath), tag=tag + '_' + homeo_method)\n",
    "    experiments.run(variables=variables, n_jobs=18, verbose=0)\n",
    "    \n",
    "\n",
    "import matplotlib.pyplot as plt\n",
    "subplotpars = dict(left=0.2, right=.95, bottom=0.2, top=.95, wspace=0.35, hspace=0.35,)\n",
    "\n",
    "if len(variables)==4:\n",
    "    fig, axs = plt.subplots(2, 2, figsize=(fig_width/2, fig_width/(1+phi)), gridspec_kw=subplotpars, sharey=True)\n",
    "else:    \n",
    "    fig, axs = plt.subplots(len(variables), 1, figsize=(fig_width/2, fig_width/(1+phi)), gridspec_kw=subplotpars, sharey=True)\n",
    "\n",
    "for i_ax, variable in enumerate(variables):\n",
    "    for color, homeo_method in zip(colors, homeo_methods): \n",
    "        experiments = SHL_set(dict(homeo_method=homeo_method, datapath=datapath), tag=tag + '_' + homeo_method)\n",
    "        fig, axs[i_ax] = experiments.scan(variable=variable, list_figures=[], display='final', fig=fig, ax=axs[i_ax], color=color, display_variable='F', verbose=0) #, label=homeo_metho\n",
    "        axs[i_ax].set_xlabel('') #variable\n",
    "        axs[i_ax].text(-.01, -.22,  variable, transform=axs[i_ax].transAxes) \n",
    "\n",
    "\n",
    "#fig.legend(loc='lower right')\n",
    "for ext in FORMATS: fig.savefig(pname + ext, dpi=dpi_export)\n",
    "if DEBUG: Image(pname +'.png')"
   ]
  },
  {
   "cell_type": "markdown",
   "metadata": {},
   "source": [
    "\n",
    "### Montage of the subplots\n"
   ]
  },
  {
   "cell_type": "code",
   "execution_count": null,
   "metadata": {
    "ExecuteTime": {
     "start_time": "2018-05-18T15:11:19.250Z"
    }
   },
   "outputs": [],
   "source": [
    "%%tikz -f pdf --save {fname}.pdf\n",
    "\\draw[white, fill=white] (0.\\linewidth,0) rectangle (1.\\linewidth, .382\\linewidth) ;\n",
    "\\draw [anchor=north west] (.0\\linewidth, .382\\linewidth) node {\\includegraphics[width=.5\\linewidth]{/tmp/panel_A}};\n",
    "\\draw [anchor=north west] (.5\\linewidth, .382\\linewidth) node {\\includegraphics[width=.5\\linewidth]{/tmp/panel_B}};\n",
    "\\begin{scope}[font=\\bf\\sffamily\\large]\n",
    "\\draw [anchor=west,fill=white] (.0\\linewidth, .382\\linewidth) node [above right=-3mm] {$\\mathsf{A}$};\n",
    "\\draw [anchor=west,fill=white] (.53\\linewidth, .382\\linewidth) node [above right=-3mm] {$\\mathsf{B}$};\n",
    "\\end{scope}"
   ]
  },
  {
   "cell_type": "code",
   "execution_count": null,
   "metadata": {
    "ExecuteTime": {
     "start_time": "2018-05-18T15:11:19.252Z"
    }
   },
   "outputs": [],
   "source": [
    "!convert  -density {dpi_export} {fname}.pdf {fname}.jpg\n",
    "!convert  -density {dpi_export} {fname}.pdf {fname}.png\n",
    "#!convert  -density {dpi_export} -resize 5400  -units pixelsperinch -flatten  -compress lzw  -depth 8 {fname}.pdf {fname}.tiff\n",
    "Image(fname +'.png')"
   ]
  },
  {
   "cell_type": "raw",
   "metadata": {},
   "source": [
    "!echo \"width=\" ; convert {fname}.tiff -format \"%[fx:w]\" info:\n",
    "!echo \", \\nheight=\" ; convert {fname}.tiff -format \"%[fx:h]\" info:\n",
    "!echo \", \\nunit=\" ; convert {fname}.tiff -format \"%U\" info:"
   ]
  },
  {
   "cell_type": "raw",
   "metadata": {},
   "source": [
    "!identify {fname}.tiff"
   ]
  },
  {
   "cell_type": "markdown",
   "metadata": {},
   "source": [
    "## figure 3:  \n",
    "\n",
    "\n",
    "### learning\n",
    "\n",
    "\n"
   ]
  },
  {
   "cell_type": "code",
   "execution_count": null,
   "metadata": {
    "ExecuteTime": {
     "start_time": "2018-05-18T15:11:19.331Z"
    }
   },
   "outputs": [],
   "source": [
    "fname = 'figure_HAP'"
   ]
  },
  {
   "cell_type": "code",
   "execution_count": null,
   "metadata": {
    "ExecuteTime": {
     "start_time": "2018-05-18T15:11:19.334Z"
    },
    "scrolled": false
   },
   "outputs": [],
   "source": [
    "colors = ['red', 'green', 'blue']\n",
    "homeo_methods = ['EMP', 'HAP', 'HEH']\n",
    "list_figures = []\n",
    "dico = {}\n",
    "for i_cv in range(N_cv):\n",
    "    dico[i_cv] = {}\n",
    "    for homeo_method in homeo_methods:\n",
    "        shl = SHL(homeo_method=homeo_method, seed=seed+i_cv)\n",
    "        dico[i_cv][homeo_method] = shl.learn_dico(data=data, list_figures=list_figures, matname=tag + '_' + homeo_method + '_' + str(i_cv))\n",
    "\n",
    "list_figures = ['show_dico']\n",
    "for i_cv in [one_cv]:\n",
    "    for homeo_method in homeo_methods:\n",
    "        print(hl + hs + homeo_method + hs + hl)\n",
    "        shl = SHL(homeo_method=homeo_method, seed=seed+i_cv)\n",
    "        shl.learn_dico(data=data, list_figures=list_figures, matname=tag + '_' + homeo_method + '_' + str(i_cv))\n",
    "        plt.show()\n",
    "        print('size of dictionary = (number of filters, size of imagelets) = ', dico[i_cv][homeo_method].dictionary.shape)\n",
    "        print('average of filters = ',  dico[i_cv][homeo_method].dictionary.mean(axis=1).mean(), \n",
    "              '+/-',  dico[i_cv][homeo_method].dictionary.mean(axis=1).std())\n",
    "        SE = np.sqrt(np.sum(dico[i_cv][homeo_method].dictionary**2, axis=1))\n",
    "        print('average energy of filters = ', SE.mean(), '+/-', SE.std())"
   ]
  },
  {
   "cell_type": "markdown",
   "metadata": {},
   "source": [
    "### panel A: plotting some dictionaries\n",
    "\n"
   ]
  },
  {
   "cell_type": "code",
   "execution_count": null,
   "metadata": {
    "ExecuteTime": {
     "start_time": "2018-05-18T15:11:19.337Z"
    }
   },
   "outputs": [],
   "source": [
    "pname = '/tmp/panel_A' #pname = fname + '_A'"
   ]
  },
  {
   "cell_type": "code",
   "execution_count": null,
   "metadata": {
    "ExecuteTime": {
     "start_time": "2018-05-18T15:11:19.340Z"
    }
   },
   "outputs": [],
   "source": [
    "\n",
    "subplotpars = dict( left=0.042, right=1., bottom=0., top=1., wspace=0.05, hspace=0.05,)\n",
    "fig, axs = plt.subplots(3, 1, figsize=(fig_width/2, fig_width/(1+phi)), gridspec_kw=subplotpars)\n",
    "\n",
    "for ax, color, homeo_method in zip(axs.ravel(), colors, homeo_methods): \n",
    "    ax.axis(c=color, lw=2, axisbg='w')\n",
    "    ax.set_facecolor('w')\n",
    "    from shl_scripts import show_dico\n",
    "    fig, ax = show_dico(shl, dico[one_cv][homeo_method], dim_graph=dim_graph, fig=fig, ax=ax)\n",
    "    # ax.set_ylabel(homeo_method)\n",
    "    ax.text(-8, 7*dim_graph[0], homeo_method, fontsize=12, color=color, rotation=90)#, backgroundcolor='white'\n",
    "\n",
    "for ext in FORMATS: fig.savefig(pname + ext, dpi=dpi_export)"
   ]
  },
  {
   "cell_type": "markdown",
   "metadata": {},
   "source": [
    "### panel B: quantitative comparison\n",
    "\n"
   ]
  },
  {
   "cell_type": "code",
   "execution_count": null,
   "metadata": {
    "ExecuteTime": {
     "start_time": "2018-05-18T15:11:19.342Z"
    }
   },
   "outputs": [],
   "source": [
    "pname = '/tmp/panel_B' #fname + '_B'"
   ]
  },
  {
   "cell_type": "code",
   "execution_count": null,
   "metadata": {
    "ExecuteTime": {
     "start_time": "2018-05-18T15:11:19.344Z"
    }
   },
   "outputs": [],
   "source": [
    "from shl_scripts import time_plot\n",
    "variable = 'F'\n",
    "alpha = .3\n",
    "subplotpars = dict(left=0.2, right=.95, bottom=0.2, top=.95)#, wspace=0.05, hspace=0.05,)\n",
    "fig, ax = plt.subplots(1, 1, figsize=(fig_width/2, fig_width/(1+phi)), gridspec_kw=subplotpars)\n",
    "for i_cv in range(N_cv):\n",
    "    for color, homeo_method in zip(colors, homeo_methods): \n",
    "        ax.axis(c='b', lw=2, axisbg='w')\n",
    "        ax.set_facecolor('w')\n",
    "        if i_cv==0:\n",
    "            fig, ax = time_plot(shl, dico[i_cv][homeo_method], variable=variable, unit='bits', color=color, label=homeo_method, alpha=.6, fig=fig, ax=ax)\n",
    "        else:\n",
    "            fig, ax = time_plot(shl, dico[i_cv][homeo_method], variable=variable, unit='bits', color=color, alpha=alpha, fig=fig, ax=ax)        \n",
    "ax.legend(loc='best')\n",
    "for ext in FORMATS: fig.savefig(pname + ext, dpi=dpi_export)\n",
    "if DEBUG: Image(pname +'.png')    "
   ]
  },
  {
   "cell_type": "code",
   "execution_count": null,
   "metadata": {
    "ExecuteTime": {
     "start_time": "2018-05-18T15:11:19.346Z"
    }
   },
   "outputs": [],
   "source": [
    "if DEBUG: Image(pname +'.png')"
   ]
  },
  {
   "cell_type": "markdown",
   "metadata": {},
   "source": [
    "\n",
    "### Montage of the subplots\n"
   ]
  },
  {
   "cell_type": "code",
   "execution_count": null,
   "metadata": {
    "ExecuteTime": {
     "start_time": "2018-05-18T15:11:19.348Z"
    }
   },
   "outputs": [],
   "source": [
    "%%tikz -f pdf --save {fname}.pdf\n",
    "\\draw[white, fill=white] (0.\\linewidth,0) rectangle (1.\\linewidth, .382\\linewidth) ;\n",
    "\\draw [anchor=north west] (.0\\linewidth, .382\\linewidth) node {\\includegraphics[width=.5\\linewidth]{/tmp/panel_A}};\n",
    "\\draw [anchor=north west] (.5\\linewidth, .382\\linewidth) node {\\includegraphics[width=.5\\linewidth]{/tmp/panel_B}};\n",
    "\\begin{scope}[font=\\bf\\sffamily\\large]\n",
    "\\draw [anchor=west,fill=white] (.0\\linewidth, .382\\linewidth) node [above right=-3mm] {$\\mathsf{A}$};\n",
    "\\draw [anchor=west,fill=white] (.53\\linewidth, .382\\linewidth) node [above right=-3mm] {$\\mathsf{B}$};\n",
    "\\end{scope}"
   ]
  },
  {
   "cell_type": "code",
   "execution_count": null,
   "metadata": {
    "ExecuteTime": {
     "start_time": "2018-05-18T15:11:19.350Z"
    }
   },
   "outputs": [],
   "source": [
    "!convert  -density {dpi_export} {fname}.pdf {fname}.jpg\n",
    "!convert  -density {dpi_export} {fname}.pdf {fname}.png\n",
    "#!convert  -density {dpi_export} -resize 5400  -units pixelsperinch -flatten  -compress lzw  -depth 8 {fname}.pdf {fname}.tiff\n",
    "Image(fname +'.png')"
   ]
  },
  {
   "cell_type": "raw",
   "metadata": {},
   "source": [
    "!echo \"width=\" ; convert {fname}.tiff -format \"%[fx:w]\" info:\n",
    "!echo \", \\nheight=\" ; convert {fname}.tiff -format \"%[fx:h]\" info:\n",
    "!echo \", \\nunit=\" ; convert {fname}.tiff -format \"%U\" info:"
   ]
  },
  {
   "cell_type": "raw",
   "metadata": {},
   "source": [
    "!identify {fname}.tiff"
   ]
  },
  {
   "cell_type": "markdown",
   "metadata": {},
   "source": [
    "## coding\n",
    "\n",
    "The learning itself is done via a gradient descent but is highly dependent on the coding / decoding algorithm. This belongs to a another function (in the [shl_encode.py](https://github.com/bicv/SHL_scripts/blob/master/shl_scripts/shl_encode.py) script)"
   ]
  },
  {
   "cell_type": "markdown",
   "metadata": {},
   "source": [
    "# Supplementary controls\n",
    "\n"
   ]
  },
  {
   "cell_type": "markdown",
   "metadata": {},
   "source": [
    "\n",
    "## starting a learning"
   ]
  },
  {
   "cell_type": "code",
   "execution_count": null,
   "metadata": {
    "ExecuteTime": {
     "start_time": "2018-05-18T15:11:19.429Z"
    }
   },
   "outputs": [],
   "source": [
    "shl = SHL()\n",
    "list_figures = ['show_dico', 'show_Pcum', 'time_plot_F']\n",
    "dico = shl.learn_dico(data=data, list_figures=list_figures, matname=tag)"
   ]
  },
  {
   "cell_type": "code",
   "execution_count": null,
   "metadata": {
    "ExecuteTime": {
     "start_time": "2018-05-18T15:11:19.433Z"
    }
   },
   "outputs": [],
   "source": [
    "print('size of dictionary = (number of filters, size of imagelets) = ', dico.dictionary.shape)\n",
    "print('average of filters = ',  dico.dictionary.mean(axis=1).mean(), \n",
    "      '+/-',  dico.dictionary.mean(axis=1).std())\n",
    "SE = np.sqrt(np.sum(dico.dictionary**2, axis=1))\n",
    "print('average energy of filters = ', SE.mean(), '+/-', SE.std())"
   ]
  },
  {
   "cell_type": "markdown",
   "metadata": {},
   "source": [
    "\n",
    "## getting help"
   ]
  },
  {
   "cell_type": "code",
   "execution_count": null,
   "metadata": {
    "ExecuteTime": {
     "start_time": "2018-05-18T15:11:19.435Z"
    }
   },
   "outputs": [],
   "source": [
    "help(shl)"
   ]
  },
  {
   "cell_type": "code",
   "execution_count": null,
   "metadata": {
    "ExecuteTime": {
     "start_time": "2018-05-18T15:11:19.437Z"
    },
    "scrolled": false
   },
   "outputs": [],
   "source": [
    "help(dico)"
   ]
  },
  {
   "cell_type": "markdown",
   "metadata": {},
   "source": [
    "\n",
    "## loading a database\n",
    "\n",
    "Loading patches, with or without mask:"
   ]
  },
  {
   "cell_type": "code",
   "execution_count": null,
   "metadata": {
    "ExecuteTime": {
     "start_time": "2018-05-18T15:11:19.440Z"
    }
   },
   "outputs": [],
   "source": [
    "N_patches = 12\n",
    "from shl_scripts.shl_tools import show_data\n",
    "\n",
    "for i, (do_mask, label) in enumerate(zip([False, True], ['Without mask', 'With mask'])):\n",
    "    data_ = SHL(DEBUG_DOWNSCALE=1, verbose=0, N_patches=N_patches, n_image=1, do_mask=do_mask, datapath=datapath).get_data()\n",
    "    fig, axs = show_data(data_)\n",
    "    axs[0].set_ylabel(label)\n",
    "    plt.show()"
   ]
  },
  {
   "cell_type": "markdown",
   "metadata": {},
   "source": [
    "## Testing different algorithms\n",
    "\n"
   ]
  },
  {
   "cell_type": "code",
   "execution_count": null,
   "metadata": {
    "ExecuteTime": {
     "start_time": "2018-05-18T15:11:19.444Z"
    }
   },
   "outputs": [],
   "source": [
    "\n",
    "fig, ax = None, None\n",
    "\n",
    "for algorithm in ['lasso_lars', 'lasso_cd', 'lars', 'omp', 'mp']: # 'threshold', \n",
    "    opts = dict(homeo_method='None', learning_algorithm=algorithm, verbose=0)\n",
    "    shl = SHL(opts)\n",
    "    dico= shl.learn_dico(data=data, list_figures=[],\n",
    "                   matname=tag + ' - algorithm={}'.format(algorithm))\n",
    "    fig, ax = shl.time_plot(dico, variable='F', fig=fig, ax=ax, label=algorithm)\n",
    "\n",
    "ax.legend()"
   ]
  },
  {
   "cell_type": "markdown",
   "metadata": {},
   "source": [
    "## Testing two different dictionary initalization strategies\n",
    "\n",
    "White Noise Initialization + Learning"
   ]
  },
  {
   "cell_type": "code",
   "execution_count": null,
   "metadata": {
    "ExecuteTime": {
     "start_time": "2018-05-18T15:11:19.447Z"
    }
   },
   "outputs": [],
   "source": [
    "shl = SHL(one_over_F=False)\n",
    "dico_w = shl.learn_dico(data=data, matname=tag + '_WHITE', list_figures=[])\n",
    "shl = SHL(one_over_F=True)\n",
    "dico_1oF = shl.learn_dico(data=data, matname=tag + '_OVF', list_figures=[])\n",
    "fig_error, ax_error = None, None\n",
    "fig_error, ax_error = shl.time_plot(dico_w, variable='F', fig=fig_error, ax=ax_error, color='blue', label='white noise')\n",
    "fig_error, ax_error = shl.time_plot(dico_1oF, variable='F', fig=fig_error, ax=ax_error, color='red', label='one over f')\n",
    "#ax_error.set_ylim((0, .65))\n",
    "ax_error.legend(loc='best')"
   ]
  },
  {
   "cell_type": "markdown",
   "metadata": {},
   "source": [
    "## Testing  two different learning rates strategies\n",
    "\n",
    "We use by defaut the strategy of ADAM, see https://arxiv.org/pdf/1412.6980.pdf"
   ]
  },
  {
   "cell_type": "code",
   "execution_count": null,
   "metadata": {
    "ExecuteTime": {
     "start_time": "2018-05-18T15:11:19.450Z"
    }
   },
   "outputs": [],
   "source": [
    "shl = SHL(eta=0.01, beta1=0.)\n",
    "dico_fixed = shl.learn_dico(data=data, matname=tag + '_fixed', list_figures=[])\n",
    "shl = SHL()\n",
    "dico_default = shl.learn_dico(data=data, matname=tag + '_default', list_figures=[])\n",
    "fig_error, ax_error = None, None\n",
    "fig_error, ax_error = shl.time_plot(dico_fixed, variable='F', fig=fig_error, ax=ax_error, color='blue', label='fixed')\n",
    "fig_error, ax_error = shl.time_plot(dico_default, variable='F', fig=fig_error, ax=ax_error, color='red', label='ADAM')\n",
    "#ax_error.set_ylim((0, .65))\n",
    "ax_error.legend(loc='best')"
   ]
  },
  {
   "cell_type": "markdown",
   "metadata": {},
   "source": [
    "# Perspectives\n",
    "\n"
   ]
  },
  {
   "cell_type": "markdown",
   "metadata": {},
   "source": [
    "## Convolutional neural networks\n",
    "\n"
   ]
  },
  {
   "cell_type": "code",
   "execution_count": null,
   "metadata": {
    "ExecuteTime": {
     "start_time": "2018-05-18T15:11:19.453Z"
    }
   },
   "outputs": [],
   "source": [
    "from CHAMP.DataLoader import LoadData\n",
    "from CHAMP.DataTools import LocalContrastNormalization, FilterInputData, GenerateMask\n",
    "from CHAMP.Monitor import DisplayDico, DisplayConvergenceCHAMP, DisplayWhere\n",
    "\n",
    "import os\n",
    "home = os.getenv('HOME')\n",
    "datapath = os.path.join(home, \"tmp/database\")\n",
    "path = os.path.join(datapath, \"Face_DataBase\")\n",
    "TrSet, TeSet = LoadData('Face', path, decorrelate=False, resize=(65, 65))\n",
    "to_display = TrSet[0][0, 0:10, :, :, :]\n",
    "print('Size=', TrSet[0].shape)\n",
    "DisplayDico(to_display)"
   ]
  },
  {
   "cell_type": "markdown",
   "metadata": {},
   "source": [
    "### Training on a face database\n"
   ]
  },
  {
   "cell_type": "code",
   "execution_count": null,
   "metadata": {
    "ExecuteTime": {
     "start_time": "2018-05-18T15:11:19.456Z"
    }
   },
   "outputs": [],
   "source": [
    "# MP Parameters\n",
    "nb_dico = 20\n",
    "width = 9\n",
    "dico_size = (width, width)\n",
    "l0 = 20\n",
    "seed = 30\n",
    "# Learning Parameters\n",
    "eta = .05\n",
    "nb_epoch = 500\n",
    "\n",
    "TrSet, TeSet = LoadData('Face', path, decorrelate=False, resize=(65, 65))\n",
    "N_TrSet, _, _, _ = LocalContrastNormalization(TrSet)\n",
    "Filtered_L_TrSet = FilterInputData(\n",
    "    N_TrSet, sigma=0.25, style='Custom', start_R=15)\n",
    "to_display = Filtered_L_TrSet[0][0, 0:10, :, :, :]\n",
    "DisplayDico(to_display)\n",
    "\n",
    "mask = GenerateMask(full_size=(nb_dico, 1, width, width), sigma=0.8, style='Gaussian')\n",
    "DisplayDico(mask)"
   ]
  },
  {
   "cell_type": "markdown",
   "metadata": {},
   "source": [
    "### Training the ConvMP Layer with homeostasis\n"
   ]
  },
  {
   "cell_type": "code",
   "execution_count": null,
   "metadata": {
    "ExecuteTime": {
     "start_time": "2018-05-18T15:11:19.459Z"
    }
   },
   "outputs": [],
   "source": [
    "from CHAMP.CHAMP_Layer import CHAMP_Layer\n",
    "\n",
    "from CHAMP.DataTools import SaveNetwork, LoadNetwork\n",
    "fname = 'data_cache/CHAMP_low_None.pkl'\n",
    "try:\n",
    "    L1_mask = LoadNetwork(loading_path=fname)\n",
    "except:\n",
    "    L1_mask = CHAMP_Layer(l0_sparseness=l0, nb_dico=nb_dico,\n",
    "                      dico_size=dico_size, mask=mask, verbose=2)\n",
    "    dico_mask = L1_mask.TrainLayer(\n",
    "        Filtered_L_TrSet, eta=eta, nb_epoch=nb_epoch, seed=seed)\n",
    "    SaveNetwork(Network=L1_mask, saving_path=fname)\n",
    "\n",
    "DisplayDico(L1_mask.dictionary)\n",
    "DisplayConvergenceCHAMP(L1_mask, to_display=['error', 'histo'])\n",
    "DisplayWhere(L1_mask.where)\n"
   ]
  },
  {
   "cell_type": "markdown",
   "metadata": {},
   "source": [
    "### Training the ConvMP Layer with homeostasis\n"
   ]
  },
  {
   "cell_type": "code",
   "execution_count": null,
   "metadata": {
    "ExecuteTime": {
     "start_time": "2018-05-18T15:11:19.462Z"
    }
   },
   "outputs": [],
   "source": [
    "fname = 'data_cache/CHAMP_low_HAP.pkl'\n",
    "try:\n",
    "    L1_mask = LoadNetwork(loading_path=fname)\n",
    "except:\n",
    "\n",
    "    # Learning Parameters\n",
    "    eta_homeo = 0.0025\n",
    "    L1_mask = CHAMP_Layer(l0_sparseness=l0, nb_dico=nb_dico,\n",
    "                          dico_size=dico_size, mask=mask, verbose=1)\n",
    "    dico_mask = L1_mask.TrainLayer(\n",
    "        Filtered_L_TrSet, eta=eta, eta_homeo=eta_homeo, nb_epoch=nb_epoch, seed=seed)\n",
    "    SaveNetwork(Network=L1_mask, saving_path=fname)\n",
    "\n",
    "DisplayDico(L1_mask.dictionary)\n",
    "DisplayConvergenceCHAMP(L1_mask, to_display=['error', 'histo'])\n",
    "DisplayWhere(L1_mask.where)"
   ]
  },
  {
   "cell_type": "markdown",
   "metadata": {},
   "source": [
    "### Reconstructing the input image"
   ]
  },
  {
   "cell_type": "code",
   "execution_count": null,
   "metadata": {
    "ExecuteTime": {
     "start_time": "2018-05-18T15:11:19.465Z"
    }
   },
   "outputs": [],
   "source": [
    "from CHAMP.DataTools import Rebuilt\n",
    "import torch\n",
    "rebuilt_image = Rebuilt(torch.FloatTensor(L1_mask.code), L1_mask.dictionary)\n",
    "DisplayDico(rebuilt_image[0:10, :, :, :])"
   ]
  },
  {
   "cell_type": "markdown",
   "metadata": {},
   "source": [
    "### Training the ConvMP Layer with higher-level filters\n",
    "\n",
    "We train higher-level feature vectors by forcing the network to :\n",
    "\n",
    "- learn bigger filters,\n",
    "- represent the information using a bigger dictionary (higher sparseness)\n",
    "- represent the information with less features (higher sparseness)\n",
    "\n"
   ]
  },
  {
   "cell_type": "code",
   "execution_count": null,
   "metadata": {
    "ExecuteTime": {
     "start_time": "2018-05-18T15:11:19.469Z"
    }
   },
   "outputs": [],
   "source": [
    "fname = 'data_cache/CHAMP_high_None.pkl'\n",
    "try:\n",
    "    L1_mask = LoadNetwork(loading_path=fname)\n",
    "except:\n",
    "\n",
    "    nb_dico = 60\n",
    "    width = 19\n",
    "    dico_size = (width, width)\n",
    "    l0 = 5\n",
    "    mask = GenerateMask(full_size=(nb_dico, 1, width, width), sigma=0.8, style='Gaussian')\n",
    "    # Learning Parameters\n",
    "    eta_homeo = 0.0\n",
    "    eta = .05\n",
    "    nb_epoch = 500\n",
    "    # learn\n",
    "    L1_mask = CHAMP_Layer(l0_sparseness=l0, nb_dico=nb_dico,\n",
    "                          dico_size=dico_size, mask=mask, verbose=0)\n",
    "    dico_mask = L1_mask.TrainLayer(\n",
    "        Filtered_L_TrSet, eta=eta, eta_homeo=eta_homeo, nb_epoch=nb_epoch, seed=seed)\n",
    "    SaveNetwork(Network=L1_mask, saving_path=fname)\n",
    "\n",
    "\n",
    "DisplayDico(L1_mask.dictionary)\n",
    "DisplayConvergenceCHAMP(L1_mask, to_display=['error', 'histo'])\n",
    "DisplayWhere(L1_mask.where)"
   ]
  },
  {
   "cell_type": "code",
   "execution_count": null,
   "metadata": {
    "ExecuteTime": {
     "start_time": "2018-05-18T15:11:19.472Z"
    }
   },
   "outputs": [],
   "source": [
    "fname = 'data_cache/CHAMP_high_HAP.pkl'\n",
    "try:\n",
    "    L1_mask = LoadNetwork(loading_path=fname)\n",
    "except:\n",
    "\n",
    "    nb_dico = 60\n",
    "    width = 19\n",
    "    dico_size = (width, width)\n",
    "    l0 = 5\n",
    "    mask = GenerateMask(full_size=(nb_dico, 1, width, width), sigma=0.8, style='Gaussian')\n",
    "    # Learning Parameters\n",
    "    eta_homeo = 0.0025\n",
    "    eta = .05\n",
    "    nb_epoch = 500\n",
    "    # learn\n",
    "    L1_mask = CHAMP_Layer(l0_sparseness=l0, nb_dico=nb_dico,\n",
    "                          dico_size=dico_size, mask=mask, verbose=0)\n",
    "    dico_mask = L1_mask.TrainLayer(\n",
    "        Filtered_L_TrSet, eta=eta, eta_homeo=eta_homeo, nb_epoch=nb_epoch, seed=seed)\n",
    "    SaveNetwork(Network=L1_mask, saving_path=fname)\n",
    "\n",
    "DisplayDico(L1_mask.dictionary)\n",
    "DisplayConvergenceCHAMP(L1_mask, to_display=['error', 'histo'])\n",
    "DisplayWhere(L1_mask.where)"
   ]
  },
  {
   "cell_type": "markdown",
   "metadata": {},
   "source": [
    "### Training on MNIST database\n"
   ]
  },
  {
   "cell_type": "raw",
   "metadata": {},
   "source": [
    "fname = 'data_cache/CHAMP_MNIST_HAP.pkl'\n",
    "try:\n",
    "    L1_mask = LoadNetwork(loading_path=fname)\n",
    "except:\n",
    "\n",
    "    path = os.path.join(datapath, \"MNISTtorch\")\n",
    "    \n",
    "    TrSet, TeSet = LoadData('MNIST', data_path=path)\n",
    "    N_TrSet, _, _, _ = LocalContrastNormalization(TrSet)\n",
    "    Filtered_L_TrSet = FilterInputData(\n",
    "        N_TrSet, sigma=0.25, style='Custom', start_R=15)\n",
    "\n",
    "\n",
    "    nb_dico = 60\n",
    "    width = 7\n",
    "    dico_size = (width, width)\n",
    "    l0 = 15\n",
    "    # Learning Parameters\n",
    "    eta_homeo = 0.0025\n",
    "    eta = .05\n",
    "    nb_epoch = 500\n",
    "    # learn\n",
    "    L1_mask = CHAMP_Layer(l0_sparseness=l0, nb_dico=nb_dico,\n",
    "                          dico_size=dico_size, mask=mask, verbose=2)\n",
    "    dico_mask = L1_mask.TrainLayer(\n",
    "        Filtered_L_TrSet, eta=eta, eta_homeo=eta_homeo, nb_epoch=nb_epoch, seed=seed)\n",
    "    SaveNetwork(Network=L1_mask, saving_path=fname)\n",
    "\n",
    "DisplayDico(L1_mask.dictionary)\n",
    "DisplayConvergenceCHAMP(L1_mask, to_display=['error', 'histo'])\n",
    "DisplayWhere(L1_mask.where)"
   ]
  },
  {
   "cell_type": "markdown",
   "metadata": {},
   "source": [
    "# Computational details\n",
    "\n"
   ]
  },
  {
   "cell_type": "markdown",
   "metadata": {},
   "source": [
    "## caching simulation data\n",
    "\n",
    "A convenience script to run and cache most learning items in this notebooks:"
   ]
  },
  {
   "cell_type": "raw",
   "metadata": {},
   "source": [
    "!ls -l {shl.data_cache}/{tag}*\n",
    "!rm {shl.data_cache}/{tag}*lock*"
   ]
  },
  {
   "cell_type": "raw",
   "metadata": {},
   "source": [
    "!rm {shl.data_cache}/{tag}*\n",
    "!ls -l {shl.data_cache}/{tag}*"
   ]
  },
  {
   "cell_type": "code",
   "execution_count": null,
   "metadata": {
    "ExecuteTime": {
     "start_time": "2018-05-18T15:11:19.598Z"
    }
   },
   "outputs": [],
   "source": [
    "%%writefile nips.py\n",
    "#!/usr/bin/env python3\n",
    "# -*- coding: utf-8 -*\n",
    "from shl_scripts.shl_experiments import SHL\n",
    "\n",
    "# pre-loading data\n",
    "datapath = '../../SHL_master/database'\n",
    "shl = SHL(datapath=datapath)\n",
    "data = shl.get_data(matname='data')\n",
    "\n",
    "tag = 'NIPS'\n",
    "# Figure 1 & 3\n",
    "N_cv = 10\n",
    "homeo_methods = ['None', 'OLS', 'HEH', 'HAP', 'EMP']\n",
    "seed = 42\n",
    "\n",
    "list_figures = []\n",
    "for i_cv in range(N_cv):\n",
    "    for homeo_method in homeo_methods:\n",
    "        shl = SHL(homeo_method=homeo_method, seed=seed+i_cv)\n",
    "        shl.learn_dico(data=data, list_figures=list_figures, matname=tag + '_' + homeo_method + '_' + str(i_cv))\n",
    "\n",
    "# Figure 2-B\n",
    "from shl_scripts.shl_experiments import SHL_set\n",
    "variables = ['eta', 'alpha_homeo', 'eta_homeo', 'l0_sparseness']\n",
    "\n",
    "variables = ['eta', 'alpha_homeo', 'eta_homeo']\n",
    "\n",
    "n_jobs = 18 # running in parallel on a multi-core machine\n",
    "for homeo_method in homeo_methods:\n",
    "    experiments = SHL_set(dict(homeo_method=homeo_method, datapath=datapath), tag=tag + '_' + homeo_method)\n",
    "    experiments.run(variables=variables, n_jobs=n_jobs, verbose=0)\n",
    "\n",
    "\n",
    "for algorithm in ['lasso_lars', 'lasso_cd', 'lars', 'omp', 'mp']: # 'threshold',\n",
    "    opts = dict(homeo_method='None', learning_algorithm=algorithm, verbose=0)\n",
    "    shl = SHL(opts)\n"
   ]
  },
  {
   "cell_type": "code",
   "execution_count": null,
   "metadata": {
    "ExecuteTime": {
     "start_time": "2018-05-18T15:11:19.600Z"
    },
    "scrolled": false
   },
   "outputs": [],
   "source": [
    "%run nips.py"
   ]
  },
  {
   "cell_type": "markdown",
   "metadata": {},
   "source": [
    "## Version used"
   ]
  },
  {
   "cell_type": "code",
   "execution_count": null,
   "metadata": {
    "ExecuteTime": {
     "start_time": "2018-05-18T15:11:19.603Z"
    }
   },
   "outputs": [],
   "source": [
    "%load_ext version_information\n",
    "%version_information numpy, shl_scripts"
   ]
  },
  {
   "cell_type": "markdown",
   "metadata": {},
   "source": [
    "##  version control"
   ]
  },
  {
   "cell_type": "code",
   "execution_count": null,
   "metadata": {
    "ExecuteTime": {
     "start_time": "2018-05-18T15:11:19.605Z"
    }
   },
   "outputs": [],
   "source": [
    "!git status"
   ]
  },
  {
   "cell_type": "code",
   "execution_count": null,
   "metadata": {
    "ExecuteTime": {
     "start_time": "2018-05-18T15:11:19.608Z"
    }
   },
   "outputs": [],
   "source": [
    "!git pull"
   ]
  },
  {
   "cell_type": "code",
   "execution_count": null,
   "metadata": {
    "ExecuteTime": {
     "start_time": "2018-05-18T15:11:19.611Z"
    }
   },
   "outputs": [],
   "source": [
    "!git commit -am' NIPS : final submission' "
   ]
  },
  {
   "cell_type": "code",
   "execution_count": null,
   "metadata": {
    "ExecuteTime": {
     "start_time": "2018-05-18T15:11:19.613Z"
    }
   },
   "outputs": [],
   "source": [
    "!git push"
   ]
  },
  {
   "cell_type": "markdown",
   "metadata": {},
   "source": [
    "##  exporting the notebook"
   ]
  },
  {
   "cell_type": "code",
   "execution_count": null,
   "metadata": {
    "ExecuteTime": {
     "start_time": "2018-05-18T15:11:19.615Z"
    }
   },
   "outputs": [],
   "source": [
    "!jupyter-nbconvert Annex.ipynb"
   ]
  },
  {
   "cell_type": "raw",
   "metadata": {},
   "source": [
    "!jupyter-nbconvert --template report --to pdf Annex.ipynb"
   ]
  },
  {
   "cell_type": "raw",
   "metadata": {},
   "source": [
    "!pandoc Annex.html -o Annex.pdf"
   ]
  },
  {
   "cell_type": "code",
   "execution_count": null,
   "metadata": {
    "ExecuteTime": {
     "start_time": "2018-05-18T15:11:19.689Z"
    }
   },
   "outputs": [],
   "source": [
    "!zip Annex.zip Annex.html"
   ]
  },
  {
   "cell_type": "markdown",
   "metadata": {},
   "source": [
    "Done. Thanks for your attention!"
   ]
  }
 ],
 "metadata": {
  "kernelspec": {
   "display_name": "Python 3",
   "language": "python",
   "name": "python3"
  },
  "language_info": {
   "codemirror_mode": {
    "name": "ipython",
    "version": 3
   },
   "file_extension": ".py",
   "mimetype": "text/x-python",
   "name": "python",
   "nbconvert_exporter": "python",
   "pygments_lexer": "ipython3",
   "version": "3.6.5"
  },
  "toc": {
   "base_numbering": 1,
   "nav_menu": {},
   "number_sections": true,
   "sideBar": true,
   "skip_h1_title": false,
   "title_cell": "Table of Contents",
   "title_sidebar": "Contents",
   "toc_cell": false,
   "toc_position": {},
   "toc_section_display": true,
   "toc_window_display": false
  }
 },
 "nbformat": 4,
 "nbformat_minor": 2
}
