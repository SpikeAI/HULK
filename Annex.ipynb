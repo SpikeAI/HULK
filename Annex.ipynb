{
 "cells": [
  {
   "cell_type": "markdown",
   "metadata": {},
   "source": [
    "# Annex to \"An adaptive algorithm for unsupervised learning\"\n",
    "\n",
    "\n"
   ]
  },
  {
   "cell_type": "code",
   "execution_count": 1,
   "metadata": {
    "ExecuteTime": {
     "end_time": "2018-05-17T12:54:11.763712Z",
     "start_time": "2018-05-17T12:54:11.751943Z"
    }
   },
   "outputs": [],
   "source": [
    "%load_ext autoreload\n",
    "%autoreload 2"
   ]
  },
  {
   "cell_type": "code",
   "execution_count": 2,
   "metadata": {
    "ExecuteTime": {
     "end_time": "2018-05-17T12:54:11.837343Z",
     "start_time": "2018-05-17T12:54:11.765300Z"
    }
   },
   "outputs": [],
   "source": [
    "import numpy as np\n",
    "np.set_printoptions(precision=2, suppress=True)\n",
    "seed = 42\n",
    "np.random.seed(seed)"
   ]
  },
  {
   "cell_type": "code",
   "execution_count": 3,
   "metadata": {
    "ExecuteTime": {
     "end_time": "2018-05-17T12:54:11.997870Z",
     "start_time": "2018-05-17T12:54:11.839202Z"
    }
   },
   "outputs": [],
   "source": [
    "# for figures\n",
    "import matplotlib.pyplot as plt\n",
    "\n",
    "fontsize = 12\n",
    "FORMATS = ['.png']\n",
    "FORMATS = ['.pdf', '.eps', '.svg']\n",
    "FORMATS = ['.png', '.pdf']\n",
    "FORMATS = ['.pdf']\n",
    "FORMATS = ['.pdf', '.eps', '.png', '.tiff']\n",
    "FORMATS = ['.pdf', '.png', '.tiff']\n",
    "dpi_export = 600\n",
    "\n",
    "fig_width_pt = 318.670  # Get this from LaTeX using \\showthe\\columnwidth\n",
    "fig_width_pt = 450  # Get this from LaTeX using \\showthe\\columnwidth\n",
    "#fig_width_pt = 1024 #221     # Get this from LaTeX using \\showthe\\columnwidth / x264 asks for a multiple of 2\n",
    "ppi = 72.27 # (constant) definition of the ppi = points per inch\n",
    "inches_per_pt = 1.0/ppi  # Convert pt to inches\n",
    "#inches_per_cm = 1./2.54\n",
    "fig_width = fig_width_pt*inches_per_pt  # width in inches\n",
    "grid_fig_width = 2*fig_width\n",
    "phi = (np.sqrt(5) + 1. ) /2\n",
    "#legend.fontsize = 8\n",
    "#fig_width = 9\n",
    "fig_height = fig_width/phi\n",
    "figsize = (fig_width, fig_height)\n",
    "\n",
    "\n",
    "def adjust_spines(ax, spines):\n",
    "    for loc, spine in ax.spines.items():\n",
    "        if loc in spines:\n",
    "            spine.set_position(('outward', 10))  # outward by 10 points\n",
    "            spine.set_smart_bounds(True)\n",
    "        else:\n",
    "            spine.set_color('none')  # don't draw spine\n",
    "\n",
    "    # turn off ticks where there is no spine\n",
    "    if 'left' in spines:\n",
    "        ax.yaxis.set_ticks_position('left')\n",
    "    else:\n",
    "        # no yaxis ticks\n",
    "        ax.yaxis.set_ticks([])\n",
    "\n",
    "    if 'bottom' in spines:\n",
    "        ax.xaxis.set_ticks_position('bottom')\n",
    "    else:\n",
    "        # no xaxis ticks\n",
    "        ax.xaxis.set_ticks([])\n",
    "\n",
    "import matplotlib\n",
    "pylab_defaults = { \n",
    "    'font.size': 10,\n",
    "    'xtick.labelsize':'medium',\n",
    "    'ytick.labelsize':'medium',\n",
    "    'text.usetex': False,\n",
    "#    'font.family' : 'sans-serif',\n",
    "#    'font.sans-serif' : ['Helvetica'],\n",
    "    }\n",
    "    \n",
    "#matplotlib.rcParams.update({'font.size': 18, 'font.family': 'STIXGeneral', 'mathtext.fontset': 'stix'})\n",
    "matplotlib.rcParams.update(pylab_defaults)\n",
    "#matplotlib.rcParams.update({'text.usetex': True})\n",
    "\n",
    "import matplotlib.cm as cm\n",
    "\n",
    "\n",
    "from IPython.display import Image\n",
    "\n",
    "DEBUG = True\n",
    "DEBUG = False\n",
    "hl, hs = 10*'🐶', 10*''"
   ]
  },
  {
   "cell_type": "code",
   "execution_count": 4,
   "metadata": {
    "ExecuteTime": {
     "end_time": "2018-05-17T12:54:12.010463Z",
     "start_time": "2018-05-17T12:54:11.999598Z"
    }
   },
   "outputs": [],
   "source": [
    "tag = 'NIPS'"
   ]
  },
  {
   "cell_type": "code",
   "execution_count": 5,
   "metadata": {
    "ExecuteTime": {
     "end_time": "2018-05-17T12:54:12.132399Z",
     "start_time": "2018-05-17T12:54:12.012148Z"
    },
    "scrolled": false
   },
   "outputs": [],
   "source": [
    "from shl_scripts.shl_experiments import SHL\n",
    "shl = SHL(datapath='../../SHL_master/database')\n",
    "data = shl.get_data(matname=tag + '_test')"
   ]
  },
  {
   "cell_type": "code",
   "execution_count": 6,
   "metadata": {
    "ExecuteTime": {
     "end_time": "2018-05-17T12:54:12.275180Z",
     "start_time": "2018-05-17T12:54:12.134342Z"
    },
    "scrolled": false
   },
   "outputs": [
    {
     "name": "stdout",
     "output_type": "stream",
     "text": [
      "number of patches, size of patches =  (65520, 324)\n",
      "average of patches =  -1.3425387896193824e-05  +/-  0.005884598016072352\n",
      "average energy of data =  0.18808326809398868 +/- 0.07074991784868241\n"
     ]
    }
   ],
   "source": [
    "print('number of patches, size of patches = ', data.shape)\n",
    "print('average of patches = ', data.mean(), ' +/- ', data.mean(axis=1).std())\n",
    "SE = np.sqrt(np.mean(data**2, axis=1))\n",
    "print('average energy of data = ', SE.mean(), '+/-', SE.std())"
   ]
  },
  {
   "cell_type": "markdown",
   "metadata": {},
   "source": [
    "## figure 1:  Role of homeostasis in learning sparse representations\n",
    "\n",
    "# TODO : cross-validate with 10 different learnings"
   ]
  },
  {
   "cell_type": "code",
   "execution_count": 7,
   "metadata": {
    "ExecuteTime": {
     "end_time": "2018-05-17T12:54:12.287797Z",
     "start_time": "2018-05-17T12:54:12.276926Z"
    }
   },
   "outputs": [],
   "source": [
    "fname = 'figure_map'"
   ]
  },
  {
   "cell_type": "code",
   "execution_count": 8,
   "metadata": {
    "ExecuteTime": {
     "end_time": "2018-05-17T12:54:12.533087Z",
     "start_time": "2018-05-17T12:54:12.289404Z"
    }
   },
   "outputs": [
    {
     "name": "stdout",
     "output_type": "stream",
     "text": [
      "-rw-r--r--  1 laurentperrinet  staff  169827968 May 17 14:53 data_cache/NIPS_test_data.npy\n",
      "rm: data_cache/NIPS*lock*: No such file or directory\n"
     ]
    }
   ],
   "source": [
    "!ls -l {shl.data_cache}/{tag}*\n",
    "!rm {shl.data_cache}/{tag}*lock*"
   ]
  },
  {
   "cell_type": "raw",
   "metadata": {},
   "source": [
    "!rm {shl.data_cache}/{tag}*\n",
    "!ls -l {shl.data_cache}/{tag}*"
   ]
  },
  {
   "cell_type": "markdown",
   "metadata": {},
   "source": [
    "### learning\n",
    "\n",
    "The actual learning is done in a second object (here ``dico``) from which we can access another set of properties and functions  (see the [shl_learn.py](https://github.com/bicv/SHL_scripts/blob/master/shl_scripts/shl_learn.py) script):"
   ]
  },
  {
   "cell_type": "code",
   "execution_count": null,
   "metadata": {
    "ExecuteTime": {
     "start_time": "2018-05-17T12:54:11.765Z"
    },
    "scrolled": false
   },
   "outputs": [
    {
     "name": "stdout",
     "output_type": "stream",
     "text": [
      "🐶🐶🐶🐶🐶🐶🐶🐶🐶🐶None🐶🐶🐶🐶🐶🐶🐶🐶🐶🐶\n"
     ]
    }
   ],
   "source": [
    "homeo_methods = ['None', 'OLS', 'HEH']\n",
    "\n",
    "list_figures = ['show_dico', 'time_plot_error', 'time_plot_logL', 'time_plot_MC', 'show_Pcum']\n",
    "list_figures = ['show_dico']\n",
    "dico = {}\n",
    "for homeo_method in homeo_methods:\n",
    "    print(hl + hs + homeo_method + hs + hl)\n",
    "    shl = SHL(homeo_method=homeo_method)\n",
    "    dico[homeo_method] = shl.learn_dico(data=data, list_figures=list_figures, matname=tag + '_' + homeo_method)\n",
    "\n",
    "    print('size of dictionary = (number of filters, size of imagelets) = ', dico[homeo_method].dictionary.shape)\n",
    "    print('average of filters = ',  dico[homeo_method].dictionary.mean(axis=1).mean(), \n",
    "          '+/-',  dico[homeo_method].dictionary.mean(axis=1).std())\n",
    "    SE = np.sqrt(np.sum(dico[homeo_method].dictionary**2, axis=1))\n",
    "    print('average energy of filters = ', SE.mean(), '+/-', SE.std())\n"
   ]
  },
  {
   "cell_type": "markdown",
   "metadata": {},
   "source": [
    "### panel A: plotting some dictionaries\n",
    "\n"
   ]
  },
  {
   "cell_type": "code",
   "execution_count": null,
   "metadata": {
    "ExecuteTime": {
     "start_time": "2018-05-17T12:54:11.766Z"
    }
   },
   "outputs": [],
   "source": [
    "pname = fname + '_A'"
   ]
  },
  {
   "cell_type": "code",
   "execution_count": null,
   "metadata": {
    "ExecuteTime": {
     "start_time": "2018-05-17T12:54:11.767Z"
    }
   },
   "outputs": [],
   "source": [
    "from shl_scripts import show_dico\n",
    "if DEBUG: show_dico(shl, dico[homeo_method], dim_graph=(2,5))"
   ]
  },
  {
   "cell_type": "code",
   "execution_count": null,
   "metadata": {
    "ExecuteTime": {
     "start_time": "2018-05-17T12:54:11.768Z"
    }
   },
   "outputs": [],
   "source": [
    "homeo_methods"
   ]
  },
  {
   "cell_type": "code",
   "execution_count": null,
   "metadata": {
    "ExecuteTime": {
     "start_time": "2018-05-17T12:54:11.769Z"
    }
   },
   "outputs": [],
   "source": [
    "dim_graph = (2, 9)\n",
    "\n",
    "subplotpars = dict( left=0.042, right=1., bottom=0., top=1., wspace=0.05, hspace=0.05,)\n",
    "fig, axs = plt.subplots(3, 1, figsize=(fig_width/2, fig_width/(1+phi)), gridspec_kw=subplotpars)\n",
    "\n",
    "for ax, homeo_method in zip(axs.ravel(), homeo_methods): \n",
    "    ax.axis(c='b', lw=2, axisbg='w')\n",
    "    ax.set_facecolor('w')\n",
    "    from shl_scripts import show_dico\n",
    "    fig, ax = show_dico(shl, dico[homeo_method], dim_graph=dim_graph, fig=fig, ax=ax)\n",
    "    # ax.set_ylabel(homeo_method)\n",
    "    ax.text(-8, 7*dim_graph[0], homeo_method, fontsize=12, color='k', rotation=90)#, backgroundcolor='white'\n",
    "\n",
    "for ext in FORMATS: fig.savefig(pname + ext, dpi=dpi_export)"
   ]
  },
  {
   "cell_type": "code",
   "execution_count": null,
   "metadata": {
    "ExecuteTime": {
     "start_time": "2018-05-17T12:54:11.770Z"
    }
   },
   "outputs": [],
   "source": [
    "if DEBUG: Image(pname +'.png')"
   ]
  },
  {
   "cell_type": "code",
   "execution_count": null,
   "metadata": {
    "ExecuteTime": {
     "start_time": "2018-05-17T12:54:11.772Z"
    },
    "scrolled": true
   },
   "outputs": [],
   "source": [
    "if DEBUG: help(fig.subplots_adjust)"
   ]
  },
  {
   "cell_type": "code",
   "execution_count": null,
   "metadata": {
    "ExecuteTime": {
     "start_time": "2018-05-17T12:54:11.773Z"
    },
    "scrolled": true
   },
   "outputs": [],
   "source": [
    "if DEBUG: help(plt.subplots)"
   ]
  },
  {
   "cell_type": "code",
   "execution_count": null,
   "metadata": {
    "ExecuteTime": {
     "start_time": "2018-05-17T12:54:11.774Z"
    },
    "scrolled": false
   },
   "outputs": [],
   "source": [
    "if DEBUG: help(matplotlib.gridspec.GridSpec)"
   ]
  },
  {
   "cell_type": "markdown",
   "metadata": {},
   "source": [
    "### panel B: quantitative comparison\n",
    "\n"
   ]
  },
  {
   "cell_type": "code",
   "execution_count": null,
   "metadata": {
    "ExecuteTime": {
     "start_time": "2018-05-17T12:54:11.775Z"
    }
   },
   "outputs": [],
   "source": [
    "pname = fname + '_B'"
   ]
  },
  {
   "cell_type": "code",
   "execution_count": null,
   "metadata": {
    "ExecuteTime": {
     "start_time": "2018-05-17T12:54:11.776Z"
    }
   },
   "outputs": [],
   "source": [
    "from shl_scripts import time_plot\n",
    "\n",
    "subplotpars = dict(left=0.2, )# right=1., bottom=0., top=1., wspace=0.05, hspace=0.05,)\n",
    "fig, ax = plt.subplots(1, 1, figsize=(fig_width/2, fig_width/(1+phi)), gridspec_kw=subplotpars)\n",
    "colors = ['black', 'orange', 'blue']\n",
    "for color, homeo_method in zip(colors, homeo_methods): \n",
    "    ax.axis(c='b', lw=2, axisbg='w')\n",
    "    ax.set_facecolor('w')\n",
    "    fig, ax = time_plot(shl, dico[homeo_method], variable='perror', unit='bits', color=color, label=homeo_method, alpha=.6, fig=fig, ax=ax)\n",
    "    # ax.set_ylabel(homeo_method)\n",
    "    #ax.text(-8, 7*dim_graph[0], homeo_method, fontsize=12, color='k', rotation=90)#, backgroundcolor='white'\n",
    "fig.legend(loc='best')\n",
    "for ext in FORMATS: fig.savefig(pname + ext, dpi=dpi_export)\n",
    "Image(pname +'.png')"
   ]
  },
  {
   "cell_type": "markdown",
   "metadata": {},
   "source": [
    "\n",
    "### Montage of the subplots\n"
   ]
  },
  {
   "cell_type": "code",
   "execution_count": null,
   "metadata": {
    "ExecuteTime": {
     "start_time": "2018-05-17T12:54:11.777Z"
    }
   },
   "outputs": [],
   "source": [
    "import tikzmagic"
   ]
  },
  {
   "cell_type": "code",
   "execution_count": null,
   "metadata": {
    "ExecuteTime": {
     "start_time": "2018-05-17T12:54:11.778Z"
    }
   },
   "outputs": [],
   "source": [
    "%load_ext tikzmagic"
   ]
  },
  {
   "cell_type": "code",
   "execution_count": null,
   "metadata": {
    "ExecuteTime": {
     "start_time": "2018-05-17T12:54:11.779Z"
    },
    "scrolled": false
   },
   "outputs": [],
   "source": [
    "#DEBUG = True\n",
    "if DEBUG: help(tikzmagic)"
   ]
  },
  {
   "cell_type": "raw",
   "metadata": {},
   "source": [
    "%tikz \\draw (0,0) rectangle (1,1);"
   ]
  },
  {
   "cell_type": "raw",
   "metadata": {},
   "source": [
    "%%tikz --save {fname}.pdf\n",
    "\\draw[white, fill=white] (0.\\linewidth,0) rectangle (1.\\linewidth, .382\\linewidth) ;"
   ]
  },
  {
   "cell_type": "code",
   "execution_count": null,
   "metadata": {
    "ExecuteTime": {
     "start_time": "2018-05-17T12:54:11.814Z"
    }
   },
   "outputs": [],
   "source": [
    "%%tikz -f pdf --save {fname}.pdf\n",
    "\\draw[white, fill=white] (0.\\linewidth,0) rectangle (1.\\linewidth, .382\\linewidth) ;\n",
    "\\draw [anchor=north west] (.0\\linewidth, .382\\linewidth) node {\\includegraphics[width=.5\\linewidth]{figure_map_A}};\n",
    "\\draw [anchor=north west] (.5\\linewidth, .382\\linewidth) node {\\includegraphics[width=.5\\linewidth]{figure_map_B}};\n",
    "\\begin{scope}[font=\\bf\\sffamily\\large]\n",
    "\\draw [anchor=west,fill=white] (.0\\linewidth, .382\\linewidth) node [above right=-3mm] {$\\mathsf{A}$};\n",
    "\\draw [anchor=west,fill=white] (.53\\linewidth, .382\\linewidth) node [above right=-3mm] {$\\mathsf{B}$};\n",
    "\\end{scope}"
   ]
  },
  {
   "cell_type": "code",
   "execution_count": null,
   "metadata": {
    "ExecuteTime": {
     "start_time": "2018-05-17T12:54:11.816Z"
    }
   },
   "outputs": [],
   "source": [
    "!convert  -density {dpi_export} {fname}.pdf {fname}.jpg\n",
    "!convert  -density {dpi_export} {fname}.pdf {fname}.png\n",
    "!convert  -density {dpi_export} -resize 5400  -units pixelsperinch -flatten  -compress lzw  -depth 8 {fname}.pdf {fname}.tiff\n",
    "Image(fname +'.png')"
   ]
  },
  {
   "cell_type": "code",
   "execution_count": null,
   "metadata": {
    "ExecuteTime": {
     "start_time": "2018-05-17T12:54:11.817Z"
    }
   },
   "outputs": [],
   "source": [
    "!echo \"width=\" ; convert {fname}.tiff -format \"%[fx:w]\" info:\n",
    "!echo \", \\nheight=\" ; convert {fname}.tiff -format \"%[fx:h]\" info:\n",
    "!echo \", \\nunit=\" ; convert {fname}.tiff -format \"%U\" info:"
   ]
  },
  {
   "cell_type": "code",
   "execution_count": null,
   "metadata": {
    "ExecuteTime": {
     "start_time": "2018-05-17T12:54:11.818Z"
    }
   },
   "outputs": [],
   "source": [
    "!identify {fname}.tiff"
   ]
  },
  {
   "cell_type": "markdown",
   "metadata": {},
   "source": [
    "## figure 2: \n",
    "\n",
    "### learning\n"
   ]
  },
  {
   "cell_type": "code",
   "execution_count": null,
   "metadata": {
    "ExecuteTime": {
     "start_time": "2018-05-17T12:54:11.819Z"
    }
   },
   "outputs": [],
   "source": [
    "list_figures = ['show_Pcum']\n",
    "\n",
    "hl, hs = 10*'🐶', 10*''\n",
    "dico = {}\n",
    "for homeo_method in homeo_methods:\n",
    "    print(hl + hs + homeo_method + hs + hl)\n",
    "    shl = SHL(homeo_method=homeo_method)\n",
    "    dico[homeo_method] = shl.learn_dico(data=data, list_figures=list_figures, matname=tag + '_' + homeo_method)\n",
    "\n"
   ]
  },
  {
   "cell_type": "markdown",
   "metadata": {},
   "source": [
    "## coding\n",
    "\n",
    "The learning itself is done via a gradient descent but is highly dependent on the coding / decoding algorithm. This belongs to a another function (in the [shl_encode.py](https://github.com/bicv/SHL_scripts/blob/master/shl_scripts/shl_encode.py) script)"
   ]
  },
  {
   "cell_type": "code",
   "execution_count": null,
   "metadata": {
    "ExecuteTime": {
     "start_time": "2018-05-17T12:54:11.820Z"
    },
    "scrolled": false
   },
   "outputs": [],
   "source": [
    "record_num_batches = 2**12\n",
    "\n",
    "indx = np.random.permutation(data.shape[0])[:record_num_batches]\n",
    "\n",
    "#sparse_code = shl.code(data, dico_, matname=matname)\n",
    "P_cum_zeroeffect = np.linspace(0, 1, shl.nb_quant, endpoint=True)[np.newaxis, :] * np.ones((shl.n_dictionary, 1))\n",
    "#P_cum = dico_.P_cum\n",
    "#P_cum = None\n",
    "#l0_sparseness = 150\n",
    "l0_sparseness = shl.l0_sparseness\n",
    "\n",
    "\n",
    "from shl_scripts.shl_tools import show_data, print_stats\n",
    "coding_gain = {}\n",
    "for homeo_method in homeo_methods:\n",
    "    coding_gain[homeo_method] = {}\n",
    "    print(42*'🐶')\n",
    "    print(15*'🐶' + homeo_method[:3] + 15*'🐶')\n",
    "    print(42*'🐶')\n",
    "\n",
    "    from shl_scripts.shl_encode import mp\n",
    "    labels = ['Non', 'One', 'Hom']\n",
    "    for P_cum, gain, label in zip([None, P_cum_zeroeffect, dico[homeo_method].P_cum], [np.ones(shl.n_dictionary), None, None], labels):\n",
    "        sparse_code = mp(data[indx, :], dico[homeo_method].dictionary, l0_sparseness=l0_sparseness, P_cum=P_cum, gain=gain)\n",
    "        SD, SE = print_stats(data[indx, :], dico[homeo_method].dictionary, sparse_code)\n",
    "        coding_gain[homeo_method][label] = (SD/SE).mean()\n"
   ]
  },
  {
   "cell_type": "markdown",
   "metadata": {},
   "source": [
    "## figure 3:  \n",
    "\n",
    "### learning\n"
   ]
  },
  {
   "cell_type": "code",
   "execution_count": null,
   "metadata": {
    "ExecuteTime": {
     "start_time": "2018-05-17T12:54:11.822Z"
    },
    "scrolled": false
   },
   "outputs": [],
   "source": [
    "homeo_methods = ['EMP', 'HAP', 'HEH']\n",
    "\n",
    "list_figures = ['show_dico', 'time_plot_error', 'time_plot_logL', 'time_plot_MC', 'show_Pcum']\n",
    "list_figures = ['show_dico']\n",
    "dico = {}\n",
    "for homeo_method in homeo_methods:\n",
    "    print(hl + hs + homeo_method + hs + hl)\n",
    "    shl = SHL(homeo_method=homeo_method)\n",
    "    dico[homeo_method] = shl.learn_dico(data=data, list_figures=list_figures, matname=tag + '_' + homeo_method)\n",
    "\n",
    "    print('size of dictionary = (number of filters, size of imagelets) = ', dico[homeo_method].dictionary.shape)\n",
    "    print('average of filters = ',  dico[homeo_method].dictionary.mean(axis=1).mean(), \n",
    "          '+/-',  dico[homeo_method].dictionary.mean(axis=1).std())\n",
    "    SE = np.sqrt(np.sum(dico[homeo_method].dictionary**2, axis=1))\n",
    "    print('average energy of filters = ', SE.mean(), '+/-', SE.std())\n"
   ]
  },
  {
   "cell_type": "markdown",
   "metadata": {},
   "source": [
    "## coding\n",
    "\n",
    "The learning itself is done via a gradient descent but is highly dependent on the coding / decoding algorithm. This belongs to a another function (in the [shl_encode.py](https://github.com/bicv/SHL_scripts/blob/master/shl_scripts/shl_encode.py) script)"
   ]
  },
  {
   "cell_type": "markdown",
   "metadata": {},
   "source": [
    "## Version used"
   ]
  },
  {
   "cell_type": "code",
   "execution_count": null,
   "metadata": {
    "ExecuteTime": {
     "start_time": "2018-05-17T12:54:11.823Z"
    }
   },
   "outputs": [],
   "source": [
    "%load_ext version_information\n",
    "%version_information numpy, shl_scripts"
   ]
  }
 ],
 "metadata": {
  "kernelspec": {
   "display_name": "Python 3",
   "language": "python",
   "name": "python3"
  },
  "language_info": {
   "codemirror_mode": {
    "name": "ipython",
    "version": 3
   },
   "file_extension": ".py",
   "mimetype": "text/x-python",
   "name": "python",
   "nbconvert_exporter": "python",
   "pygments_lexer": "ipython3",
   "version": "3.6.5"
  },
  "toc": {
   "base_numbering": 1,
   "nav_menu": {},
   "number_sections": true,
   "sideBar": true,
   "skip_h1_title": false,
   "title_cell": "Table of Contents",
   "title_sidebar": "Contents",
   "toc_cell": false,
   "toc_position": {},
   "toc_section_display": true,
   "toc_window_display": false
  }
 },
 "nbformat": 4,
 "nbformat_minor": 2
}
